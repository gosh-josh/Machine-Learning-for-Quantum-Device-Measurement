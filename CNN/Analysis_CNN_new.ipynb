{
 "cells": [
  {
   "cell_type": "code",
   "execution_count": 1,
   "metadata": {
    "scrolled": false
   },
   "outputs": [
    {
     "data": {
      "text/plain": [
       "Reusing TensorBoard on port 6006 (pid 16499), started 0:35:07 ago. (Use '!kill 16499' to kill it.)"
      ]
     },
     "metadata": {},
     "output_type": "display_data"
    },
    {
     "data": {
      "text/html": [
       "\n",
       "      <iframe id=\"tensorboard-frame-5e676e430568691f\" width=\"100%\" height=\"800\" frameborder=\"0\">\n",
       "      </iframe>\n",
       "      <script>\n",
       "        (function() {\n",
       "          const frame = document.getElementById(\"tensorboard-frame-5e676e430568691f\");\n",
       "          const url = new URL(\"/\", window.location);\n",
       "          url.port = 6006;\n",
       "          frame.src = url;\n",
       "        })();\n",
       "      </script>\n",
       "  "
      ],
      "text/plain": [
       "<IPython.core.display.HTML object>"
      ]
     },
     "metadata": {},
     "output_type": "display_data"
    }
   ],
   "source": [
    "import matplotlib.pyplot as plt\n",
    "%matplotlib inline\n",
    "import numpy as np\n",
    "import pickle\n",
    "import tensorflow as tf\n",
    "from tensorflow.keras import datasets, layers, models, regularizers\n",
    "from tensorflow import keras as k\n",
    "import random\n",
    "from tqdm import tqdm\n",
    "import shutil\n",
    "import datetime, os\n",
    "\n",
    "cwd = os.getcwd()\n",
    "primary_dir = os.fsencode(cwd)\n",
    "\n",
    "shutil.rmtree(\"/Users/joshking/Dropbox/Quantum/logs\")\n",
    "logs_base_dir = \"/Users/joshking/Dropbox/Quantum/logs\"\n",
    "os.makedirs(logs_base_dir, exist_ok=True)\n",
    "%reload_ext tensorboard\n",
    "%tensorboard --logdir {logs_base_dir}\n",
    "tensorboard_callback = k.callbacks.TensorBoard(log_dir=logs_base_dir,update_freq='epoch',embeddings_freq=0,\n",
    "                                               profile_batch = 0)\n",
    "writer = tf.summary.create_file_writer(\"/Users/joshking/Dropbox/Quantum/logs\")"
   ]
  },
  {
   "cell_type": "code",
   "execution_count": 2,
   "metadata": {},
   "outputs": [],
   "source": [
    "binary_dict = {0: 'No triangle', 1 : 'Bias triangle'}"
   ]
  },
  {
   "cell_type": "code",
   "execution_count": 3,
   "metadata": {},
   "outputs": [],
   "source": [
    "def create_model(pixel_size=32,dense_layers = [32*2,32],drop_out=0.4,l2=0.0001):\n",
    "    model = models.Sequential()\n",
    "    model.add(layers.Conv2D(pixel_size, (3, 3), activation='relu', input_shape=(pixel_size, pixel_size, 1), padding=\"SAME\"))\n",
    "    model.add(layers.MaxPooling2D((2, 2)))\n",
    "    model.add(layers.Conv2D(pixel_size*2, (3, 3), activation='relu', padding=\"SAME\"))\n",
    "    model.add(layers.MaxPooling2D((2, 2)))\n",
    "    model.add(layers.Conv2D(pixel_size*2, (3, 3), activation='relu', padding=\"SAME\"))\n",
    "    model.add(layers.MaxPooling2D((2, 2)))\n",
    "    model.add(layers.Conv2D(pixel_size*2, (3, 3), activation='relu', padding=\"SAME\"))\n",
    "    model.add(layers.MaxPooling2D((2, 2)))\n",
    "    model.add(layers.Conv2D(pixel_size*2, (3, 3), activation='relu', padding=\"SAME\"))\n",
    "    model.add(layers.MaxPooling2D((2, 2)))\n",
    "    model.add(layers.Conv2D(pixel_size*2, (3, 3), activation='relu', padding=\"SAME\"))\n",
    "\n",
    "    model.add(layers.Flatten())\n",
    "    for dense_layer in dense_layers:\n",
    "        model.add(layers.Dense(dense_layer, activation='elu',kernel_regularizer=regularizers.l2(l2)))\n",
    "        model.add(layers.Dropout(drop_out))\n",
    "    \n",
    "    model.add(layers.Dense(1, activation='sigmoid'))\n",
    "    return model\n",
    "\n",
    "def compile_model(model):\n",
    "    model.compile(optimizer='adam',\n",
    "             loss='binary_crossentropy',\n",
    "              metrics=['accuracy'])\n",
    "    return model\n",
    "\n",
    "def train_model(model,train_images,train_labels,test_images,test_labels,epochs,batch_size):\n",
    "    history = model.fit(train_images,train_labels,shuffle=True, epochs=epochs, batch_size=batch_size, \n",
    "                        validation_data=(test_images,test_labels),callbacks=[tensorboard_callback])\n",
    "    return model, history\n",
    "\n",
    "def evaluate_model(model,history, test_images,test_labels):\n",
    "    plt.clf()\n",
    "    plt.plot(history.history['accuracy'], label='accuracy')\n",
    "    plt.plot(history.history['val_accuracy'], label = 'val_accuracy')\n",
    "    plt.xlabel('Epoch')\n",
    "    plt.ylabel('Accuracy')\n",
    "    plt.ylim([0.0, 1.1])\n",
    "    plt.legend(loc='lower right')\n",
    "    plt.show()\n",
    "    \n",
    "    test_loss, test_acc = model.evaluate(test_images,  test_labels, verbose=2)\n",
    "    return test_loss, test_acc\n",
    "\n",
    "def normalise(x, y):\n",
    "    x = tf.image.per_image_standardization(x)\n",
    "    return x, y"
   ]
  },
  {
   "cell_type": "code",
   "execution_count": 4,
   "metadata": {},
   "outputs": [
    {
     "name": "stdout",
     "output_type": "stream",
     "text": [
      "(23315, 32, 32)\n",
      "WARNING:tensorflow:From /Users/joshking/opt/anaconda3/lib/python3.7/site-packages/tensorflow_core/python/ops/image_ops_impl.py:1518: div (from tensorflow.python.ops.math_ops) is deprecated and will be removed in a future version.\n",
      "Instructions for updating:\n",
      "Deprecated in favor of operator or tf.math.divide.\n"
     ]
    }
   ],
   "source": [
    "data_total = np.load('/Users/joshking/Documents/01Masters/Data/all_data_16_03_2020.npy')\n",
    "labels_total = np.load('/Users/joshking/Documents/01Masters/Data/all_labels_16_03_2020.npy')\n",
    "#/Users/joshking/Dropbox/Quantum/Triangles/normalised_data_matrices_train.npy\n",
    "#/Users/joshking/Dropbox/Quantum/Triangles/normalised_data_labels_train.npy\n",
    "\n",
    "def myfunction():\n",
    "    return 0.9\n",
    "z=np.arange(len(data_total))\n",
    "random.shuffle(z)\n",
    "images_copy=data_total.copy()\n",
    "images_shuffle=data_total.copy()\n",
    "labels_copy=labels_total.copy()\n",
    "labels_shuffle=labels_total.copy()\n",
    "for i in range(len(data_total)):\n",
    "    images_shuffle[i]=images_copy[z[i]]\n",
    "    labels_shuffle[i]=labels_copy[z[i]]   \n",
    "print(images_shuffle.shape)\n",
    "\n",
    "images_shuffle,labels_shuffle = normalise(images_shuffle,labels_shuffle) \n",
    "\n",
    "\n",
    "val_split = 0.2\n",
    "val_set = np.int(val_split*np.shape(labels_shuffle)[0])\n",
    "\n",
    "train_images= np.array(images_shuffle[val_set:]).reshape(-1, 32, 32, 1)\n",
    "train_labels = np.array(labels_shuffle[val_set:]).reshape(-1, 1)\n",
    "validate_images = np.array(images_shuffle[:val_set]).reshape(-1, 32, 32, 1)\n",
    "validate_labels = np.array(labels_shuffle[:val_set]).reshape(-1, 1)"
   ]
  },
  {
   "cell_type": "code",
   "execution_count": 5,
   "metadata": {},
   "outputs": [],
   "source": [
    "def model_main(pixel_size=32,drop_out=0.4,l2=0.0001,epochs = 10,batch_size = 100):\n",
    "    print('Trained on '+str(len(train_labels)))\n",
    "    print('Validated on '+str(len(validate_labels)))\n",
    "\n",
    "    model_binary_classifier = create_model(pixel_size=pixel_size,drop_out=drop_out,l2=l2)\n",
    "    model_binary_classifier.summary()\n",
    "    model_binary_classifier = compile_model(model_binary_classifier)\n",
    "\n",
    "    val_loss, val_acc = train_model(model_binary_classifier,train_images,train_labels,validate_images,validate_labels,epochs,batch_size)\n",
    "\n",
    "\n",
    "    true_positive = []\n",
    "    false_positive = []\n",
    "    true_negative = []\n",
    "    false_negative = []\n",
    "    for i in tqdm(range(len(validate_labels))):\n",
    "\n",
    "            label = validate_labels[i][0]\n",
    "            prediction = model_binary_classifier.predict(validate_images[i:i+1])\n",
    "            if (prediction > 0.5):\n",
    "                prediction = 1\n",
    "            else:\n",
    "                prediction = 0\n",
    "            if (prediction == label):\n",
    "                if (label == 1):\n",
    "                    true_positive.append(validate_images[i:i+1])\n",
    "                    prnt = \"True positive\"\n",
    "                else:\n",
    "                    true_negative.append(validate_images[i:i+1])\n",
    "                    prnt = \"True negative\"\n",
    "            else:\n",
    "                if (label == 1):\n",
    "                    false_negative.append(validate_images[i:i+1])\n",
    "                    prnt = \"False negative\"\n",
    "                else:\n",
    "                    false_positive.append(validate_images[i:i+1])\n",
    "                    prnt = \"False positive\"\n",
    "            if (i<5):\n",
    "                print('------------------------------------------')\n",
    "                print(prnt)\n",
    "                print('Label = ', binary_dict[label],\" = \", label)\n",
    "                print('prediction = ', prediction)\n",
    "                plt.clf()\n",
    "                plt.imshow(validate_images[i][:,:,0])\n",
    "                plt.show()\n",
    "        \n",
    "    n_true_positive = np.shape(true_positive)[0]\n",
    "    n_false_positive = np.shape(false_positive)[0]\n",
    "    n_true_negative = np.shape(true_negative)[0]\n",
    "    n_false_negative = np.shape(false_negative)[0]\n",
    "    \n",
    "    total_test = n_true_positive + n_false_positive + n_true_negative + n_false_negative\n",
    "\n",
    "    percent_true_positive = 100 * n_true_positive/total_test\n",
    "    percent_false_positive = 100 *n_false_positive/total_test\n",
    "    percent_true_negative = 100 *n_true_negative/total_test\n",
    "    percent_false_negative = 100 *n_false_negative/total_test\n",
    "\n",
    "    return model_binary_classifier,percent_true_positive,percent_false_positive,percent_true_negative,percent_false_negative\n",
    "    \n",
    "    return\n"
   ]
  },
  {
   "cell_type": "code",
   "execution_count": null,
   "metadata": {},
   "outputs": [],
   "source": []
  },
  {
   "cell_type": "code",
   "execution_count": 6,
   "metadata": {},
   "outputs": [
    {
     "name": "stdout",
     "output_type": "stream",
     "text": [
      "Trained on 18652\n",
      "Validated on 4663\n",
      "Model: \"sequential\"\n",
      "_________________________________________________________________\n",
      "Layer (type)                 Output Shape              Param #   \n",
      "=================================================================\n",
      "conv2d (Conv2D)              (None, 32, 32, 32)        320       \n",
      "_________________________________________________________________\n",
      "max_pooling2d (MaxPooling2D) (None, 16, 16, 32)        0         \n",
      "_________________________________________________________________\n",
      "conv2d_1 (Conv2D)            (None, 16, 16, 64)        18496     \n",
      "_________________________________________________________________\n",
      "max_pooling2d_1 (MaxPooling2 (None, 8, 8, 64)          0         \n",
      "_________________________________________________________________\n",
      "conv2d_2 (Conv2D)            (None, 8, 8, 64)          36928     \n",
      "_________________________________________________________________\n",
      "max_pooling2d_2 (MaxPooling2 (None, 4, 4, 64)          0         \n",
      "_________________________________________________________________\n",
      "conv2d_3 (Conv2D)            (None, 4, 4, 64)          36928     \n",
      "_________________________________________________________________\n",
      "max_pooling2d_3 (MaxPooling2 (None, 2, 2, 64)          0         \n",
      "_________________________________________________________________\n",
      "conv2d_4 (Conv2D)            (None, 2, 2, 64)          36928     \n",
      "_________________________________________________________________\n",
      "max_pooling2d_4 (MaxPooling2 (None, 1, 1, 64)          0         \n",
      "_________________________________________________________________\n",
      "conv2d_5 (Conv2D)            (None, 1, 1, 64)          36928     \n",
      "_________________________________________________________________\n",
      "flatten (Flatten)            (None, 64)                0         \n",
      "_________________________________________________________________\n",
      "dense (Dense)                (None, 64)                4160      \n",
      "_________________________________________________________________\n",
      "dropout (Dropout)            (None, 64)                0         \n",
      "_________________________________________________________________\n",
      "dense_1 (Dense)              (None, 32)                2080      \n",
      "_________________________________________________________________\n",
      "dropout_1 (Dropout)          (None, 32)                0         \n",
      "_________________________________________________________________\n",
      "dense_2 (Dense)              (None, 1)                 33        \n",
      "=================================================================\n",
      "Total params: 172,801\n",
      "Trainable params: 172,801\n",
      "Non-trainable params: 0\n",
      "_________________________________________________________________\n",
      "Train on 18652 samples, validate on 4663 samples\n",
      "Epoch 1/10\n",
      "18652/18652 [==============================] - 38s 2ms/sample - loss: 0.3177 - accuracy: 0.8639 - val_loss: 0.2023 - val_accuracy: 0.9275\n",
      "Epoch 2/10\n",
      "18652/18652 [==============================] - 31s 2ms/sample - loss: 0.2020 - accuracy: 0.9183 - val_loss: 0.1626 - val_accuracy: 0.9391\n",
      "Epoch 3/10\n",
      "18652/18652 [==============================] - 31s 2ms/sample - loss: 0.1704 - accuracy: 0.9315 - val_loss: 0.1447 - val_accuracy: 0.9492\n",
      "Epoch 4/10\n",
      "18652/18652 [==============================] - 32s 2ms/sample - loss: 0.1558 - accuracy: 0.9395 - val_loss: 0.1255 - val_accuracy: 0.9539\n",
      "Epoch 5/10\n",
      "18652/18652 [==============================] - 31s 2ms/sample - loss: 0.1332 - accuracy: 0.9499 - val_loss: 0.1192 - val_accuracy: 0.9563\n",
      "Epoch 6/10\n",
      "18652/18652 [==============================] - 30s 2ms/sample - loss: 0.1179 - accuracy: 0.9563 - val_loss: 0.1189 - val_accuracy: 0.9554\n",
      "Epoch 7/10\n",
      "18652/18652 [==============================] - 31s 2ms/sample - loss: 0.1065 - accuracy: 0.9595 - val_loss: 0.1172 - val_accuracy: 0.9539\n",
      "Epoch 8/10\n",
      "18652/18652 [==============================] - 30s 2ms/sample - loss: 0.0960 - accuracy: 0.9643 - val_loss: 0.1295 - val_accuracy: 0.9498\n",
      "Epoch 9/10\n",
      "18652/18652 [==============================] - 29s 2ms/sample - loss: 0.0862 - accuracy: 0.9674 - val_loss: 0.1206 - val_accuracy: 0.9593\n",
      "Epoch 10/10\n",
      "18652/18652 [==============================] - 30s 2ms/sample - loss: 0.0703 - accuracy: 0.9744 - val_loss: 0.1546 - val_accuracy: 0.9524\n"
     ]
    },
    {
     "name": "stderr",
     "output_type": "stream",
     "text": [
      "\r",
      "  0%|          | 0/4663 [00:00<?, ?it/s]"
     ]
    },
    {
     "name": "stdout",
     "output_type": "stream",
     "text": [
      "------------------------------------------\n",
      "True negative\n",
      "Label =  No triangle  =  0\n",
      "prediction =  0\n"
     ]
    },
    {
     "data": {
      "image/png": "[encoded data removed]",
      "text/plain": [
       "<Figure size 432x288 with 1 Axes>"
      ]
     },
     "metadata": {
      "needs_background": "light"
     },
     "output_type": "display_data"
    },
    {
     "name": "stderr",
     "output_type": "stream",
     "text": [
      "\r",
      "  0%|          | 1/4663 [00:00<27:02,  2.87it/s]"
     ]
    },
    {
     "name": "stdout",
     "output_type": "stream",
     "text": [
      "------------------------------------------\n",
      "False positive\n",
      "Label =  No triangle  =  0\n",
      "prediction =  1\n"
     ]
    },
    {
     "data": {
      "image/png": "[encoded data removed]",
      "text/plain": [
       "<Figure size 432x288 with 1 Axes>"
      ]
     },
     "metadata": {
      "needs_background": "light"
     },
     "output_type": "display_data"
    },
    {
     "name": "stderr",
     "output_type": "stream",
     "text": [
      "\r",
      "  0%|          | 2/4663 [00:00<22:44,  3.42it/s]"
     ]
    },
    {
     "name": "stdout",
     "output_type": "stream",
     "text": [
      "------------------------------------------\n",
      "True negative\n",
      "Label =  No triangle  =  0\n",
      "prediction =  0\n"
     ]
    },
    {
     "data": {
      "image/png": "[encoded data removed]",
      "text/plain": [
       "<Figure size 432x288 with 1 Axes>"
      ]
     },
     "metadata": {
      "needs_background": "light"
     },
     "output_type": "display_data"
    },
    {
     "name": "stderr",
     "output_type": "stream",
     "text": [
      "\r",
      "  0%|          | 3/4663 [00:00<19:28,  3.99it/s]"
     ]
    },
    {
     "name": "stdout",
     "output_type": "stream",
     "text": [
      "------------------------------------------\n",
      "True negative\n",
      "Label =  No triangle  =  0\n",
      "prediction =  0\n"
     ]
    },
    {
     "data": {
      "image/png": "[encoded data removed]",
      "text/plain": [
       "<Figure size 432x288 with 1 Axes>"
      ]
     },
     "metadata": {
      "needs_background": "light"
     },
     "output_type": "display_data"
    },
    {
     "name": "stderr",
     "output_type": "stream",
     "text": [
      "\r",
      "  0%|          | 4/4663 [00:00<17:03,  4.55it/s]"
     ]
    },
    {
     "name": "stdout",
     "output_type": "stream",
     "text": [
      "------------------------------------------\n",
      "True positive\n",
      "Label =  Bias triangle  =  1\n",
      "prediction =  1\n"
     ]
    },
    {
     "data": {
      "image/png": "[encoded data removed]",
      "text/plain": [
       "<Figure size 432x288 with 1 Axes>"
      ]
     },
     "metadata": {
      "needs_background": "light"
     },
     "output_type": "display_data"
    },
    {
     "name": "stderr",
     "output_type": "stream",
     "text": [
      "100%|██████████| 4663/4663 [02:47<00:00, 27.87it/s]\n"
     ]
    },
    {
     "name": "stdout",
     "output_type": "stream",
     "text": [
      "CPU times: user 15min 22s, sys: 3min 46s, total: 19min 9s\n",
      "Wall time: 7min 59s\n"
     ]
    }
   ],
   "source": [
    "%%time\n",
    "perc_true_positive_tot = []\n",
    "perc_false_positive_tot = []\n",
    "perc_true_negative_tot = []\n",
    "perc_false_negative_tot = []\n",
    "\n",
    "\n",
    "for i in range(1):\n",
    "\n",
    "    def myfunction():\n",
    "        return 0.9\n",
    "    z=np.arange(len(data_total))\n",
    "    random.shuffle(z)\n",
    "    images_copy=data_total.copy()\n",
    "    images_shuffle=data_total.copy()\n",
    "    labels_copy=labels_total.copy()\n",
    "    labels_shuffle=labels_total.copy()\n",
    "    for i in range(len(data_total)):\n",
    "        images_shuffle[i]=images_copy[z[i]]\n",
    "        labels_shuffle[i]=labels_copy[z[i]]   \n",
    "    images_shuffle,labels_shuffle = normalise(images_shuffle,labels_shuffle) \n",
    "    val_split = 0.2\n",
    "    val_set = np.int(val_split*np.shape(labels_shuffle)[0])\n",
    "    train_images= np.array(images_shuffle[val_set:]).reshape(-1, 32, 32, 1)\n",
    "    train_labels = np.array(labels_shuffle[val_set:]).reshape(-1, 1)\n",
    "    validate_images = np.array(images_shuffle[:val_set]).reshape(-1, 32, 32, 1)\n",
    "    validate_labels = np.array(labels_shuffle[:val_set]).reshape(-1, 1)\n",
    "\n",
    "\n",
    "    model_binary_classifier,percent_true_positive, percent_false_positive,percent_true_negative,percent_false_negative = model_main()\n",
    "\n",
    "    perc_true_positive_tot.append(percent_true_positive)\n",
    "    perc_false_positive_tot.append(percent_false_positive)\n",
    "    perc_true_negative_tot.append(percent_true_negative)\n",
    "    perc_false_negative_tot.append(percent_false_negative)"
   ]
  },
  {
   "cell_type": "code",
   "execution_count": 7,
   "metadata": {},
   "outputs": [],
   "source": [
    "import csv\n",
    "total_dict = {'1': perc_false_positive_tot, \n",
    "         '2': perc_false_negative_tot, \n",
    "         '3': perc_true_positive_tot, \n",
    "         '4': perc_true_negative_tot\n",
    "        }\n",
    " \n",
    "keys = sorted(total_dict.keys())\n",
    "with open(\"CNN_CPC_clean_2runsz.csv\", \"w\") as outfile:\n",
    "    writer = csv.writer(outfile, delimiter = \"\\t\")\n",
    "    writer.writerow(keys)\n",
    "    writer.writerows(zip(*[total_dict[key] for key in keys]))"
   ]
  },
  {
   "cell_type": "code",
   "execution_count": 8,
   "metadata": {},
   "outputs": [],
   "source": [
    "# plt.plot(np.linspace(-7,0,7),n_true_positive,label='true_positive')\n",
    "# plt.plot(np.linspace(-7,0,7),n_false_positive,label='false_positive') \n",
    "# plt.plot(np.linspace(-7,0,7),n_true_negative,label='true_negative') \n",
    "# plt.plot(np.linspace(-7,0,7),n_false_negative,label='false_negative') \n",
    "# plt.xlabel('log( L2 )')\n",
    "# plt.ylabel('Percentage (%)')\n",
    "# plt.legend()\n",
    "# plt.show()\n",
    "  "
   ]
  },
  {
   "cell_type": "code",
   "execution_count": 9,
   "metadata": {},
   "outputs": [],
   "source": [
    "cwd = os.chdir(primary_dir)\n",
    "model_binary_classifier.save('bias_triangle_binary_classifier.h5')\n",
    " "
   ]
  },
  {
   "cell_type": "code",
   "execution_count": 10,
   "metadata": {},
   "outputs": [
    {
     "ename": "NameError",
     "evalue": "name 'n_true_positive' is not defined",
     "output_type": "error",
     "traceback": [
      "\u001b[0;31m---------------------------------------------------------------------------\u001b[0m",
      "\u001b[0;31mNameError\u001b[0m                                 Traceback (most recent call last)",
      "\u001b[0;32m<ipython-input-10-920c3c57a146>\u001b[0m in \u001b[0;36m<module>\u001b[0;34m\u001b[0m\n\u001b[1;32m      1\u001b[0m \u001b[0mobjects\u001b[0m \u001b[0;34m=\u001b[0m \u001b[0;34m(\u001b[0m\u001b[0;34m'true_positive'\u001b[0m\u001b[0;34m,\u001b[0m\u001b[0;34m'false_positive'\u001b[0m\u001b[0;34m,\u001b[0m\u001b[0;34m'true_negative'\u001b[0m\u001b[0;34m,\u001b[0m\u001b[0;34m'false_negative'\u001b[0m\u001b[0;34m)\u001b[0m\u001b[0;34m\u001b[0m\u001b[0;34m\u001b[0m\u001b[0m\n\u001b[1;32m      2\u001b[0m \u001b[0my_pos\u001b[0m \u001b[0;34m=\u001b[0m \u001b[0mnp\u001b[0m\u001b[0;34m.\u001b[0m\u001b[0marange\u001b[0m\u001b[0;34m(\u001b[0m\u001b[0mlen\u001b[0m\u001b[0;34m(\u001b[0m\u001b[0mobjects\u001b[0m\u001b[0;34m)\u001b[0m\u001b[0;34m)\u001b[0m\u001b[0;34m\u001b[0m\u001b[0;34m\u001b[0m\u001b[0m\n\u001b[0;32m----> 3\u001b[0;31m \u001b[0mperformance\u001b[0m \u001b[0;34m=\u001b[0m \u001b[0;34m[\u001b[0m\u001b[0mn_true_positive\u001b[0m\u001b[0;34m,\u001b[0m\u001b[0mn_false_positive\u001b[0m\u001b[0;34m,\u001b[0m\u001b[0mn_true_negative\u001b[0m\u001b[0;34m,\u001b[0m\u001b[0mn_false_negative\u001b[0m\u001b[0;34m]\u001b[0m\u001b[0;34m\u001b[0m\u001b[0;34m\u001b[0m\u001b[0m\n\u001b[0m\u001b[1;32m      4\u001b[0m \u001b[0;34m\u001b[0m\u001b[0m\n\u001b[1;32m      5\u001b[0m \u001b[0mplt\u001b[0m\u001b[0;34m.\u001b[0m\u001b[0mbar\u001b[0m\u001b[0;34m(\u001b[0m\u001b[0my_pos\u001b[0m\u001b[0;34m,\u001b[0m \u001b[0mperformance\u001b[0m\u001b[0;34m,\u001b[0m \u001b[0malign\u001b[0m\u001b[0;34m=\u001b[0m\u001b[0;34m'center'\u001b[0m\u001b[0;34m,\u001b[0m \u001b[0malpha\u001b[0m\u001b[0;34m=\u001b[0m\u001b[0;36m0.5\u001b[0m\u001b[0;34m)\u001b[0m\u001b[0;34m\u001b[0m\u001b[0;34m\u001b[0m\u001b[0m\n",
      "\u001b[0;31mNameError\u001b[0m: name 'n_true_positive' is not defined"
     ]
    }
   ],
   "source": [
    "objects = ('true_positive','false_positive','true_negative','false_negative')\n",
    "y_pos = np.arange(len(objects))\n",
    "performance = [n_true_positive,n_false_positive,n_true_negative,n_false_negative]\n",
    "\n",
    "plt.bar(y_pos, performance, align='center', alpha=0.5)\n",
    "plt.xticks(y_pos, objects)\n",
    "plt.ylabel('count')\n",
    "plt.title('Confusion parameter')\n",
    "\n",
    "plt.show()\n"
   ]
  },
  {
   "cell_type": "code",
   "execution_count": null,
   "metadata": {},
   "outputs": [],
   "source": [
    "print('Percent true positive  ',n_true_positive,'%')\n",
    "print('Percent false positive  ',n_false_positive,'%')\n",
    "print('Percent true negative  ',n_true_negative,'%')\n",
    "print('Percent false negative  ',n_false_negative,'%')\n",
    "# Percent true positive   11.213235294117647 %\n",
    "# Percent false positive   0.49019607843137253 %\n",
    "# Percent true negative   80.82107843137256 %\n",
    "# Percent false negative   7.4754901960784315 %"
   ]
  }
 ],
 "metadata": {
  "kernelspec": {
   "display_name": "Python 3",
   "language": "python",
   "name": "python3"
  },
  "language_info": {
   "codemirror_mode": {
    "name": "ipython",
    "version": 3
   },
   "file_extension": ".py",
   "mimetype": "text/x-python",
   "name": "python",
   "nbconvert_exporter": "python",
   "pygments_lexer": "ipython3",
   "version": "3.7.4"
  }
 },
 "nbformat": 4,
 "nbformat_minor": 2
}
