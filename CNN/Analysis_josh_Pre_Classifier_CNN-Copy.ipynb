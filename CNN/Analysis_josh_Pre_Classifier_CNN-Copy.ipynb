{
 "cells": [
  {
   "cell_type": "code",
   "execution_count": 1,
   "metadata": {},
   "outputs": [
    {
     "data": {
      "text/plain": [
       "Reusing TensorBoard on port 6006 (pid 29261), started 3 days, 5:22:43 ago. (Use '!kill 29261' to kill it.)"
      ]
     },
     "metadata": {},
     "output_type": "display_data"
    },
    {
     "data": {
      "text/html": [
       "\n",
       "      <iframe id=\"tensorboard-frame-45f7bdf51a641d14\" width=\"100%\" height=\"800\" frameborder=\"0\">\n",
       "      </iframe>\n",
       "      <script>\n",
       "        (function() {\n",
       "          const frame = document.getElementById(\"tensorboard-frame-45f7bdf51a641d14\");\n",
       "          const url = new URL(\"/\", window.location);\n",
       "          url.port = 6006;\n",
       "          frame.src = url;\n",
       "        })();\n",
       "      </script>\n",
       "  "
      ],
      "text/plain": [
       "<IPython.core.display.HTML object>"
      ]
     },
     "metadata": {},
     "output_type": "display_data"
    }
   ],
   "source": [
    "import matplotlib.pyplot as plt\n",
    "%matplotlib inline\n",
    "import numpy as np\n",
    "import pickle\n",
    "import tensorflow as tf\n",
    "from tensorflow.keras import datasets, layers, models, regularizers\n",
    "from tensorflow import keras as k\n",
    "import random\n",
    "from tqdm import tqdm\n",
    "import shutil\n",
    "import datetime, os\n",
    "tf.random.set_seed(1)\n",
    "\n",
    "cwd = os.getcwd()\n",
    "primary_dir = os.fsencode(cwd)\n",
    "\n",
    "shutil.rmtree(\"/Users/joshking/Dropbox/Quantum/logs\")\n",
    "logs_base_dir = \"/Users/joshking/Dropbox/Quantum/logs\"\n",
    "os.makedirs(logs_base_dir, exist_ok=True)\n",
    "\n",
    "%reload_ext tensorboard\n",
    "%tensorboard --logdir {logs_base_dir}\n",
    "\n",
    "tensorboard_callback = k.callbacks.TensorBoard(log_dir=logs_base_dir,update_freq='epoch',embeddings_freq=0,\n",
    "                                               profile_batch = 0)\n",
    "writer = tf.summary.create_file_writer(\"/Users/joshking/Dropbox/Quantum/logs\")"
   ]
  },
  {
   "cell_type": "code",
   "execution_count": null,
   "metadata": {},
   "outputs": [],
   "source": []
  },
  {
   "cell_type": "code",
   "execution_count": 4,
   "metadata": {},
   "outputs": [],
   "source": [
    "binary_dict = {0: 'No triangle', 1 : 'Bias triangle'}\n"
   ]
  },
  {
   "cell_type": "code",
   "execution_count": 5,
   "metadata": {},
   "outputs": [],
   "source": [
    "def create_model(pixel_size=32,dense_layers = [32*2,32],drop_out=0.4,l2=0.0001):\n",
    "    model = models.Sequential()\n",
    "    model.add(layers.Conv2D(pixel_size, (3, 3), activation='relu', input_shape=(pixel_size, pixel_size, 1), padding=\"SAME\"))\n",
    "    model.add(layers.MaxPooling2D((2, 2)))\n",
    "    model.add(layers.Conv2D(pixel_size*2, (3, 3), activation='relu', padding=\"SAME\"))\n",
    "    model.add(layers.MaxPooling2D((2, 2)))\n",
    "    model.add(layers.Conv2D(pixel_size*2, (3, 3), activation='relu', padding=\"SAME\"))\n",
    "    \n",
    "    model.add(layers.Flatten())\n",
    "    for dense_layer in dense_layers:\n",
    "        model.add(layers.Dense(dense_layer, activation='elu',kernel_regularizer=regularizers.l2(l2)))\n",
    "        model.add(layers.Dropout(drop_out))\n",
    "    \n",
    "    model.add(layers.Dense(1, activation='sigmoid'))\n",
    "    return model\n",
    "\n",
    "def compile_model(model):\n",
    "    model.compile(optimizer='adam',\n",
    "             loss='binary_crossentropy',\n",
    "              metrics=['accuracy'])\n",
    "    return model\n",
    "\n",
    "def train_model(model,train_images,train_labels,test_images,test_labels,epochs,batch_size):\n",
    "    history = model.fit(train_images,train_labels, epochs=epochs, batch_size=batch_size, \n",
    "                        validation_data=(test_images,test_labels)) #callbacks=[tensorboard_callback])\n",
    "    # ,shuffle=True\n",
    "    return model, history\n",
    "\n",
    "def evaluate_model(model,history, test_images,test_labels):\n",
    "    plt.clf()\n",
    "    plt.plot(history.history['accuracy'], label='accuracy')\n",
    "    plt.plot(history.history['val_accuracy'], label = 'val_accuracy')\n",
    "    plt.xlabel('Epoch')\n",
    "    plt.ylabel('Accuracy')\n",
    "    plt.ylim([0.0, 1.1])\n",
    "    plt.legend(loc='lower right')\n",
    "    plt.show()\n",
    "   \n",
    "    test_loss, test_acc = model.evaluate(test_images,  test_labels, verbose=2)\n",
    "    return test_loss, test_acc\n",
    "\n",
    "def normalise(x, y):\n",
    "    x = tf.image.per_image_standardization(x)\n",
    "    return x, y"
   ]
  },
  {
   "cell_type": "code",
   "execution_count": 6,
   "metadata": {},
   "outputs": [],
   "source": [
    "data_total = np.load('/Users/joshking/Documents/01Masters/Data/all_data_16_03_2020.npy')\n",
    "labels_total = np.load('/Users/joshking/Documents/01Masters/Data/all_labels_16_03_2020.npy')\n",
    "#/Users/joshking/Dropbox/Quantum/Triangles/normalised_data_matrices_train.npy\n",
    "#/Users/joshking/Dropbox/Quantum/Triangles/normalised_data_labels_train.npy\n",
    "#C:/Quantum/Seb_CNN/\n",
    "# data_total,labels_total = normalise(data_total,labels_total) \n",
    "\n",
    "# val_split = 0.2\n",
    "# val_set = np.int(val_split*np.shape(labels_total)[0])\n",
    "\n",
    "\n",
    "# train_images= np.array(data_total[val_set:]).reshape(-1, 32, 32, 1)\n",
    "# train_labels = np.array(labels_total[val_set:]).reshape(-1, 1)\n",
    "# validate_images = np.array(data_total[:val_set]).reshape(-1, 32, 32, 1) \n",
    "# validate_labels = np.array(labels_total[:val_set]).reshape(-1, 1) "
   ]
  },
  {
   "cell_type": "code",
   "execution_count": 9,
   "metadata": {},
   "outputs": [],
   "source": [
    "train_images_pre=np.squeeze(train_images)\n",
    "train_labels_pre=np.squeeze(train_labels)\n",
    "validate_images_pre=np.squeeze(validate_images)\n",
    "validate_labels_pre=np.squeeze(validate_labels)"
   ]
  },
  {
   "cell_type": "code",
   "execution_count": 7,
   "metadata": {},
   "outputs": [],
   "source": [
    "def block_splitting(images):\n",
    "    #Initialise Array:\n",
    "    data_array=np.zeros(shape=(len(images),18))\n",
    "    \n",
    "    for i in range(len(images)):\n",
    "        image = np.squeeze(train_images[i])\n",
    "        #Split into blocks based on manually calculated pixel locations:\n",
    "        block_1=image[0:16, 0:16]\n",
    "        block_2=image[16:32, 0:16]\n",
    "        block_3=image[0:16, 16:32]\n",
    "        block_4=image[16:32, 16:32]\n",
    "        block_5=image[8:24, 8:24]\n",
    "        block_6=image[0:16, 8:24]\n",
    "        block_7=image[8:24, 0:16]\n",
    "        block_8=image[8:24, 16:32]\n",
    "        block_9=image[16:32, 8:24]\n",
    "        #Concatenate data into single 18-feature array:\n",
    "        means=np.array([np.mean(block_1),np.mean(block_2),np.mean(block_3),np.mean(block_4),np.mean(block_5),np.mean(block_6),\n",
    "               np.mean(block_7), np.mean(block_8),np.mean(block_9)])\n",
    "        stds=np.array([np.std(block_1),np.std(block_2),np.std(block_3),np.std(block_4),np.std(block_5),np.std(block_6),\n",
    "               np.std(block_7), np.std(block_8),np.std(block_9)])\n",
    "        combined=np.concatenate((means,stds))\n",
    "        #print(combined)\n",
    "        data_array[i]=combined\n",
    "    return data_array"
   ]
  },
  {
   "cell_type": "code",
   "execution_count": 11,
   "metadata": {},
   "outputs": [],
   "source": [
    "train_X=block_splitting(train_images_pre)\n",
    "train_Y=train_labels\n",
    "valid_X=block_splitting(validate_images_pre)\n",
    "valid_Y=validate_labels"
   ]
  },
  {
   "cell_type": "code",
   "execution_count": 8,
   "metadata": {},
   "outputs": [],
   "source": [
    "def min_max(feature_array): #used to find the min and max values of each feature (column) of the array\n",
    "    data_array = np.zeros(shape=(2,18))\n",
    "    for j in range(18):\n",
    "        col = feature_array[:,j]\n",
    "        data_array[0,j]= col.min(axis=0)\n",
    "        data_array[1,j]= col.max(axis=0)\n",
    "    return data_array"
   ]
  },
  {
   "cell_type": "code",
   "execution_count": 9,
   "metadata": {},
   "outputs": [],
   "source": [
    "def normaliser(feature_array,min_max_array): #Normalises based on the eqaution (x-xmin) / (xmax-xmin)\n",
    "    norm_feature_array=np.zeros(shape=(len(feature_array),18))\n",
    "    feature_array_copy=feature_array.copy()\n",
    "    for i in range(len(feature_array_copy)):\n",
    "        for j in range(18):\n",
    "            norm_feature_array[i,j]=((feature_array_copy[i,j]-min_max_array[0,j])/\n",
    "                                     (min_max_array[1,j]-min_max_array[0,j]))\n",
    "    return norm_feature_array"
   ]
  },
  {
   "cell_type": "code",
   "execution_count": 10,
   "metadata": {},
   "outputs": [],
   "source": [
    "def intensity_finder(feature_array): #Finds average pixel intensity of the whole image\n",
    "    variable_1=0\n",
    "    for i in range(len(feature_array)):\n",
    "        for j in range(9):\n",
    "            variable_1+=feature_array[i,j]\n",
    "    ave_intens=variable_1/(9*len(feature_array))\n",
    "    return ave_intens\n"
   ]
  },
  {
   "cell_type": "code",
   "execution_count": 11,
   "metadata": {},
   "outputs": [],
   "source": [
    "def pre_classifier_high_and_low_intens(feature_array, min_intens_cutoff, max_intens_cutoff, num_blocks):\n",
    "    \n",
    "    data_array= np.zeros(shape=len(feature_array))\n",
    "    \n",
    "    for i in range(len(feature_array)):\n",
    "        test_var_max = 0\n",
    "        test_var_min = 0\n",
    "        for j in range(9): \n",
    "            if feature_array[i,j]>=(max_intens_cutoff): #suggest max cutoff=1.3*avrg\n",
    "                test_var_max+=1\n",
    "            if feature_array[i,j]<=(min_intens_cutoff): #suggest min cutoff=0.8*avrg\n",
    "                test_var_min+=1\n",
    "        if test_var_max>=num_blocks or test_var_min>=num_blocks: # suggest num_blocks=7\n",
    "            data_array[i]=1\n",
    "    return data_array"
   ]
  },
  {
   "cell_type": "code",
   "execution_count": 16,
   "metadata": {},
   "outputs": [
    {
     "name": "stdout",
     "output_type": "stream",
     "text": [
      "[[-1.33887053 -1.33887053 -1.33887053 -1.33887053 -1.33243929 -1.33407701\n",
      "  -1.33278829 -1.33348775 -1.33525     0.          0.          0.\n",
      "   0.          0.          0.          0.          0.          0.        ]\n",
      " [ 1.81831944  1.81831944  1.81831944  1.81831944  1.79845831  1.80067827\n",
      "   1.79380253  1.8024702   1.79296054  1.36888805  1.21241311  1.40528905\n",
      "   1.24022616  1.28075358  1.57859498  1.52136594  1.57859498  1.57859498]]\n",
      "\n",
      " [[0. 0. 0. 0. 0. 0. 0. 0. 0. 0. 0. 0. 0. 0. 0. 0. 0. 0.]\n",
      " [1. 1. 1. 1. 1. 1. 1. 1. 1. 1. 1. 1. 1. 1. 1. 1. 1. 1.]]\n",
      "\n",
      " [[2.03818139e-03 0.00000000e+00 1.54655481e-03 1.17231708e-03\n",
      "  9.29365543e-04 1.33383826e-04 4.50506575e-03 0.00000000e+00\n",
      "  9.01417747e-04 0.00000000e+00 0.00000000e+00 0.00000000e+00\n",
      "  0.00000000e+00 0.00000000e+00 2.37683642e-03 0.00000000e+00\n",
      "  0.00000000e+00 0.00000000e+00]\n",
      " [9.90654218e-01 9.87539191e-01 1.00000000e+00 9.87935604e-01\n",
      "  9.94711379e-01 9.95915973e-01 9.98204755e-01 9.92465239e-01\n",
      "  9.92427914e-01 8.67804502e-01 1.00000000e+00 8.47612795e-01\n",
      "  9.71747171e-01 9.09720343e-01 7.60698539e-01 7.68207843e-01\n",
      "  7.82679323e-01 7.72361546e-01]]\n",
      "\n",
      " Ave Intesnity:  0.4341764550393989\n"
     ]
    }
   ],
   "source": [
    "min_max_array=min_max(train_X)\n",
    "print(min_max_array)\n",
    "\n",
    "train_norm_X=normaliser(train_X,min_max_array)\n",
    "min_max_check=min_max(train_norm_X)\n",
    "print('\\n',min_max_check)\n",
    "\n",
    "valid_norm_X=normaliser(valid_X,min_max_array)\n",
    "min_max_check=min_max(valid_norm_X)\n",
    "print('\\n',min_max_check)\n",
    "\n",
    "ave_intens=intensity_finder(train_norm_X)\n",
    "print('\\n Ave Intesnity: ', ave_intens)"
   ]
  },
  {
   "cell_type": "code",
   "execution_count": 26,
   "metadata": {},
   "outputs": [
    {
     "name": "stdout",
     "output_type": "stream",
     "text": [
      "2906.0\n",
      "18652\n",
      "[1. 0. 0. 0. 1. 1. 1. 1. 0. 0. 1. 1. 1. 0. 1. 1. 0. 1. 0. 0. 1. 0. 1. 1.\n",
      " 0. 1. 0. 0. 1. 1. 0. 1. 0. 1. 0. 1. 0. 0. 1. 0. 0. 1. 0. 0. 0. 1. 0. 1.\n",
      " 1. 1.]\n"
     ]
    },
    {
     "data": {
      "text/plain": [
       "(23315,)"
      ]
     },
     "execution_count": 26,
     "metadata": {},
     "output_type": "execute_result"
    },
    {
     "data": {
      "image/png": "[encoded data removed]",
      "text/plain": [
       "<Figure size 432x288 with 1 Axes>"
      ]
     },
     "metadata": {
      "needs_background": "light"
     },
     "output_type": "display_data"
    }
   ],
   "source": [
    "max_val=1.2*intensity_finder(train_norm_X)\n",
    "min_val=0.8*intensity_finder(train_norm_X)\n",
    "pre_array_train=pre_classifier_high_and_low_intens(train_norm_X, min_intens_cutoff=min_val,\n",
    "                         max_intens_cutoff=max_val, num_blocks=7)\n",
    "pre_array_valid=pre_classifier_high_and_low_intens(valid_norm_X, min_intens_cutoff=min_val,\n",
    "                         max_intens_cutoff=max_val, num_blocks=7)\n",
    "print(sum(pre_array_valid))\n",
    "print(len(train_norm_X))\n",
    "print(pre_array_valid[0:50])\n",
    "plt.imshow(train_images_pre[45])\n",
    "\n",
    "pre_array_total=np.concatenate((pre_array_train,pre_array_valid),axis=0)\n",
    "pre_array_total.shape"
   ]
  },
  {
   "cell_type": "code",
   "execution_count": 37,
   "metadata": {},
   "outputs": [
    {
     "data": {
      "text/plain": [
       "32.0"
      ]
     },
     "execution_count": 37,
     "metadata": {},
     "output_type": "execute_result"
    }
   ],
   "source": [
    "counter =0\n",
    "for i in range(len(pre_array_total)):\n",
    "    if pre_array_total[i] == 1:\n",
    "        counter += 1\n",
    "        \n",
    "counter\n",
    "    \n",
    "im = train_images_pre[45].copy()\n",
    "im.size\n",
    "np.sqrt(1024)"
   ]
  },
  {
   "cell_type": "markdown",
   "metadata": {},
   "source": [
    "#### Add in the pre-classifier after the model has predicted, when calculating true and false pos/neg etc..."
   ]
  },
  {
   "cell_type": "code",
   "execution_count": 12,
   "metadata": {},
   "outputs": [],
   "source": [
    "def model_main(pre_class_vector, pixel_size=32,drop_out=0.4,l2=0.0001,epochs = 10,batch_size = 100):\n",
    "    print('Trained on '+str(len(train_labels)))\n",
    "    print('Validated on '+str(len(validate_labels)))\n",
    "\n",
    "    model_binary_classifier = create_model(pixel_size=pixel_size,drop_out=drop_out,l2=l2)\n",
    "    model_binary_classifier.summary()\n",
    "    model_binary_classifier = compile_model(model_binary_classifier)\n",
    "\n",
    "    val_loss, val_acc = train_model(model_binary_classifier,train_images,train_labels,validate_images,validate_labels,epochs,batch_size)\n",
    "\n",
    "\n",
    "    true_positive = []\n",
    "    false_positive = []\n",
    "    true_negative = []\n",
    "    false_negative = []\n",
    "    for i in tqdm(range(len(validate_labels))):\n",
    "            vector_for_labels = np.zeros(shape=len(validate_labels))\n",
    "            label = validate_labels[i][0]\n",
    "            pre_class_label = pre_class_vector[i]\n",
    "            #Vector here of all the pre-classified 1's or 0's.  pre_class_vector[n-length]\n",
    "            prediction = model_binary_classifier.predict(validate_images[i:i+1])\n",
    "            if prediction>0.5 and pre_class_label!=1: #Joint conditonal (and pre_class_label != 1)\n",
    "                prediction = 1\n",
    "                #Accuracies for pre-class+CNN together. \n",
    "            else:\n",
    "                prediction = 0\n",
    "            if (prediction == label):\n",
    "                if (label == 1):\n",
    "                    true_positive.append(validate_images[i:i+1])\n",
    "                    prnt = \"True positive\"\n",
    "                else:\n",
    "                    true_negative.append(validate_images[i:i+1])\n",
    "                    prnt = \"True negative\"\n",
    "            else:\n",
    "                if (label == 1):\n",
    "                    false_negative.append(validate_images[i:i+1])\n",
    "                    prnt = \"False negative\"\n",
    "                else:\n",
    "                    false_positive.append(validate_images[i:i+1])\n",
    "                    prnt = \"False positive\"\n",
    "            if (i<5):\n",
    "                print('------------------------------------------')\n",
    "                print(prnt)\n",
    "                print('Label = ', binary_dict[label],\" = \", label)\n",
    "                print('prediction = ', prediction)\n",
    "                plt.clf()\n",
    "                plt.imshow(validate_images[i][:,:,0])\n",
    "                plt.show()\n",
    "        \n",
    "    n_true_positive = np.shape(true_positive)[0]\n",
    "    n_false_positive = np.shape(false_positive)[0]\n",
    "    n_true_negative = np.shape(true_negative)[0]\n",
    "    n_false_negative = np.shape(false_negative)[0]\n",
    "    \n",
    "    total_test = n_true_positive + n_false_positive + n_true_negative + n_false_negative\n",
    "\n",
    "    percent_true_positive = 100 * n_true_positive/total_test\n",
    "    percent_false_positive = 100 *n_false_positive/total_test\n",
    "    percent_true_negative = 100 *n_true_negative/total_test\n",
    "    percent_false_negative = 100 *n_false_negative/total_test\n",
    "\n",
    "    return model_binary_classifier,percent_true_positive,percent_false_positive,percent_true_negative,percent_false_negative\n",
    "    \n",
    "    return"
   ]
  },
  {
   "cell_type": "code",
   "execution_count": 13,
   "metadata": {},
   "outputs": [
    {
     "name": "stdout",
     "output_type": "stream",
     "text": [
      "WARNING:tensorflow:From /Users/joshking/opt/anaconda3/lib/python3.7/site-packages/tensorflow_core/python/ops/image_ops_impl.py:1518: div (from tensorflow.python.ops.math_ops) is deprecated and will be removed in a future version.\n",
      "Instructions for updating:\n",
      "Deprecated in favor of operator or tf.math.divide.\n",
      "Trained on 18652\n",
      "Validated on 4663\n",
      "Model: \"sequential\"\n",
      "_________________________________________________________________\n",
      "Layer (type)                 Output Shape              Param #   \n",
      "=================================================================\n",
      "conv2d (Conv2D)              (None, 32, 32, 32)        320       \n",
      "_________________________________________________________________\n",
      "max_pooling2d (MaxPooling2D) (None, 16, 16, 32)        0         \n",
      "_________________________________________________________________\n",
      "conv2d_1 (Conv2D)            (None, 16, 16, 64)        18496     \n",
      "_________________________________________________________________\n",
      "max_pooling2d_1 (MaxPooling2 (None, 8, 8, 64)          0         \n",
      "_________________________________________________________________\n",
      "conv2d_2 (Conv2D)            (None, 8, 8, 64)          36928     \n",
      "_________________________________________________________________\n",
      "flatten (Flatten)            (None, 4096)              0         \n",
      "_________________________________________________________________\n",
      "dense (Dense)                (None, 64)                262208    \n",
      "_________________________________________________________________\n",
      "dropout (Dropout)            (None, 64)                0         \n",
      "_________________________________________________________________\n",
      "dense_1 (Dense)              (None, 32)                2080      \n",
      "_________________________________________________________________\n",
      "dropout_1 (Dropout)          (None, 32)                0         \n",
      "_________________________________________________________________\n",
      "dense_2 (Dense)              (None, 1)                 33        \n",
      "=================================================================\n",
      "Total params: 320,065\n",
      "Trainable params: 320,065\n",
      "Non-trainable params: 0\n",
      "_________________________________________________________________\n",
      "Train on 18652 samples, validate on 4663 samples\n",
      "Epoch 1/10\n",
      "18652/18652 [==============================] - 28s 1ms/sample - loss: 0.2770 - accuracy: 0.8849 - val_loss: 0.2241 - val_accuracy: 0.9144\n",
      "Epoch 2/10\n",
      "18652/18652 [==============================] - 29s 2ms/sample - loss: 0.2062 - accuracy: 0.9189 - val_loss: 0.1917 - val_accuracy: 0.9267\n",
      "Epoch 3/10\n",
      "18652/18652 [==============================] - 29s 2ms/sample - loss: 0.1771 - accuracy: 0.9334 - val_loss: 0.1761 - val_accuracy: 0.9434\n",
      "Epoch 4/10\n",
      "18652/18652 [==============================] - 31s 2ms/sample - loss: 0.1605 - accuracy: 0.9415 - val_loss: 0.1923 - val_accuracy: 0.9290\n",
      "Epoch 5/10\n",
      "18652/18652 [==============================] - 29s 2ms/sample - loss: 0.1452 - accuracy: 0.9467 - val_loss: 0.1660 - val_accuracy: 0.9430\n",
      "Epoch 6/10\n",
      "18652/18652 [==============================] - 29s 2ms/sample - loss: 0.1285 - accuracy: 0.9549 - val_loss: 0.1621 - val_accuracy: 0.9464\n",
      "Epoch 7/10\n",
      "18652/18652 [==============================] - 28s 2ms/sample - loss: 0.1143 - accuracy: 0.9597 - val_loss: 0.1747 - val_accuracy: 0.9430\n",
      "Epoch 8/10\n",
      "18652/18652 [==============================] - 28s 1ms/sample - loss: 0.1034 - accuracy: 0.9661 - val_loss: 0.1621 - val_accuracy: 0.9509\n",
      "Epoch 9/10\n",
      "18652/18652 [==============================] - 28s 1ms/sample - loss: 0.0912 - accuracy: 0.9684 - val_loss: 0.1718 - val_accuracy: 0.9481\n",
      "Epoch 10/10\n",
      "18652/18652 [==============================] - 28s 1ms/sample - loss: 0.0799 - accuracy: 0.9762 - val_loss: 0.1810 - val_accuracy: 0.9507\n"
     ]
    },
    {
     "name": "stderr",
     "output_type": "stream",
     "text": [
      "\r",
      "  0%|          | 0/4663 [00:00<?, ?it/s]"
     ]
    },
    {
     "name": "stdout",
     "output_type": "stream",
     "text": [
      "------------------------------------------\n",
      "True negative\n",
      "Label =  No triangle  =  0\n",
      "prediction =  0\n"
     ]
    },
    {
     "data": {
      "image/png": "[encoded data removed]",
      "text/plain": [
       "<Figure size 432x288 with 1 Axes>"
      ]
     },
     "metadata": {
      "needs_background": "light"
     },
     "output_type": "display_data"
    },
    {
     "name": "stderr",
     "output_type": "stream",
     "text": [
      "\r",
      "  0%|          | 1/4663 [00:00<20:56,  3.71it/s]"
     ]
    },
    {
     "name": "stdout",
     "output_type": "stream",
     "text": [
      "------------------------------------------\n",
      "True negative\n",
      "Label =  No triangle  =  0\n",
      "prediction =  0\n"
     ]
    },
    {
     "data": {
      "image/png": "[encoded data removed]",
      "text/plain": [
       "<Figure size 432x288 with 1 Axes>"
      ]
     },
     "metadata": {
      "needs_background": "light"
     },
     "output_type": "display_data"
    },
    {
     "name": "stderr",
     "output_type": "stream",
     "text": [
      "\r",
      "  0%|          | 2/4663 [00:00<20:47,  3.74it/s]"
     ]
    },
    {
     "name": "stdout",
     "output_type": "stream",
     "text": [
      "------------------------------------------\n",
      "True negative\n",
      "Label =  No triangle  =  0\n",
      "prediction =  0\n"
     ]
    },
    {
     "data": {
      "image/png": "[encoded data removed]",
      "text/plain": [
       "<Figure size 432x288 with 1 Axes>"
      ]
     },
     "metadata": {
      "needs_background": "light"
     },
     "output_type": "display_data"
    },
    {
     "name": "stderr",
     "output_type": "stream",
     "text": [
      "\r",
      "  0%|          | 3/4663 [00:00<18:13,  4.26it/s]"
     ]
    },
    {
     "name": "stdout",
     "output_type": "stream",
     "text": [
      "------------------------------------------\n",
      "False negative\n",
      "Label =  Bias triangle  =  1\n",
      "prediction =  0\n"
     ]
    },
    {
     "data": {
      "image/png": "[encoded data removed]",
      "text/plain": [
       "<Figure size 432x288 with 1 Axes>"
      ]
     },
     "metadata": {
      "needs_background": "light"
     },
     "output_type": "display_data"
    },
    {
     "name": "stderr",
     "output_type": "stream",
     "text": [
      "\r",
      "  0%|          | 4/4663 [00:00<16:44,  4.64it/s]"
     ]
    },
    {
     "name": "stdout",
     "output_type": "stream",
     "text": [
      "------------------------------------------\n",
      "False negative\n",
      "Label =  Bias triangle  =  1\n",
      "prediction =  0\n"
     ]
    },
    {
     "data": {
      "image/png": "[encoded data removed]",
      "text/plain": [
       "<Figure size 432x288 with 1 Axes>"
      ]
     },
     "metadata": {
      "needs_background": "light"
     },
     "output_type": "display_data"
    },
    {
     "name": "stderr",
     "output_type": "stream",
     "text": [
      "100%|██████████| 4663/4663 [02:54<00:00, 26.73it/s]\n"
     ]
    },
    {
     "name": "stdout",
     "output_type": "stream",
     "text": [
      "Trained on 18652\n",
      "Validated on 4663\n",
      "Model: \"sequential_1\"\n",
      "_________________________________________________________________\n",
      "Layer (type)                 Output Shape              Param #   \n",
      "=================================================================\n",
      "conv2d_3 (Conv2D)            (None, 32, 32, 32)        320       \n",
      "_________________________________________________________________\n",
      "max_pooling2d_2 (MaxPooling2 (None, 16, 16, 32)        0         \n",
      "_________________________________________________________________\n",
      "conv2d_4 (Conv2D)            (None, 16, 16, 64)        18496     \n",
      "_________________________________________________________________\n",
      "max_pooling2d_3 (MaxPooling2 (None, 8, 8, 64)          0         \n",
      "_________________________________________________________________\n",
      "conv2d_5 (Conv2D)            (None, 8, 8, 64)          36928     \n",
      "_________________________________________________________________\n",
      "flatten_1 (Flatten)          (None, 4096)              0         \n",
      "_________________________________________________________________\n",
      "dense_3 (Dense)              (None, 64)                262208    \n",
      "_________________________________________________________________\n",
      "dropout_2 (Dropout)          (None, 64)                0         \n",
      "_________________________________________________________________\n",
      "dense_4 (Dense)              (None, 32)                2080      \n",
      "_________________________________________________________________\n",
      "dropout_3 (Dropout)          (None, 32)                0         \n",
      "_________________________________________________________________\n",
      "dense_5 (Dense)              (None, 1)                 33        \n",
      "=================================================================\n",
      "Total params: 320,065\n",
      "Trainable params: 320,065\n",
      "Non-trainable params: 0\n",
      "_________________________________________________________________\n",
      "Train on 18652 samples, validate on 4663 samples\n",
      "Epoch 1/10\n",
      "18652/18652 [==============================] - 30s 2ms/sample - loss: 0.2821 - accuracy: 0.8885 - val_loss: 0.2142 - val_accuracy: 0.9183\n",
      "Epoch 2/10\n",
      "18652/18652 [==============================] - 29s 2ms/sample - loss: 0.2036 - accuracy: 0.9206 - val_loss: 0.1709 - val_accuracy: 0.9335\n",
      "Epoch 3/10\n",
      "18652/18652 [==============================] - 29s 2ms/sample - loss: 0.1802 - accuracy: 0.9309 - val_loss: 0.1674 - val_accuracy: 0.9376\n",
      "Epoch 4/10\n",
      "18652/18652 [==============================] - 28s 2ms/sample - loss: 0.1601 - accuracy: 0.9404 - val_loss: 0.1492 - val_accuracy: 0.9455\n",
      "Epoch 5/10\n",
      "18652/18652 [==============================] - 28s 2ms/sample - loss: 0.1407 - accuracy: 0.9493 - val_loss: 0.1469 - val_accuracy: 0.9472\n",
      "Epoch 6/10\n",
      "18652/18652 [==============================] - 28s 2ms/sample - loss: 0.1272 - accuracy: 0.9553 - val_loss: 0.1543 - val_accuracy: 0.9451\n",
      "Epoch 7/10\n",
      "18652/18652 [==============================] - 29s 2ms/sample - loss: 0.1187 - accuracy: 0.9604 - val_loss: 0.1338 - val_accuracy: 0.9550\n",
      "Epoch 8/10\n",
      "18652/18652 [==============================] - 29s 2ms/sample - loss: 0.1016 - accuracy: 0.9673 - val_loss: 0.1595 - val_accuracy: 0.9475\n",
      "Epoch 9/10\n",
      "18652/18652 [==============================] - 29s 2ms/sample - loss: 0.0943 - accuracy: 0.9710 - val_loss: 0.1371 - val_accuracy: 0.9573\n",
      "Epoch 10/10\n",
      "18652/18652 [==============================] - 29s 2ms/sample - loss: 0.0798 - accuracy: 0.9766 - val_loss: 0.1441 - val_accuracy: 0.9552\n"
     ]
    },
    {
     "name": "stderr",
     "output_type": "stream",
     "text": [
      "\r",
      "  0%|          | 0/4663 [00:00<?, ?it/s]"
     ]
    },
    {
     "name": "stdout",
     "output_type": "stream",
     "text": [
      "------------------------------------------\n",
      "False negative\n",
      "Label =  Bias triangle  =  1\n",
      "prediction =  0\n"
     ]
    },
    {
     "data": {
      "image/png": "[encoded data removed]",
      "text/plain": [
       "<Figure size 432x288 with 1 Axes>"
      ]
     },
     "metadata": {
      "needs_background": "light"
     },
     "output_type": "display_data"
    },
    {
     "name": "stderr",
     "output_type": "stream",
     "text": [
      "\r",
      "  0%|          | 1/4663 [00:00<20:49,  3.73it/s]"
     ]
    },
    {
     "name": "stdout",
     "output_type": "stream",
     "text": [
      "------------------------------------------\n",
      "False positive\n",
      "Label =  No triangle  =  0\n",
      "prediction =  1\n"
     ]
    },
    {
     "data": {
      "image/png": "[encoded data removed]",
      "text/plain": [
       "<Figure size 432x288 with 1 Axes>"
      ]
     },
     "metadata": {
      "needs_background": "light"
     },
     "output_type": "display_data"
    },
    {
     "name": "stderr",
     "output_type": "stream",
     "text": [
      "\r",
      "  0%|          | 2/4663 [00:00<18:25,  4.22it/s]"
     ]
    },
    {
     "name": "stdout",
     "output_type": "stream",
     "text": [
      "------------------------------------------\n",
      "True negative\n",
      "Label =  No triangle  =  0\n",
      "prediction =  0\n"
     ]
    },
    {
     "data": {
      "image/png": "[encoded data removed]",
      "text/plain": [
       "<Figure size 432x288 with 1 Axes>"
      ]
     },
     "metadata": {
      "needs_background": "light"
     },
     "output_type": "display_data"
    },
    {
     "name": "stderr",
     "output_type": "stream",
     "text": [
      "\r",
      "  0%|          | 3/4663 [00:00<16:23,  4.74it/s]"
     ]
    },
    {
     "name": "stdout",
     "output_type": "stream",
     "text": [
      "------------------------------------------\n",
      "True negative\n",
      "Label =  No triangle  =  0\n",
      "prediction =  0\n"
     ]
    },
    {
     "data": {
      "image/png": "[encoded data removed]",
      "text/plain": [
       "<Figure size 432x288 with 1 Axes>"
      ]
     },
     "metadata": {
      "needs_background": "light"
     },
     "output_type": "display_data"
    },
    {
     "name": "stderr",
     "output_type": "stream",
     "text": [
      "\r",
      "  0%|          | 4/4663 [00:00<14:57,  5.19it/s]"
     ]
    },
    {
     "name": "stdout",
     "output_type": "stream",
     "text": [
      "------------------------------------------\n",
      "True negative\n",
      "Label =  No triangle  =  0\n",
      "prediction =  0\n"
     ]
    },
    {
     "data": {
      "image/png": "[encoded data removed]",
      "text/plain": [
       "<Figure size 432x288 with 1 Axes>"
      ]
     },
     "metadata": {
      "needs_background": "light"
     },
     "output_type": "display_data"
    },
    {
     "name": "stderr",
     "output_type": "stream",
     "text": [
      "100%|██████████| 4663/4663 [03:06<00:00, 24.95it/s]\n"
     ]
    },
    {
     "name": "stdout",
     "output_type": "stream",
     "text": [
      "Trained on 18652\n",
      "Validated on 4663\n",
      "Model: \"sequential_2\"\n",
      "_________________________________________________________________\n",
      "Layer (type)                 Output Shape              Param #   \n",
      "=================================================================\n",
      "conv2d_6 (Conv2D)            (None, 32, 32, 32)        320       \n",
      "_________________________________________________________________\n",
      "max_pooling2d_4 (MaxPooling2 (None, 16, 16, 32)        0         \n",
      "_________________________________________________________________\n",
      "conv2d_7 (Conv2D)            (None, 16, 16, 64)        18496     \n",
      "_________________________________________________________________\n",
      "max_pooling2d_5 (MaxPooling2 (None, 8, 8, 64)          0         \n",
      "_________________________________________________________________\n",
      "conv2d_8 (Conv2D)            (None, 8, 8, 64)          36928     \n",
      "_________________________________________________________________\n",
      "flatten_2 (Flatten)          (None, 4096)              0         \n",
      "_________________________________________________________________\n",
      "dense_6 (Dense)              (None, 64)                262208    \n",
      "_________________________________________________________________\n",
      "dropout_4 (Dropout)          (None, 64)                0         \n",
      "_________________________________________________________________\n",
      "dense_7 (Dense)              (None, 32)                2080      \n",
      "_________________________________________________________________\n",
      "dropout_5 (Dropout)          (None, 32)                0         \n",
      "_________________________________________________________________\n",
      "dense_8 (Dense)              (None, 1)                 33        \n",
      "=================================================================\n",
      "Total params: 320,065\n",
      "Trainable params: 320,065\n",
      "Non-trainable params: 0\n",
      "_________________________________________________________________\n",
      "Train on 18652 samples, validate on 4663 samples\n",
      "Epoch 1/10\n",
      "18652/18652 [==============================] - 30s 2ms/sample - loss: 0.2824 - accuracy: 0.8815 - val_loss: 0.2250 - val_accuracy: 0.9164\n",
      "Epoch 2/10\n",
      "18652/18652 [==============================] - 30s 2ms/sample - loss: 0.2053 - accuracy: 0.9216 - val_loss: 0.1861 - val_accuracy: 0.9299\n",
      "Epoch 3/10\n",
      "18652/18652 [==============================] - 29s 2ms/sample - loss: 0.1771 - accuracy: 0.9331 - val_loss: 0.1716 - val_accuracy: 0.9357\n",
      "Epoch 4/10\n",
      "18652/18652 [==============================] - 29s 2ms/sample - loss: 0.1615 - accuracy: 0.9411 - val_loss: 0.1903 - val_accuracy: 0.9245\n",
      "Epoch 5/10\n",
      "18652/18652 [==============================] - 29s 2ms/sample - loss: 0.1399 - accuracy: 0.9507 - val_loss: 0.1655 - val_accuracy: 0.9415\n",
      "Epoch 6/10\n",
      "18652/18652 [==============================] - 30s 2ms/sample - loss: 0.1265 - accuracy: 0.9576 - val_loss: 0.1424 - val_accuracy: 0.9517\n",
      "Epoch 7/10\n",
      "18652/18652 [==============================] - 29s 2ms/sample - loss: 0.1157 - accuracy: 0.9611 - val_loss: 0.1574 - val_accuracy: 0.9462\n",
      "Epoch 8/10\n",
      "18652/18652 [==============================] - 29s 2ms/sample - loss: 0.1008 - accuracy: 0.9672 - val_loss: 0.1724 - val_accuracy: 0.9457\n",
      "Epoch 9/10\n",
      "18652/18652 [==============================] - 28s 2ms/sample - loss: 0.0865 - accuracy: 0.9736 - val_loss: 0.1788 - val_accuracy: 0.9477\n",
      "Epoch 10/10\n",
      "18652/18652 [==============================] - 29s 2ms/sample - loss: 0.0738 - accuracy: 0.9787 - val_loss: 0.1744 - val_accuracy: 0.9447\n"
     ]
    },
    {
     "name": "stderr",
     "output_type": "stream",
     "text": [
      "\r",
      "  0%|          | 0/4663 [00:00<?, ?it/s]"
     ]
    },
    {
     "name": "stdout",
     "output_type": "stream",
     "text": [
      "------------------------------------------\n",
      "False negative\n",
      "Label =  Bias triangle  =  1\n",
      "prediction =  0\n"
     ]
    },
    {
     "data": {
      "image/png": "[encoded data removed]",
      "text/plain": [
       "<Figure size 432x288 with 1 Axes>"
      ]
     },
     "metadata": {
      "needs_background": "light"
     },
     "output_type": "display_data"
    },
    {
     "name": "stderr",
     "output_type": "stream",
     "text": [
      "\r",
      "  0%|          | 1/4663 [00:00<21:13,  3.66it/s]"
     ]
    },
    {
     "name": "stdout",
     "output_type": "stream",
     "text": [
      "------------------------------------------\n",
      "True negative\n",
      "Label =  No triangle  =  0\n",
      "prediction =  0\n"
     ]
    },
    {
     "data": {
      "image/png": "[encoded data removed]",
      "text/plain": [
       "<Figure size 432x288 with 1 Axes>"
      ]
     },
     "metadata": {
      "needs_background": "light"
     },
     "output_type": "display_data"
    },
    {
     "name": "stderr",
     "output_type": "stream",
     "text": [
      "\r",
      "  0%|          | 2/4663 [00:00<18:55,  4.10it/s]"
     ]
    },
    {
     "name": "stdout",
     "output_type": "stream",
     "text": [
      "------------------------------------------\n",
      "True negative\n",
      "Label =  No triangle  =  0\n",
      "prediction =  0\n"
     ]
    },
    {
     "data": {
      "image/png": "[encoded data removed]",
      "text/plain": [
       "<Figure size 432x288 with 1 Axes>"
      ]
     },
     "metadata": {
      "needs_background": "light"
     },
     "output_type": "display_data"
    },
    {
     "name": "stderr",
     "output_type": "stream",
     "text": [
      "\r",
      "  0%|          | 3/4663 [00:00<17:11,  4.52it/s]"
     ]
    },
    {
     "name": "stdout",
     "output_type": "stream",
     "text": [
      "------------------------------------------\n",
      "True negative\n",
      "Label =  No triangle  =  0\n",
      "prediction =  0\n"
     ]
    },
    {
     "data": {
      "image/png": "[encoded data removed]",
      "text/plain": [
       "<Figure size 432x288 with 1 Axes>"
      ]
     },
     "metadata": {
      "needs_background": "light"
     },
     "output_type": "display_data"
    },
    {
     "name": "stderr",
     "output_type": "stream",
     "text": [
      "\r",
      "  0%|          | 4/4663 [00:00<15:38,  4.96it/s]"
     ]
    },
    {
     "name": "stdout",
     "output_type": "stream",
     "text": [
      "------------------------------------------\n",
      "True negative\n",
      "Label =  No triangle  =  0\n",
      "prediction =  0\n"
     ]
    },
    {
     "data": {
      "image/png": "[encoded data removed]",
      "text/plain": [
       "<Figure size 432x288 with 1 Axes>"
      ]
     },
     "metadata": {
      "needs_background": "light"
     },
     "output_type": "display_data"
    },
    {
     "name": "stderr",
     "output_type": "stream",
     "text": [
      "100%|██████████| 4663/4663 [04:13<00:00, 18.41it/s]  \n"
     ]
    },
    {
     "name": "stdout",
     "output_type": "stream",
     "text": [
      "CPU times: user 44min 24s, sys: 11min 48s, total: 56min 13s\n",
      "Wall time: 25min 18s\n"
     ]
    }
   ],
   "source": [
    "%%time\n",
    "perc_true_positive_tot = []\n",
    "perc_false_positive_tot = []\n",
    "perc_true_negative_tot = []\n",
    "perc_false_negative_tot = []\n",
    "\n",
    "\n",
    "for i in range(3):\n",
    "\n",
    "    def myfunction():\n",
    "        return 0.9\n",
    "    z=np.arange(len(data_total))\n",
    "    random.shuffle(z)\n",
    "    images_copy=data_total.copy()\n",
    "    images_shuffle=data_total.copy()\n",
    "    labels_copy=labels_total.copy()\n",
    "    labels_shuffle=labels_total.copy()\n",
    "    for i in range(len(data_total)):\n",
    "        images_shuffle[i]=images_copy[z[i]]\n",
    "        labels_shuffle[i]=labels_copy[z[i]]   \n",
    "    images_shuffle,labels_shuffle = normalise(images_shuffle,labels_shuffle) \n",
    "    val_split = 0.2\n",
    "    val_set = np.int(val_split*np.shape(labels_shuffle)[0])\n",
    "    train_images= np.array(images_shuffle[val_set:]).reshape(-1, 32, 32, 1)\n",
    "    train_labels = np.array(labels_shuffle[val_set:]).reshape(-1, 1)\n",
    "    validate_images = np.array(images_shuffle[:val_set]).reshape(-1, 32, 32, 1)\n",
    "    validate_labels = np.array(labels_shuffle[:val_set]).reshape(-1, 1)\n",
    "    \n",
    "    \n",
    "    train_images_pre=np.squeeze(train_images)\n",
    "    train_labels_pre=np.squeeze(train_labels)\n",
    "    validate_images_pre=np.squeeze(validate_images)\n",
    "    validate_labels_pre=np.squeeze(validate_labels)\n",
    "    \n",
    "    train_X=block_splitting(train_images_pre)\n",
    "    train_Y=train_labels\n",
    "    valid_X=block_splitting(validate_images_pre)\n",
    "    valid_Y=validate_labels\n",
    "    \n",
    "    min_max_array=min_max(train_X)\n",
    "    train_norm_X=normaliser(train_X,min_max_array)\n",
    "    min_max_check=min_max(train_norm_X)\n",
    "    valid_norm_X=normaliser(valid_X,min_max_array)\n",
    "    min_max_check=min_max(valid_norm_X)\n",
    "    ave_intens=intensity_finder(train_norm_X)\n",
    "    \n",
    "    \n",
    "    max_val=1.3*intensity_finder(train_norm_X)\n",
    "    min_val=0.7*intensity_finder(train_norm_X)\n",
    "    pre_array_train=pre_classifier_high_and_low_intens(train_norm_X, min_intens_cutoff=min_val,\n",
    "                             max_intens_cutoff=max_val, num_blocks=8)\n",
    "    pre_array_valid=pre_classifier_high_and_low_intens(valid_norm_X, min_intens_cutoff=min_val,\n",
    "                             max_intens_cutoff=max_val, num_blocks=8)\n",
    "    pre_array_total=np.concatenate((pre_array_train,pre_array_valid),axis=0)\n",
    "\n",
    "    \n",
    "    model_binary_classifier,percent_true_positive, percent_false_positive,percent_true_negative,percent_false_negative = model_main(pre_class_vector=pre_array_valid)\n",
    "\n",
    "    perc_true_positive_tot.append(percent_true_positive)\n",
    "    perc_false_positive_tot.append(percent_false_positive)\n",
    "    perc_true_negative_tot.append(percent_true_negative)\n",
    "    perc_false_negative_tot.append(percent_false_negative)"
   ]
  },
  {
   "cell_type": "code",
   "execution_count": 15,
   "metadata": {},
   "outputs": [
    {
     "name": "stdout",
     "output_type": "stream",
     "text": [
      "Trained on 13057\n",
      "Validated on 3264\n",
      "Model: \"sequential\"\n",
      "_________________________________________________________________\n",
      "Layer (type)                 Output Shape              Param #   \n",
      "=================================================================\n",
      "conv2d (Conv2D)              (None, 32, 32, 32)        320       \n",
      "_________________________________________________________________\n",
      "max_pooling2d (MaxPooling2D) (None, 16, 16, 32)        0         \n",
      "_________________________________________________________________\n",
      "conv2d_1 (Conv2D)            (None, 16, 16, 64)        18496     \n",
      "_________________________________________________________________\n",
      "max_pooling2d_1 (MaxPooling2 (None, 8, 8, 64)          0         \n",
      "_________________________________________________________________\n",
      "conv2d_2 (Conv2D)            (None, 8, 8, 64)          36928     \n",
      "_________________________________________________________________\n",
      "flatten (Flatten)            (None, 4096)              0         \n",
      "_________________________________________________________________\n",
      "dense (Dense)                (None, 64)                262208    \n",
      "_________________________________________________________________\n",
      "dropout (Dropout)            (None, 64)                0         \n",
      "_________________________________________________________________\n",
      "dense_1 (Dense)              (None, 32)                2080      \n",
      "_________________________________________________________________\n",
      "dropout_1 (Dropout)          (None, 32)                0         \n",
      "_________________________________________________________________\n",
      "dense_2 (Dense)              (None, 1)                 33        \n",
      "=================================================================\n",
      "Total params: 320,065\n",
      "Trainable params: 320,065\n",
      "Non-trainable params: 0\n",
      "_________________________________________________________________\n",
      "Train on 13057 samples, validate on 3264 samples\n",
      "Epoch 1/10\n",
      "13057/13057 [==============================] - 22s 2ms/sample - loss: 0.3562 - accuracy: 0.8902 - val_loss: 0.3029 - val_accuracy: 0.9032\n",
      "Epoch 2/10\n",
      "13057/13057 [==============================] - 20s 2ms/sample - loss: 0.3008 - accuracy: 0.9125 - val_loss: 0.2880 - val_accuracy: 0.9145\n",
      "Epoch 3/10\n",
      "13057/13057 [==============================] - 22s 2ms/sample - loss: 0.2776 - accuracy: 0.9212 - val_loss: 0.2775 - val_accuracy: 0.9170\n",
      "Epoch 4/10\n",
      "13057/13057 [==============================] - 21s 2ms/sample - loss: 0.2641 - accuracy: 0.9256 - val_loss: 0.2695 - val_accuracy: 0.9213\n",
      "Epoch 5/10\n",
      "13057/13057 [==============================] - 21s 2ms/sample - loss: 0.2585 - accuracy: 0.9285 - val_loss: 0.2758 - val_accuracy: 0.9249\n",
      "Epoch 6/10\n",
      "13057/13057 [==============================] - 21s 2ms/sample - loss: 0.2494 - accuracy: 0.9318 - val_loss: 0.2607 - val_accuracy: 0.9265\n",
      "Epoch 7/10\n",
      "13057/13057 [==============================] - 20s 2ms/sample - loss: 0.2460 - accuracy: 0.9331 - val_loss: 0.2601 - val_accuracy: 0.9228\n",
      "Epoch 8/10\n",
      "13057/13057 [==============================] - 20s 2ms/sample - loss: 0.2417 - accuracy: 0.9354 - val_loss: 0.2537 - val_accuracy: 0.9289\n",
      "Epoch 9/10\n",
      "13057/13057 [==============================] - 20s 2ms/sample - loss: 0.2368 - accuracy: 0.9374 - val_loss: 0.2556 - val_accuracy: 0.9289\n",
      "Epoch 10/10\n",
      "13057/13057 [==============================] - 20s 2ms/sample - loss: 0.2332 - accuracy: 0.9374 - val_loss: 0.2544 - val_accuracy: 0.9283\n"
     ]
    },
    {
     "name": "stderr",
     "output_type": "stream",
     "text": [
      "\r",
      "  0%|          | 0/3264 [00:00<?, ?it/s]"
     ]
    },
    {
     "name": "stdout",
     "output_type": "stream",
     "text": [
      "------------------------------------------\n",
      "True negative\n",
      "Label =  No triangle  =  0\n",
      "prediction =  0\n"
     ]
    },
    {
     "data": {
      "image/png": "[encoded data removed]",
      "text/plain": [
       "<Figure size 432x288 with 1 Axes>"
      ]
     },
     "metadata": {
      "needs_background": "light"
     },
     "output_type": "display_data"
    },
    {
     "name": "stderr",
     "output_type": "stream",
     "text": [
      "\r",
      "  0%|          | 1/3264 [00:00<13:03,  4.17it/s]"
     ]
    },
    {
     "name": "stdout",
     "output_type": "stream",
     "text": [
      "------------------------------------------\n",
      "True negative\n",
      "Label =  No triangle  =  0\n",
      "prediction =  0\n"
     ]
    },
    {
     "data": {
      "image/png": "[encoded data removed]",
      "text/plain": [
       "<Figure size 432x288 with 1 Axes>"
      ]
     },
     "metadata": {
      "needs_background": "light"
     },
     "output_type": "display_data"
    },
    {
     "name": "stderr",
     "output_type": "stream",
     "text": [
      "\r",
      "  0%|          | 2/3264 [00:00<13:38,  3.99it/s]"
     ]
    },
    {
     "name": "stdout",
     "output_type": "stream",
     "text": [
      "------------------------------------------\n",
      "True negative\n",
      "Label =  No triangle  =  0\n",
      "prediction =  0\n"
     ]
    },
    {
     "data": {
      "image/png": "[encoded data removed]",
      "text/plain": [
       "<Figure size 432x288 with 1 Axes>"
      ]
     },
     "metadata": {
      "needs_background": "light"
     },
     "output_type": "display_data"
    },
    {
     "name": "stderr",
     "output_type": "stream",
     "text": [
      "\r",
      "  0%|          | 3/3264 [00:00<12:09,  4.47it/s]"
     ]
    },
    {
     "name": "stdout",
     "output_type": "stream",
     "text": [
      "------------------------------------------\n",
      "True negative\n",
      "Label =  No triangle  =  0\n",
      "prediction =  0\n"
     ]
    },
    {
     "data": {
      "image/png": "[encoded data removed]",
      "text/plain": [
       "<Figure size 432x288 with 1 Axes>"
      ]
     },
     "metadata": {
      "needs_background": "light"
     },
     "output_type": "display_data"
    },
    {
     "name": "stderr",
     "output_type": "stream",
     "text": [
      "\r",
      "  0%|          | 4/3264 [00:00<10:56,  4.97it/s]"
     ]
    },
    {
     "name": "stdout",
     "output_type": "stream",
     "text": [
      "------------------------------------------\n",
      "True negative\n",
      "Label =  No triangle  =  0\n",
      "prediction =  0\n"
     ]
    },
    {
     "data": {
      "image/png": "[encoded data removed]",
      "text/plain": [
       "<Figure size 432x288 with 1 Axes>"
      ]
     },
     "metadata": {
      "needs_background": "light"
     },
     "output_type": "display_data"
    },
    {
     "name": "stderr",
     "output_type": "stream",
     "text": [
      "100%|██████████| 3264/3264 [01:53<00:00, 28.87it/s]\n"
     ]
    },
    {
     "name": "stdout",
     "output_type": "stream",
     "text": [
      "Trained on 13057\n",
      "Validated on 3264\n",
      "Model: \"sequential_1\"\n",
      "_________________________________________________________________\n",
      "Layer (type)                 Output Shape              Param #   \n",
      "=================================================================\n",
      "conv2d_3 (Conv2D)            (None, 32, 32, 32)        320       \n",
      "_________________________________________________________________\n",
      "max_pooling2d_2 (MaxPooling2 (None, 16, 16, 32)        0         \n",
      "_________________________________________________________________\n",
      "conv2d_4 (Conv2D)            (None, 16, 16, 64)        18496     \n",
      "_________________________________________________________________\n",
      "max_pooling2d_3 (MaxPooling2 (None, 8, 8, 64)          0         \n",
      "_________________________________________________________________\n",
      "conv2d_5 (Conv2D)            (None, 8, 8, 64)          36928     \n",
      "_________________________________________________________________\n",
      "flatten_1 (Flatten)          (None, 4096)              0         \n",
      "_________________________________________________________________\n",
      "dense_3 (Dense)              (None, 64)                262208    \n",
      "_________________________________________________________________\n",
      "dropout_2 (Dropout)          (None, 64)                0         \n",
      "_________________________________________________________________\n",
      "dense_4 (Dense)              (None, 32)                2080      \n",
      "_________________________________________________________________\n",
      "dropout_3 (Dropout)          (None, 32)                0         \n",
      "_________________________________________________________________\n",
      "dense_5 (Dense)              (None, 1)                 33        \n",
      "=================================================================\n",
      "Total params: 320,065\n",
      "Trainable params: 320,065\n",
      "Non-trainable params: 0\n",
      "_________________________________________________________________\n",
      "Train on 13057 samples, validate on 3264 samples\n",
      "Epoch 1/10\n",
      "13057/13057 [==============================] - 20s 2ms/sample - loss: 0.3557 - accuracy: 0.8927 - val_loss: 0.3043 - val_accuracy: 0.9026\n",
      "Epoch 2/10\n",
      "13057/13057 [==============================] - 21s 2ms/sample - loss: 0.2973 - accuracy: 0.9117 - val_loss: 0.2887 - val_accuracy: 0.9148\n",
      "Epoch 3/10\n",
      "13057/13057 [==============================] - 20s 1ms/sample - loss: 0.2776 - accuracy: 0.9216 - val_loss: 0.2711 - val_accuracy: 0.9188\n",
      "Epoch 4/10\n",
      "13057/13057 [==============================] - 20s 1ms/sample - loss: 0.2653 - accuracy: 0.9262 - val_loss: 0.2634 - val_accuracy: 0.9243\n",
      "Epoch 5/10\n",
      "13057/13057 [==============================] - 20s 1ms/sample - loss: 0.2569 - accuracy: 0.9295 - val_loss: 0.2694 - val_accuracy: 0.9246\n",
      "Epoch 6/10\n",
      "13057/13057 [==============================] - 19s 1ms/sample - loss: 0.2474 - accuracy: 0.9329 - val_loss: 0.2681 - val_accuracy: 0.9237\n",
      "Epoch 7/10\n",
      "13057/13057 [==============================] - 19s 1ms/sample - loss: 0.2462 - accuracy: 0.9338 - val_loss: 0.2717 - val_accuracy: 0.9213\n",
      "Epoch 8/10\n",
      "13057/13057 [==============================] - 21s 2ms/sample - loss: 0.2431 - accuracy: 0.9346 - val_loss: 0.2580 - val_accuracy: 0.9265\n",
      "Epoch 9/10\n",
      "13057/13057 [==============================] - 20s 2ms/sample - loss: 0.2365 - accuracy: 0.9370 - val_loss: 0.2578 - val_accuracy: 0.9271\n",
      "Epoch 10/10\n",
      "13057/13057 [==============================] - 19s 1ms/sample - loss: 0.2346 - accuracy: 0.9370 - val_loss: 0.2658 - val_accuracy: 0.9231\n"
     ]
    },
    {
     "name": "stderr",
     "output_type": "stream",
     "text": [
      "\r",
      "  0%|          | 0/3264 [00:00<?, ?it/s]"
     ]
    },
    {
     "name": "stdout",
     "output_type": "stream",
     "text": [
      "------------------------------------------\n",
      "True negative\n",
      "Label =  No triangle  =  0\n",
      "prediction =  0\n"
     ]
    },
    {
     "data": {
      "image/png": "[encoded data removed]",
      "text/plain": [
       "<Figure size 432x288 with 1 Axes>"
      ]
     },
     "metadata": {
      "needs_background": "light"
     },
     "output_type": "display_data"
    },
    {
     "name": "stderr",
     "output_type": "stream",
     "text": [
      "\r",
      "  0%|          | 1/3264 [00:00<12:34,  4.32it/s]"
     ]
    },
    {
     "name": "stdout",
     "output_type": "stream",
     "text": [
      "------------------------------------------\n",
      "True negative\n",
      "Label =  No triangle  =  0\n",
      "prediction =  0\n"
     ]
    },
    {
     "data": {
      "image/png": "[encoded data removed]",
      "text/plain": [
       "<Figure size 432x288 with 1 Axes>"
      ]
     },
     "metadata": {
      "needs_background": "light"
     },
     "output_type": "display_data"
    },
    {
     "name": "stderr",
     "output_type": "stream",
     "text": [
      "\r",
      "  0%|          | 2/3264 [00:00<11:12,  4.85it/s]"
     ]
    },
    {
     "name": "stdout",
     "output_type": "stream",
     "text": [
      "------------------------------------------\n",
      "True negative\n",
      "Label =  No triangle  =  0\n",
      "prediction =  0\n"
     ]
    },
    {
     "data": {
      "image/png": "[encoded data removed]",
      "text/plain": [
       "<Figure size 432x288 with 1 Axes>"
      ]
     },
     "metadata": {
      "needs_background": "light"
     },
     "output_type": "display_data"
    },
    {
     "name": "stderr",
     "output_type": "stream",
     "text": [
      "\r",
      "  0%|          | 3/3264 [00:00<10:15,  5.30it/s]"
     ]
    },
    {
     "name": "stdout",
     "output_type": "stream",
     "text": [
      "------------------------------------------\n",
      "True negative\n",
      "Label =  No triangle  =  0\n",
      "prediction =  0\n"
     ]
    },
    {
     "data": {
      "image/png": "[encoded data removed]",
      "text/plain": [
       "<Figure size 432x288 with 1 Axes>"
      ]
     },
     "metadata": {
      "needs_background": "light"
     },
     "output_type": "display_data"
    },
    {
     "name": "stderr",
     "output_type": "stream",
     "text": [
      "\r",
      "  0%|          | 4/3264 [00:00<09:32,  5.69it/s]"
     ]
    },
    {
     "name": "stdout",
     "output_type": "stream",
     "text": [
      "------------------------------------------\n",
      "True negative\n",
      "Label =  No triangle  =  0\n",
      "prediction =  0\n"
     ]
    },
    {
     "data": {
      "image/png": "[encoded data removed]",
      "text/plain": [
       "<Figure size 432x288 with 1 Axes>"
      ]
     },
     "metadata": {
      "needs_background": "light"
     },
     "output_type": "display_data"
    },
    {
     "name": "stderr",
     "output_type": "stream",
     "text": [
      "100%|██████████| 3264/3264 [02:01<00:00, 26.77it/s]\n"
     ]
    },
    {
     "name": "stdout",
     "output_type": "stream",
     "text": [
      "Trained on 13057\n",
      "Validated on 3264\n",
      "Model: \"sequential_2\"\n",
      "_________________________________________________________________\n",
      "Layer (type)                 Output Shape              Param #   \n",
      "=================================================================\n",
      "conv2d_6 (Conv2D)            (None, 32, 32, 32)        320       \n",
      "_________________________________________________________________\n",
      "max_pooling2d_4 (MaxPooling2 (None, 16, 16, 32)        0         \n",
      "_________________________________________________________________\n",
      "conv2d_7 (Conv2D)            (None, 16, 16, 64)        18496     \n",
      "_________________________________________________________________\n",
      "max_pooling2d_5 (MaxPooling2 (None, 8, 8, 64)          0         \n",
      "_________________________________________________________________\n",
      "conv2d_8 (Conv2D)            (None, 8, 8, 64)          36928     \n",
      "_________________________________________________________________\n",
      "flatten_2 (Flatten)          (None, 4096)              0         \n",
      "_________________________________________________________________\n",
      "dense_6 (Dense)              (None, 64)                262208    \n",
      "_________________________________________________________________\n",
      "dropout_4 (Dropout)          (None, 64)                0         \n",
      "_________________________________________________________________\n",
      "dense_7 (Dense)              (None, 32)                2080      \n",
      "_________________________________________________________________\n",
      "dropout_5 (Dropout)          (None, 32)                0         \n",
      "_________________________________________________________________\n",
      "dense_8 (Dense)              (None, 1)                 33        \n",
      "=================================================================\n",
      "Total params: 320,065\n",
      "Trainable params: 320,065\n",
      "Non-trainable params: 0\n",
      "_________________________________________________________________\n",
      "Train on 13057 samples, validate on 3264 samples\n",
      "Epoch 1/10\n",
      "13057/13057 [==============================] - 21s 2ms/sample - loss: 0.3634 - accuracy: 0.8850 - val_loss: 0.3057 - val_accuracy: 0.9072\n",
      "Epoch 2/10\n",
      "13057/13057 [==============================] - 20s 2ms/sample - loss: 0.3040 - accuracy: 0.9109 - val_loss: 0.2855 - val_accuracy: 0.9182\n",
      "Epoch 3/10\n",
      "13057/13057 [==============================] - 20s 1ms/sample - loss: 0.2815 - accuracy: 0.9201 - val_loss: 0.2791 - val_accuracy: 0.9161\n",
      "Epoch 4/10\n",
      "13057/13057 [==============================] - 20s 2ms/sample - loss: 0.2709 - accuracy: 0.9219 - val_loss: 0.2713 - val_accuracy: 0.9210\n",
      "Epoch 5/10\n",
      "13057/13057 [==============================] - 19s 1ms/sample - loss: 0.2591 - accuracy: 0.9276 - val_loss: 0.2640 - val_accuracy: 0.9259\n",
      "Epoch 6/10\n",
      "13057/13057 [==============================] - 20s 2ms/sample - loss: 0.2494 - accuracy: 0.9323 - val_loss: 0.2523 - val_accuracy: 0.9283\n",
      "Epoch 7/10\n",
      "13057/13057 [==============================] - 20s 1ms/sample - loss: 0.2456 - accuracy: 0.9334 - val_loss: 0.2535 - val_accuracy: 0.9283\n",
      "Epoch 8/10\n",
      "13057/13057 [==============================] - 19s 1ms/sample - loss: 0.2415 - accuracy: 0.9351 - val_loss: 0.2533 - val_accuracy: 0.9283\n",
      "Epoch 9/10\n",
      "13057/13057 [==============================] - 19s 1ms/sample - loss: 0.2373 - accuracy: 0.9361 - val_loss: 0.2557 - val_accuracy: 0.9268\n",
      "Epoch 10/10\n",
      "13057/13057 [==============================] - 20s 2ms/sample - loss: 0.2336 - accuracy: 0.9376 - val_loss: 0.2533 - val_accuracy: 0.9305\n"
     ]
    },
    {
     "name": "stderr",
     "output_type": "stream",
     "text": [
      "\r",
      "  0%|          | 0/3264 [00:00<?, ?it/s]"
     ]
    },
    {
     "name": "stdout",
     "output_type": "stream",
     "text": [
      "------------------------------------------\n",
      "True negative\n",
      "Label =  No triangle  =  0\n",
      "prediction =  0\n"
     ]
    },
    {
     "data": {
      "image/png": "[encoded data removed]",
      "text/plain": [
       "<Figure size 432x288 with 1 Axes>"
      ]
     },
     "metadata": {
      "needs_background": "light"
     },
     "output_type": "display_data"
    },
    {
     "name": "stderr",
     "output_type": "stream",
     "text": [
      "\r",
      "  0%|          | 1/3264 [00:00<14:22,  3.78it/s]"
     ]
    },
    {
     "name": "stdout",
     "output_type": "stream",
     "text": [
      "------------------------------------------\n",
      "True negative\n",
      "Label =  No triangle  =  0\n",
      "prediction =  0\n"
     ]
    },
    {
     "data": {
      "image/png": "[encoded data removed]",
      "text/plain": [
       "<Figure size 432x288 with 1 Axes>"
      ]
     },
     "metadata": {
      "needs_background": "light"
     },
     "output_type": "display_data"
    },
    {
     "name": "stderr",
     "output_type": "stream",
     "text": [
      "\r",
      "  0%|          | 2/3264 [00:00<12:41,  4.28it/s]"
     ]
    },
    {
     "name": "stdout",
     "output_type": "stream",
     "text": [
      "------------------------------------------\n",
      "True negative\n",
      "Label =  No triangle  =  0\n",
      "prediction =  0\n"
     ]
    },
    {
     "data": {
      "image/png": "[encoded data removed]",
      "text/plain": [
       "<Figure size 432x288 with 1 Axes>"
      ]
     },
     "metadata": {
      "needs_background": "light"
     },
     "output_type": "display_data"
    },
    {
     "name": "stderr",
     "output_type": "stream",
     "text": [
      "\r",
      "  0%|          | 3/3264 [00:00<11:21,  4.78it/s]"
     ]
    },
    {
     "name": "stdout",
     "output_type": "stream",
     "text": [
      "------------------------------------------\n",
      "True negative\n",
      "Label =  No triangle  =  0\n",
      "prediction =  0\n"
     ]
    },
    {
     "data": {
      "image/png": "[encoded data removed]",
      "text/plain": [
       "<Figure size 432x288 with 1 Axes>"
      ]
     },
     "metadata": {
      "needs_background": "light"
     },
     "output_type": "display_data"
    },
    {
     "name": "stderr",
     "output_type": "stream",
     "text": [
      "\r",
      "  0%|          | 4/3264 [00:00<10:30,  5.17it/s]"
     ]
    },
    {
     "name": "stdout",
     "output_type": "stream",
     "text": [
      "------------------------------------------\n",
      "True negative\n",
      "Label =  No triangle  =  0\n",
      "prediction =  0\n"
     ]
    },
    {
     "data": {
      "image/png": "[encoded data removed]",
      "text/plain": [
       "<Figure size 432x288 with 1 Axes>"
      ]
     },
     "metadata": {
      "needs_background": "light"
     },
     "output_type": "display_data"
    },
    {
     "name": "stderr",
     "output_type": "stream",
     "text": [
      "100%|██████████| 3264/3264 [01:59<00:00, 27.28it/s]\n"
     ]
    },
    {
     "name": "stdout",
     "output_type": "stream",
     "text": [
      "Trained on 13057\n",
      "Validated on 3264\n",
      "Model: \"sequential_3\"\n",
      "_________________________________________________________________\n",
      "Layer (type)                 Output Shape              Param #   \n",
      "=================================================================\n",
      "conv2d_9 (Conv2D)            (None, 32, 32, 32)        320       \n",
      "_________________________________________________________________\n",
      "max_pooling2d_6 (MaxPooling2 (None, 16, 16, 32)        0         \n",
      "_________________________________________________________________\n",
      "conv2d_10 (Conv2D)           (None, 16, 16, 64)        18496     \n",
      "_________________________________________________________________\n",
      "max_pooling2d_7 (MaxPooling2 (None, 8, 8, 64)          0         \n",
      "_________________________________________________________________\n",
      "conv2d_11 (Conv2D)           (None, 8, 8, 64)          36928     \n",
      "_________________________________________________________________\n",
      "flatten_3 (Flatten)          (None, 4096)              0         \n",
      "_________________________________________________________________\n",
      "dense_9 (Dense)              (None, 64)                262208    \n",
      "_________________________________________________________________\n",
      "dropout_6 (Dropout)          (None, 64)                0         \n",
      "_________________________________________________________________\n",
      "dense_10 (Dense)             (None, 32)                2080      \n",
      "_________________________________________________________________\n",
      "dropout_7 (Dropout)          (None, 32)                0         \n",
      "_________________________________________________________________\n",
      "dense_11 (Dense)             (None, 1)                 33        \n",
      "=================================================================\n",
      "Total params: 320,065\n",
      "Trainable params: 320,065\n",
      "Non-trainable params: 0\n",
      "_________________________________________________________________\n",
      "Train on 13057 samples, validate on 3264 samples\n",
      "Epoch 1/10\n",
      "13057/13057 [==============================] - 20s 2ms/sample - loss: 0.3531 - accuracy: 0.8895 - val_loss: 0.3012 - val_accuracy: 0.9069\n",
      "Epoch 2/10\n",
      "13057/13057 [==============================] - 19s 1ms/sample - loss: 0.2973 - accuracy: 0.9139 - val_loss: 0.2868 - val_accuracy: 0.9167\n",
      "Epoch 3/10\n",
      "13057/13057 [==============================] - 20s 2ms/sample - loss: 0.2776 - accuracy: 0.9223 - val_loss: 0.2733 - val_accuracy: 0.9188\n",
      "Epoch 4/10\n",
      "13057/13057 [==============================] - 19s 1ms/sample - loss: 0.2681 - accuracy: 0.9257 - val_loss: 0.2754 - val_accuracy: 0.9185\n",
      "Epoch 5/10\n",
      "13057/13057 [==============================] - 19s 1ms/sample - loss: 0.2568 - accuracy: 0.9288 - val_loss: 0.2689 - val_accuracy: 0.9228\n",
      "Epoch 6/10\n",
      "13057/13057 [==============================] - 20s 2ms/sample - loss: 0.2493 - accuracy: 0.9322 - val_loss: 0.2642 - val_accuracy: 0.9219\n",
      "Epoch 7/10\n",
      "13057/13057 [==============================] - 19s 1ms/sample - loss: 0.2483 - accuracy: 0.9335 - val_loss: 0.2638 - val_accuracy: 0.9234\n",
      "Epoch 8/10\n",
      "13057/13057 [==============================] - 19s 1ms/sample - loss: 0.2424 - accuracy: 0.9351 - val_loss: 0.2546 - val_accuracy: 0.9274\n",
      "Epoch 9/10\n",
      "13057/13057 [==============================] - 19s 1ms/sample - loss: 0.2378 - accuracy: 0.9370 - val_loss: 0.2660 - val_accuracy: 0.9252\n",
      "Epoch 10/10\n",
      "13057/13057 [==============================] - 20s 2ms/sample - loss: 0.2368 - accuracy: 0.9360 - val_loss: 0.2560 - val_accuracy: 0.9252\n"
     ]
    },
    {
     "name": "stderr",
     "output_type": "stream",
     "text": [
      "\r",
      "  0%|          | 0/3264 [00:00<?, ?it/s]"
     ]
    },
    {
     "name": "stdout",
     "output_type": "stream",
     "text": [
      "------------------------------------------\n",
      "True negative\n",
      "Label =  No triangle  =  0\n",
      "prediction =  0\n"
     ]
    },
    {
     "data": {
      "image/png": "[encoded data removed]",
      "text/plain": [
       "<Figure size 432x288 with 1 Axes>"
      ]
     },
     "metadata": {
      "needs_background": "light"
     },
     "output_type": "display_data"
    },
    {
     "name": "stderr",
     "output_type": "stream",
     "text": [
      "\r",
      "  0%|          | 1/3264 [00:00<13:24,  4.06it/s]"
     ]
    },
    {
     "name": "stdout",
     "output_type": "stream",
     "text": [
      "------------------------------------------\n",
      "True negative\n",
      "Label =  No triangle  =  0\n",
      "prediction =  0\n"
     ]
    },
    {
     "data": {
      "image/png": "[encoded data removed]",
      "text/plain": [
       "<Figure size 432x288 with 1 Axes>"
      ]
     },
     "metadata": {
      "needs_background": "light"
     },
     "output_type": "display_data"
    },
    {
     "name": "stderr",
     "output_type": "stream",
     "text": [
      "\r",
      "  0%|          | 2/3264 [00:00<11:51,  4.58it/s]"
     ]
    },
    {
     "name": "stdout",
     "output_type": "stream",
     "text": [
      "------------------------------------------\n",
      "True negative\n",
      "Label =  No triangle  =  0\n",
      "prediction =  0\n"
     ]
    },
    {
     "data": {
      "image/png": "[encoded data removed]",
      "text/plain": [
       "<Figure size 432x288 with 1 Axes>"
      ]
     },
     "metadata": {
      "needs_background": "light"
     },
     "output_type": "display_data"
    },
    {
     "name": "stderr",
     "output_type": "stream",
     "text": [
      "\r",
      "  0%|          | 3/3264 [00:00<10:51,  5.00it/s]"
     ]
    },
    {
     "name": "stdout",
     "output_type": "stream",
     "text": [
      "------------------------------------------\n",
      "True negative\n",
      "Label =  No triangle  =  0\n",
      "prediction =  0\n"
     ]
    },
    {
     "data": {
      "image/png": "[encoded data removed]",
      "text/plain": [
       "<Figure size 432x288 with 1 Axes>"
      ]
     },
     "metadata": {
      "needs_background": "light"
     },
     "output_type": "display_data"
    },
    {
     "name": "stderr",
     "output_type": "stream",
     "text": [
      "\r",
      "  0%|          | 4/3264 [00:00<10:02,  5.41it/s]"
     ]
    },
    {
     "name": "stdout",
     "output_type": "stream",
     "text": [
      "------------------------------------------\n",
      "True negative\n",
      "Label =  No triangle  =  0\n",
      "prediction =  0\n"
     ]
    },
    {
     "data": {
      "image/png": "[encoded data removed]",
      "text/plain": [
       "<Figure size 432x288 with 1 Axes>"
      ]
     },
     "metadata": {
      "needs_background": "light"
     },
     "output_type": "display_data"
    },
    {
     "name": "stderr",
     "output_type": "stream",
     "text": [
      "100%|██████████| 3264/3264 [02:58<00:00, 18.33it/s]  \n"
     ]
    },
    {
     "name": "stdout",
     "output_type": "stream",
     "text": [
      "Trained on 13057\n",
      "Validated on 3264\n",
      "Model: \"sequential_4\"\n",
      "_________________________________________________________________\n",
      "Layer (type)                 Output Shape              Param #   \n",
      "=================================================================\n",
      "conv2d_12 (Conv2D)           (None, 32, 32, 32)        320       \n",
      "_________________________________________________________________\n",
      "max_pooling2d_8 (MaxPooling2 (None, 16, 16, 32)        0         \n",
      "_________________________________________________________________\n",
      "conv2d_13 (Conv2D)           (None, 16, 16, 64)        18496     \n",
      "_________________________________________________________________\n",
      "max_pooling2d_9 (MaxPooling2 (None, 8, 8, 64)          0         \n",
      "_________________________________________________________________\n",
      "conv2d_14 (Conv2D)           (None, 8, 8, 64)          36928     \n",
      "_________________________________________________________________\n",
      "flatten_4 (Flatten)          (None, 4096)              0         \n",
      "_________________________________________________________________\n",
      "dense_12 (Dense)             (None, 64)                262208    \n",
      "_________________________________________________________________\n",
      "dropout_8 (Dropout)          (None, 64)                0         \n",
      "_________________________________________________________________\n",
      "dense_13 (Dense)             (None, 32)                2080      \n",
      "_________________________________________________________________\n",
      "dropout_9 (Dropout)          (None, 32)                0         \n",
      "_________________________________________________________________\n",
      "dense_14 (Dense)             (None, 1)                 33        \n",
      "=================================================================\n",
      "Total params: 320,065\n",
      "Trainable params: 320,065\n",
      "Non-trainable params: 0\n",
      "_________________________________________________________________\n",
      "Train on 13057 samples, validate on 3264 samples\n",
      "Epoch 1/10\n",
      "13057/13057 [==============================] - 20s 2ms/sample - loss: 0.3500 - accuracy: 0.8904 - val_loss: 0.3079 - val_accuracy: 0.9035\n",
      "Epoch 2/10\n",
      "13057/13057 [==============================] - 20s 2ms/sample - loss: 0.2981 - accuracy: 0.9145 - val_loss: 0.2872 - val_accuracy: 0.9154\n",
      "Epoch 3/10\n",
      "13057/13057 [==============================] - 22s 2ms/sample - loss: 0.2775 - accuracy: 0.9212 - val_loss: 0.2797 - val_accuracy: 0.9167\n",
      "Epoch 4/10\n",
      "13057/13057 [==============================] - 22s 2ms/sample - loss: 0.2680 - accuracy: 0.9247 - val_loss: 0.2752 - val_accuracy: 0.9213\n",
      "Epoch 5/10\n",
      "13057/13057 [==============================] - 21s 2ms/sample - loss: 0.2600 - accuracy: 0.9275 - val_loss: 0.2643 - val_accuracy: 0.9240\n",
      "Epoch 6/10\n",
      "13057/13057 [==============================] - 20s 2ms/sample - loss: 0.2482 - accuracy: 0.9331 - val_loss: 0.2614 - val_accuracy: 0.9262\n",
      "Epoch 7/10\n",
      "13057/13057 [==============================] - 20s 2ms/sample - loss: 0.2467 - accuracy: 0.9333 - val_loss: 0.2576 - val_accuracy: 0.9274\n",
      "Epoch 8/10\n",
      "13057/13057 [==============================] - 20s 2ms/sample - loss: 0.2414 - accuracy: 0.9346 - val_loss: 0.2563 - val_accuracy: 0.9268\n",
      "Epoch 9/10\n",
      "13057/13057 [==============================] - 20s 2ms/sample - loss: 0.2383 - accuracy: 0.9363 - val_loss: 0.2585 - val_accuracy: 0.9280\n",
      "Epoch 10/10\n",
      "13057/13057 [==============================] - 20s 2ms/sample - loss: 0.2317 - accuracy: 0.9379 - val_loss: 0.2527 - val_accuracy: 0.9283\n"
     ]
    },
    {
     "name": "stderr",
     "output_type": "stream",
     "text": [
      "\r",
      "  0%|          | 0/3264 [00:00<?, ?it/s]"
     ]
    },
    {
     "name": "stdout",
     "output_type": "stream",
     "text": [
      "------------------------------------------\n",
      "True negative\n",
      "Label =  No triangle  =  0\n",
      "prediction =  0\n"
     ]
    },
    {
     "data": {
      "image/png": "[encoded data removed]",
      "text/plain": [
       "<Figure size 432x288 with 1 Axes>"
      ]
     },
     "metadata": {
      "needs_background": "light"
     },
     "output_type": "display_data"
    },
    {
     "name": "stderr",
     "output_type": "stream",
     "text": [
      "\r",
      "  0%|          | 1/3264 [00:00<19:48,  2.75it/s]"
     ]
    },
    {
     "name": "stdout",
     "output_type": "stream",
     "text": [
      "------------------------------------------\n",
      "True negative\n",
      "Label =  No triangle  =  0\n",
      "prediction =  0\n"
     ]
    },
    {
     "data": {
      "image/png": "[encoded data removed]",
      "text/plain": [
       "<Figure size 432x288 with 1 Axes>"
      ]
     },
     "metadata": {
      "needs_background": "light"
     },
     "output_type": "display_data"
    },
    {
     "name": "stderr",
     "output_type": "stream",
     "text": [
      "\r",
      "  0%|          | 2/3264 [00:00<16:49,  3.23it/s]"
     ]
    },
    {
     "name": "stdout",
     "output_type": "stream",
     "text": [
      "------------------------------------------\n",
      "True negative\n",
      "Label =  No triangle  =  0\n",
      "prediction =  0\n"
     ]
    },
    {
     "data": {
      "image/png": "[encoded data removed]",
      "text/plain": [
       "<Figure size 432x288 with 1 Axes>"
      ]
     },
     "metadata": {
      "needs_background": "light"
     },
     "output_type": "display_data"
    },
    {
     "name": "stderr",
     "output_type": "stream",
     "text": [
      "\r",
      "  0%|          | 3/3264 [00:00<14:31,  3.74it/s]"
     ]
    },
    {
     "name": "stdout",
     "output_type": "stream",
     "text": [
      "------------------------------------------\n",
      "True negative\n",
      "Label =  No triangle  =  0\n",
      "prediction =  0\n"
     ]
    },
    {
     "data": {
      "image/png": "[encoded data removed]",
      "text/plain": [
       "<Figure size 432x288 with 1 Axes>"
      ]
     },
     "metadata": {
      "needs_background": "light"
     },
     "output_type": "display_data"
    },
    {
     "name": "stderr",
     "output_type": "stream",
     "text": [
      "\r",
      "  0%|          | 4/3264 [00:00<12:35,  4.31it/s]"
     ]
    },
    {
     "name": "stdout",
     "output_type": "stream",
     "text": [
      "------------------------------------------\n",
      "True negative\n",
      "Label =  No triangle  =  0\n",
      "prediction =  0\n"
     ]
    },
    {
     "data": {
      "image/png": "[encoded data removed]",
      "text/plain": [
       "<Figure size 432x288 with 1 Axes>"
      ]
     },
     "metadata": {
      "needs_background": "light"
     },
     "output_type": "display_data"
    },
    {
     "name": "stderr",
     "output_type": "stream",
     "text": [
      "100%|██████████| 3264/3264 [03:28<00:00, 15.67it/s]  \n"
     ]
    },
    {
     "name": "stdout",
     "output_type": "stream",
     "text": [
      "Trained on 13057\n",
      "Validated on 3264\n",
      "Model: \"sequential_5\"\n",
      "_________________________________________________________________\n",
      "Layer (type)                 Output Shape              Param #   \n",
      "=================================================================\n",
      "conv2d_15 (Conv2D)           (None, 32, 32, 32)        320       \n",
      "_________________________________________________________________\n",
      "max_pooling2d_10 (MaxPooling (None, 16, 16, 32)        0         \n",
      "_________________________________________________________________\n",
      "conv2d_16 (Conv2D)           (None, 16, 16, 64)        18496     \n",
      "_________________________________________________________________\n",
      "max_pooling2d_11 (MaxPooling (None, 8, 8, 64)          0         \n",
      "_________________________________________________________________\n",
      "conv2d_17 (Conv2D)           (None, 8, 8, 64)          36928     \n",
      "_________________________________________________________________\n",
      "flatten_5 (Flatten)          (None, 4096)              0         \n",
      "_________________________________________________________________\n",
      "dense_15 (Dense)             (None, 64)                262208    \n",
      "_________________________________________________________________\n",
      "dropout_10 (Dropout)         (None, 64)                0         \n",
      "_________________________________________________________________\n",
      "dense_16 (Dense)             (None, 32)                2080      \n",
      "_________________________________________________________________\n",
      "dropout_11 (Dropout)         (None, 32)                0         \n",
      "_________________________________________________________________\n",
      "dense_17 (Dense)             (None, 1)                 33        \n",
      "=================================================================\n",
      "Total params: 320,065\n",
      "Trainable params: 320,065\n",
      "Non-trainable params: 0\n",
      "_________________________________________________________________\n",
      "Train on 13057 samples, validate on 3264 samples\n",
      "Epoch 1/10\n",
      "13057/13057 [==============================] - 24s 2ms/sample - loss: 0.3573 - accuracy: 0.8900 - val_loss: 0.3144 - val_accuracy: 0.9038\n",
      "Epoch 2/10\n",
      "13057/13057 [==============================] - 22s 2ms/sample - loss: 0.2976 - accuracy: 0.9129 - val_loss: 0.2896 - val_accuracy: 0.9145\n",
      "Epoch 3/10\n",
      "13057/13057 [==============================] - 21s 2ms/sample - loss: 0.2797 - accuracy: 0.9221 - val_loss: 0.2784 - val_accuracy: 0.9164\n",
      "Epoch 4/10\n",
      "13057/13057 [==============================] - 20s 2ms/sample - loss: 0.2698 - accuracy: 0.9237 - val_loss: 0.2810 - val_accuracy: 0.9182\n",
      "Epoch 5/10\n",
      "13057/13057 [==============================] - 21s 2ms/sample - loss: 0.2589 - accuracy: 0.9288 - val_loss: 0.2689 - val_accuracy: 0.9237\n",
      "Epoch 6/10\n",
      "13057/13057 [==============================] - 20s 2ms/sample - loss: 0.2486 - accuracy: 0.9326 - val_loss: 0.2678 - val_accuracy: 0.9240\n",
      "Epoch 7/10\n",
      "13057/13057 [==============================] - 19s 1ms/sample - loss: 0.2460 - accuracy: 0.9343 - val_loss: 0.2528 - val_accuracy: 0.9295\n",
      "Epoch 8/10\n",
      "13057/13057 [==============================] - 21s 2ms/sample - loss: 0.2410 - accuracy: 0.9354 - val_loss: 0.2508 - val_accuracy: 0.9298\n",
      "Epoch 9/10\n",
      "13057/13057 [==============================] - 22s 2ms/sample - loss: 0.2377 - accuracy: 0.9369 - val_loss: 0.2551 - val_accuracy: 0.9286\n",
      "Epoch 10/10\n",
      "13057/13057 [==============================] - 20s 1ms/sample - loss: 0.2328 - accuracy: 0.9377 - val_loss: 0.2571 - val_accuracy: 0.9265\n"
     ]
    },
    {
     "name": "stderr",
     "output_type": "stream",
     "text": [
      "\r",
      "  0%|          | 0/3264 [00:00<?, ?it/s]"
     ]
    },
    {
     "name": "stdout",
     "output_type": "stream",
     "text": [
      "------------------------------------------\n",
      "True negative\n",
      "Label =  No triangle  =  0\n",
      "prediction =  0\n"
     ]
    },
    {
     "data": {
      "image/png": "[encoded data removed]",
      "text/plain": [
       "<Figure size 432x288 with 1 Axes>"
      ]
     },
     "metadata": {
      "needs_background": "light"
     },
     "output_type": "display_data"
    },
    {
     "name": "stderr",
     "output_type": "stream",
     "text": [
      "\r",
      "  0%|          | 1/3264 [00:00<25:14,  2.15it/s]"
     ]
    },
    {
     "name": "stdout",
     "output_type": "stream",
     "text": [
      "------------------------------------------\n",
      "True negative\n",
      "Label =  No triangle  =  0\n",
      "prediction =  0\n"
     ]
    },
    {
     "data": {
      "image/png": "[encoded data removed]",
      "text/plain": [
       "<Figure size 432x288 with 1 Axes>"
      ]
     },
     "metadata": {
      "needs_background": "light"
     },
     "output_type": "display_data"
    },
    {
     "name": "stderr",
     "output_type": "stream",
     "text": [
      "\r",
      "  0%|          | 2/3264 [00:00<20:53,  2.60it/s]"
     ]
    },
    {
     "name": "stdout",
     "output_type": "stream",
     "text": [
      "------------------------------------------\n",
      "True negative\n",
      "Label =  No triangle  =  0\n",
      "prediction =  0\n"
     ]
    },
    {
     "data": {
      "image/png": "[encoded data removed]",
      "text/plain": [
       "<Figure size 432x288 with 1 Axes>"
      ]
     },
     "metadata": {
      "needs_background": "light"
     },
     "output_type": "display_data"
    },
    {
     "name": "stderr",
     "output_type": "stream",
     "text": [
      "\r",
      "  0%|          | 3/3264 [00:00<17:29,  3.11it/s]"
     ]
    },
    {
     "name": "stdout",
     "output_type": "stream",
     "text": [
      "------------------------------------------\n",
      "True negative\n",
      "Label =  No triangle  =  0\n",
      "prediction =  0\n"
     ]
    },
    {
     "data": {
      "image/png": "[encoded data removed]",
      "text/plain": [
       "<Figure size 432x288 with 1 Axes>"
      ]
     },
     "metadata": {
      "needs_background": "light"
     },
     "output_type": "display_data"
    },
    {
     "name": "stderr",
     "output_type": "stream",
     "text": [
      "\r",
      "  0%|          | 4/3264 [00:01<14:56,  3.64it/s]"
     ]
    },
    {
     "name": "stdout",
     "output_type": "stream",
     "text": [
      "------------------------------------------\n",
      "True negative\n",
      "Label =  No triangle  =  0\n",
      "prediction =  0\n"
     ]
    },
    {
     "data": {
      "image/png": "[encoded data removed]",
      "text/plain": [
       "<Figure size 432x288 with 1 Axes>"
      ]
     },
     "metadata": {
      "needs_background": "light"
     },
     "output_type": "display_data"
    },
    {
     "name": "stderr",
     "output_type": "stream",
     "text": [
      "100%|██████████| 3264/3264 [05:02<00:00, 10.79it/s]  \n"
     ]
    },
    {
     "name": "stdout",
     "output_type": "stream",
     "text": [
      "Trained on 13057\n",
      "Validated on 3264\n",
      "Model: \"sequential_6\"\n",
      "_________________________________________________________________\n",
      "Layer (type)                 Output Shape              Param #   \n",
      "=================================================================\n",
      "conv2d_18 (Conv2D)           (None, 32, 32, 32)        320       \n",
      "_________________________________________________________________\n",
      "max_pooling2d_12 (MaxPooling (None, 16, 16, 32)        0         \n",
      "_________________________________________________________________\n",
      "conv2d_19 (Conv2D)           (None, 16, 16, 64)        18496     \n",
      "_________________________________________________________________\n",
      "max_pooling2d_13 (MaxPooling (None, 8, 8, 64)          0         \n",
      "_________________________________________________________________\n",
      "conv2d_20 (Conv2D)           (None, 8, 8, 64)          36928     \n",
      "_________________________________________________________________\n",
      "flatten_6 (Flatten)          (None, 4096)              0         \n",
      "_________________________________________________________________\n",
      "dense_18 (Dense)             (None, 64)                262208    \n",
      "_________________________________________________________________\n",
      "dropout_12 (Dropout)         (None, 64)                0         \n",
      "_________________________________________________________________\n",
      "dense_19 (Dense)             (None, 32)                2080      \n",
      "_________________________________________________________________\n",
      "dropout_13 (Dropout)         (None, 32)                0         \n",
      "_________________________________________________________________\n",
      "dense_20 (Dense)             (None, 1)                 33        \n",
      "=================================================================\n",
      "Total params: 320,065\n",
      "Trainable params: 320,065\n",
      "Non-trainable params: 0\n",
      "_________________________________________________________________\n",
      "Train on 13057 samples, validate on 3264 samples\n",
      "Epoch 1/10\n",
      "13057/13057 [==============================] - 30s 2ms/sample - loss: 0.3586 - accuracy: 0.8890 - val_loss: 0.3088 - val_accuracy: 0.9041\n",
      "Epoch 2/10\n",
      "13057/13057 [==============================] - 23s 2ms/sample - loss: 0.2986 - accuracy: 0.9138 - val_loss: 0.2889 - val_accuracy: 0.9148\n",
      "Epoch 3/10\n",
      "13057/13057 [==============================] - 21s 2ms/sample - loss: 0.2804 - accuracy: 0.9213 - val_loss: 0.2750 - val_accuracy: 0.9188\n",
      "Epoch 4/10\n",
      "13057/13057 [==============================] - 20s 2ms/sample - loss: 0.2681 - accuracy: 0.9256 - val_loss: 0.2690 - val_accuracy: 0.9216\n",
      "Epoch 5/10\n",
      "13057/13057 [==============================] - 21s 2ms/sample - loss: 0.2608 - accuracy: 0.9290 - val_loss: 0.2689 - val_accuracy: 0.9222\n",
      "Epoch 6/10\n",
      "13057/13057 [==============================] - 21s 2ms/sample - loss: 0.2498 - accuracy: 0.9320 - val_loss: 0.2731 - val_accuracy: 0.9200\n",
      "Epoch 7/10\n",
      "13057/13057 [==============================] - 20s 2ms/sample - loss: 0.2464 - accuracy: 0.9344 - val_loss: 0.2613 - val_accuracy: 0.9256\n",
      "Epoch 8/10\n",
      "13057/13057 [==============================] - 20s 2ms/sample - loss: 0.2403 - accuracy: 0.9365 - val_loss: 0.2602 - val_accuracy: 0.9274\n",
      "Epoch 9/10\n",
      "13057/13057 [==============================] - 21s 2ms/sample - loss: 0.2393 - accuracy: 0.9362 - val_loss: 0.2516 - val_accuracy: 0.9308\n",
      "Epoch 10/10\n",
      "13057/13057 [==============================] - 19s 1ms/sample - loss: 0.2356 - accuracy: 0.9374 - val_loss: 0.2645 - val_accuracy: 0.9252\n"
     ]
    },
    {
     "name": "stderr",
     "output_type": "stream",
     "text": [
      "\r",
      "  0%|          | 0/3264 [00:00<?, ?it/s]"
     ]
    },
    {
     "name": "stdout",
     "output_type": "stream",
     "text": [
      "------------------------------------------\n",
      "True negative\n",
      "Label =  No triangle  =  0\n",
      "prediction =  0\n"
     ]
    },
    {
     "data": {
      "image/png": "[encoded data removed]",
      "text/plain": [
       "<Figure size 432x288 with 1 Axes>"
      ]
     },
     "metadata": {
      "needs_background": "light"
     },
     "output_type": "display_data"
    },
    {
     "name": "stderr",
     "output_type": "stream",
     "text": [
      "\r",
      "  0%|          | 1/3264 [00:00<42:11,  1.29it/s]"
     ]
    },
    {
     "name": "stdout",
     "output_type": "stream",
     "text": [
      "------------------------------------------\n",
      "True negative\n",
      "Label =  No triangle  =  0\n",
      "prediction =  0\n"
     ]
    },
    {
     "data": {
      "image/png": "[encoded data removed]",
      "text/plain": [
       "<Figure size 432x288 with 1 Axes>"
      ]
     },
     "metadata": {
      "needs_background": "light"
     },
     "output_type": "display_data"
    },
    {
     "name": "stderr",
     "output_type": "stream",
     "text": [
      "\r",
      "  0%|          | 2/3264 [00:01<33:57,  1.60it/s]"
     ]
    },
    {
     "name": "stdout",
     "output_type": "stream",
     "text": [
      "------------------------------------------\n",
      "True negative\n",
      "Label =  No triangle  =  0\n",
      "prediction =  0\n"
     ]
    },
    {
     "data": {
      "image/png": "[encoded data removed]",
      "text/plain": [
       "<Figure size 432x288 with 1 Axes>"
      ]
     },
     "metadata": {
      "needs_background": "light"
     },
     "output_type": "display_data"
    },
    {
     "name": "stderr",
     "output_type": "stream",
     "text": [
      "\r",
      "  0%|          | 3/3264 [00:01<27:43,  1.96it/s]"
     ]
    },
    {
     "name": "stdout",
     "output_type": "stream",
     "text": [
      "------------------------------------------\n",
      "True negative\n",
      "Label =  No triangle  =  0\n",
      "prediction =  0\n"
     ]
    },
    {
     "data": {
      "image/png": "[encoded data removed]",
      "text/plain": [
       "<Figure size 432x288 with 1 Axes>"
      ]
     },
     "metadata": {
      "needs_background": "light"
     },
     "output_type": "display_data"
    },
    {
     "name": "stderr",
     "output_type": "stream",
     "text": [
      "\r",
      "  0%|          | 4/3264 [00:01<22:39,  2.40it/s]"
     ]
    },
    {
     "name": "stdout",
     "output_type": "stream",
     "text": [
      "------------------------------------------\n",
      "True negative\n",
      "Label =  No triangle  =  0\n",
      "prediction =  0\n"
     ]
    },
    {
     "data": {
      "image/png": "[encoded data removed]",
      "text/plain": [
       "<Figure size 432x288 with 1 Axes>"
      ]
     },
     "metadata": {
      "needs_background": "light"
     },
     "output_type": "display_data"
    },
    {
     "name": "stderr",
     "output_type": "stream",
     "text": [
      "100%|██████████| 3264/3264 [02:07<00:00, 25.68it/s]\n"
     ]
    },
    {
     "name": "stdout",
     "output_type": "stream",
     "text": [
      "Trained on 13057\n",
      "Validated on 3264\n",
      "Model: \"sequential_7\"\n",
      "_________________________________________________________________\n",
      "Layer (type)                 Output Shape              Param #   \n",
      "=================================================================\n",
      "conv2d_21 (Conv2D)           (None, 32, 32, 32)        320       \n",
      "_________________________________________________________________\n",
      "max_pooling2d_14 (MaxPooling (None, 16, 16, 32)        0         \n",
      "_________________________________________________________________\n",
      "conv2d_22 (Conv2D)           (None, 16, 16, 64)        18496     \n",
      "_________________________________________________________________\n",
      "max_pooling2d_15 (MaxPooling (None, 8, 8, 64)          0         \n",
      "_________________________________________________________________\n",
      "conv2d_23 (Conv2D)           (None, 8, 8, 64)          36928     \n",
      "_________________________________________________________________\n",
      "flatten_7 (Flatten)          (None, 4096)              0         \n",
      "_________________________________________________________________\n",
      "dense_21 (Dense)             (None, 64)                262208    \n",
      "_________________________________________________________________\n",
      "dropout_14 (Dropout)         (None, 64)                0         \n",
      "_________________________________________________________________\n",
      "dense_22 (Dense)             (None, 32)                2080      \n",
      "_________________________________________________________________\n",
      "dropout_15 (Dropout)         (None, 32)                0         \n",
      "_________________________________________________________________\n",
      "dense_23 (Dense)             (None, 1)                 33        \n",
      "=================================================================\n",
      "Total params: 320,065\n",
      "Trainable params: 320,065\n",
      "Non-trainable params: 0\n",
      "_________________________________________________________________\n",
      "Train on 13057 samples, validate on 3264 samples\n",
      "Epoch 1/10\n",
      "13057/13057 [==============================] - 21s 2ms/sample - loss: 0.3525 - accuracy: 0.8899 - val_loss: 0.3028 - val_accuracy: 0.9056\n",
      "Epoch 2/10\n",
      "13057/13057 [==============================] - 21s 2ms/sample - loss: 0.2992 - accuracy: 0.9132 - val_loss: 0.2967 - val_accuracy: 0.9167\n",
      "Epoch 3/10\n",
      "13057/13057 [==============================] - 19s 1ms/sample - loss: 0.2805 - accuracy: 0.9211 - val_loss: 0.2723 - val_accuracy: 0.9191\n",
      "Epoch 4/10\n",
      "13057/13057 [==============================] - 19s 1ms/sample - loss: 0.2687 - accuracy: 0.9241 - val_loss: 0.2704 - val_accuracy: 0.9188\n",
      "Epoch 5/10\n",
      "13057/13057 [==============================] - 19s 1ms/sample - loss: 0.2596 - accuracy: 0.9287 - val_loss: 0.2714 - val_accuracy: 0.9237\n",
      "Epoch 6/10\n",
      "13057/13057 [==============================] - 19s 1ms/sample - loss: 0.2501 - accuracy: 0.9321 - val_loss: 0.2628 - val_accuracy: 0.9246\n",
      "Epoch 7/10\n",
      "13057/13057 [==============================] - 19s 1ms/sample - loss: 0.2450 - accuracy: 0.9343 - val_loss: 0.2556 - val_accuracy: 0.9262\n",
      "Epoch 8/10\n",
      "13057/13057 [==============================] - 20s 2ms/sample - loss: 0.2382 - accuracy: 0.9364 - val_loss: 0.2525 - val_accuracy: 0.9277\n",
      "Epoch 9/10\n",
      "13057/13057 [==============================] - 19s 1ms/sample - loss: 0.2384 - accuracy: 0.9364 - val_loss: 0.2541 - val_accuracy: 0.9286\n",
      "Epoch 10/10\n",
      "13057/13057 [==============================] - 19s 1ms/sample - loss: 0.2324 - accuracy: 0.9373 - val_loss: 0.2625 - val_accuracy: 0.9268\n"
     ]
    },
    {
     "name": "stderr",
     "output_type": "stream",
     "text": [
      "\r",
      "  0%|          | 0/3264 [00:00<?, ?it/s]"
     ]
    },
    {
     "name": "stdout",
     "output_type": "stream",
     "text": [
      "------------------------------------------\n",
      "True negative\n",
      "Label =  No triangle  =  0\n",
      "prediction =  0\n"
     ]
    },
    {
     "data": {
      "image/png": "[encoded data removed]",
      "text/plain": [
       "<Figure size 432x288 with 1 Axes>"
      ]
     },
     "metadata": {
      "needs_background": "light"
     },
     "output_type": "display_data"
    },
    {
     "name": "stderr",
     "output_type": "stream",
     "text": [
      "\r",
      "  0%|          | 1/3264 [00:00<13:42,  3.97it/s]"
     ]
    },
    {
     "name": "stdout",
     "output_type": "stream",
     "text": [
      "------------------------------------------\n",
      "True negative\n",
      "Label =  No triangle  =  0\n",
      "prediction =  0\n"
     ]
    },
    {
     "data": {
      "image/png": "[encoded data removed]",
      "text/plain": [
       "<Figure size 432x288 with 1 Axes>"
      ]
     },
     "metadata": {
      "needs_background": "light"
     },
     "output_type": "display_data"
    },
    {
     "name": "stderr",
     "output_type": "stream",
     "text": [
      "\r",
      "  0%|          | 2/3264 [00:00<12:02,  4.52it/s]"
     ]
    },
    {
     "name": "stdout",
     "output_type": "stream",
     "text": [
      "------------------------------------------\n",
      "True negative\n",
      "Label =  No triangle  =  0\n",
      "prediction =  0\n"
     ]
    },
    {
     "data": {
      "image/png": "[encoded data removed]",
      "text/plain": [
       "<Figure size 432x288 with 1 Axes>"
      ]
     },
     "metadata": {
      "needs_background": "light"
     },
     "output_type": "display_data"
    },
    {
     "name": "stderr",
     "output_type": "stream",
     "text": [
      "\r",
      "  0%|          | 3/3264 [00:00<10:46,  5.04it/s]"
     ]
    },
    {
     "name": "stdout",
     "output_type": "stream",
     "text": [
      "------------------------------------------\n",
      "True negative\n",
      "Label =  No triangle  =  0\n",
      "prediction =  0\n"
     ]
    },
    {
     "data": {
      "image/png": "[encoded data removed]",
      "text/plain": [
       "<Figure size 432x288 with 1 Axes>"
      ]
     },
     "metadata": {
      "needs_background": "light"
     },
     "output_type": "display_data"
    },
    {
     "name": "stderr",
     "output_type": "stream",
     "text": [
      "\r",
      "  0%|          | 4/3264 [00:00<09:57,  5.46it/s]"
     ]
    },
    {
     "name": "stdout",
     "output_type": "stream",
     "text": [
      "------------------------------------------\n",
      "True negative\n",
      "Label =  No triangle  =  0\n",
      "prediction =  0\n"
     ]
    },
    {
     "data": {
      "image/png": "[encoded data removed]",
      "text/plain": [
       "<Figure size 432x288 with 1 Axes>"
      ]
     },
     "metadata": {
      "needs_background": "light"
     },
     "output_type": "display_data"
    },
    {
     "name": "stderr",
     "output_type": "stream",
     "text": [
      "100%|██████████| 3264/3264 [06:10<00:00,  8.81it/s]  \n"
     ]
    },
    {
     "name": "stdout",
     "output_type": "stream",
     "text": [
      "Trained on 13057\n",
      "Validated on 3264\n",
      "Model: \"sequential_8\"\n",
      "_________________________________________________________________\n",
      "Layer (type)                 Output Shape              Param #   \n",
      "=================================================================\n",
      "conv2d_24 (Conv2D)           (None, 32, 32, 32)        320       \n",
      "_________________________________________________________________\n",
      "max_pooling2d_16 (MaxPooling (None, 16, 16, 32)        0         \n",
      "_________________________________________________________________\n",
      "conv2d_25 (Conv2D)           (None, 16, 16, 64)        18496     \n",
      "_________________________________________________________________\n",
      "max_pooling2d_17 (MaxPooling (None, 8, 8, 64)          0         \n",
      "_________________________________________________________________\n",
      "conv2d_26 (Conv2D)           (None, 8, 8, 64)          36928     \n",
      "_________________________________________________________________\n",
      "flatten_8 (Flatten)          (None, 4096)              0         \n",
      "_________________________________________________________________\n",
      "dense_24 (Dense)             (None, 64)                262208    \n",
      "_________________________________________________________________\n",
      "dropout_16 (Dropout)         (None, 64)                0         \n",
      "_________________________________________________________________\n",
      "dense_25 (Dense)             (None, 32)                2080      \n",
      "_________________________________________________________________\n",
      "dropout_17 (Dropout)         (None, 32)                0         \n",
      "_________________________________________________________________\n",
      "dense_26 (Dense)             (None, 1)                 33        \n",
      "=================================================================\n",
      "Total params: 320,065\n",
      "Trainable params: 320,065\n",
      "Non-trainable params: 0\n",
      "_________________________________________________________________\n",
      "Train on 13057 samples, validate on 3264 samples\n",
      "Epoch 1/10\n",
      "13057/13057 [==============================] - 25s 2ms/sample - loss: 0.3510 - accuracy: 0.8883 - val_loss: 0.3116 - val_accuracy: 0.9023\n",
      "Epoch 2/10\n",
      "13057/13057 [==============================] - 22s 2ms/sample - loss: 0.3027 - accuracy: 0.9132 - val_loss: 0.2911 - val_accuracy: 0.9145\n",
      "Epoch 3/10\n",
      "13057/13057 [==============================] - 21s 2ms/sample - loss: 0.2779 - accuracy: 0.9230 - val_loss: 0.2788 - val_accuracy: 0.9179\n",
      "Epoch 4/10\n",
      "13057/13057 [==============================] - 20s 2ms/sample - loss: 0.2682 - accuracy: 0.9248 - val_loss: 0.2674 - val_accuracy: 0.9210\n",
      "Epoch 5/10\n",
      "13057/13057 [==============================] - 20s 2ms/sample - loss: 0.2554 - accuracy: 0.9298 - val_loss: 0.2639 - val_accuracy: 0.9259\n",
      "Epoch 6/10\n",
      "13057/13057 [==============================] - 20s 1ms/sample - loss: 0.2485 - accuracy: 0.9329 - val_loss: 0.2617 - val_accuracy: 0.9249\n",
      "Epoch 7/10\n",
      "13057/13057 [==============================] - 19s 1ms/sample - loss: 0.2425 - accuracy: 0.9350 - val_loss: 0.2545 - val_accuracy: 0.9274\n",
      "Epoch 8/10\n",
      "13057/13057 [==============================] - 20s 2ms/sample - loss: 0.2398 - accuracy: 0.9360 - val_loss: 0.2548 - val_accuracy: 0.9292\n",
      "Epoch 9/10\n",
      "13057/13057 [==============================] - 21s 2ms/sample - loss: 0.2352 - accuracy: 0.9382 - val_loss: 0.2589 - val_accuracy: 0.9289\n",
      "Epoch 10/10\n",
      "13057/13057 [==============================] - 19s 1ms/sample - loss: 0.2371 - accuracy: 0.9366 - val_loss: 0.2626 - val_accuracy: 0.9246\n"
     ]
    },
    {
     "name": "stderr",
     "output_type": "stream",
     "text": [
      "\r",
      "  0%|          | 0/3264 [00:00<?, ?it/s]"
     ]
    },
    {
     "name": "stdout",
     "output_type": "stream",
     "text": [
      "------------------------------------------\n",
      "True negative\n",
      "Label =  No triangle  =  0\n",
      "prediction =  0\n"
     ]
    },
    {
     "data": {
      "image/png": "[encoded data removed]",
      "text/plain": [
       "<Figure size 432x288 with 1 Axes>"
      ]
     },
     "metadata": {
      "needs_background": "light"
     },
     "output_type": "display_data"
    },
    {
     "name": "stderr",
     "output_type": "stream",
     "text": [
      "\r",
      "  0%|          | 1/3264 [00:00<34:43,  1.57it/s]"
     ]
    },
    {
     "name": "stdout",
     "output_type": "stream",
     "text": [
      "------------------------------------------\n",
      "True negative\n",
      "Label =  No triangle  =  0\n",
      "prediction =  0\n"
     ]
    },
    {
     "data": {
      "image/png": "[encoded data removed]",
      "text/plain": [
       "<Figure size 432x288 with 1 Axes>"
      ]
     },
     "metadata": {
      "needs_background": "light"
     },
     "output_type": "display_data"
    },
    {
     "name": "stderr",
     "output_type": "stream",
     "text": [
      "\r",
      "  0%|          | 2/3264 [00:00<28:30,  1.91it/s]"
     ]
    },
    {
     "name": "stdout",
     "output_type": "stream",
     "text": [
      "------------------------------------------\n",
      "True negative\n",
      "Label =  No triangle  =  0\n",
      "prediction =  0\n"
     ]
    },
    {
     "data": {
      "image/png": "[encoded data removed]",
      "text/plain": [
       "<Figure size 432x288 with 1 Axes>"
      ]
     },
     "metadata": {
      "needs_background": "light"
     },
     "output_type": "display_data"
    },
    {
     "name": "stderr",
     "output_type": "stream",
     "text": [
      "\r",
      "  0%|          | 3/3264 [00:01<24:00,  2.26it/s]"
     ]
    },
    {
     "name": "stdout",
     "output_type": "stream",
     "text": [
      "------------------------------------------\n",
      "True negative\n",
      "Label =  No triangle  =  0\n",
      "prediction =  0\n"
     ]
    },
    {
     "data": {
      "image/png": "[encoded data removed]",
      "text/plain": [
       "<Figure size 432x288 with 1 Axes>"
      ]
     },
     "metadata": {
      "needs_background": "light"
     },
     "output_type": "display_data"
    },
    {
     "name": "stderr",
     "output_type": "stream",
     "text": [
      "\r",
      "  0%|          | 4/3264 [00:01<20:11,  2.69it/s]"
     ]
    },
    {
     "name": "stdout",
     "output_type": "stream",
     "text": [
      "------------------------------------------\n",
      "True negative\n",
      "Label =  No triangle  =  0\n",
      "prediction =  0\n"
     ]
    },
    {
     "data": {
      "image/png": "[encoded data removed]",
      "text/plain": [
       "<Figure size 432x288 with 1 Axes>"
      ]
     },
     "metadata": {
      "needs_background": "light"
     },
     "output_type": "display_data"
    },
    {
     "name": "stderr",
     "output_type": "stream",
     "text": [
      "100%|██████████| 3264/3264 [44:10<00:00,  1.23it/s]     \n"
     ]
    },
    {
     "name": "stdout",
     "output_type": "stream",
     "text": [
      "Trained on 13057\n",
      "Validated on 3264\n",
      "Model: \"sequential_9\"\n",
      "_________________________________________________________________\n",
      "Layer (type)                 Output Shape              Param #   \n",
      "=================================================================\n",
      "conv2d_27 (Conv2D)           (None, 32, 32, 32)        320       \n",
      "_________________________________________________________________\n",
      "max_pooling2d_18 (MaxPooling (None, 16, 16, 32)        0         \n",
      "_________________________________________________________________\n",
      "conv2d_28 (Conv2D)           (None, 16, 16, 64)        18496     \n",
      "_________________________________________________________________\n",
      "max_pooling2d_19 (MaxPooling (None, 8, 8, 64)          0         \n",
      "_________________________________________________________________\n",
      "conv2d_29 (Conv2D)           (None, 8, 8, 64)          36928     \n",
      "_________________________________________________________________\n",
      "flatten_9 (Flatten)          (None, 4096)              0         \n",
      "_________________________________________________________________\n",
      "dense_27 (Dense)             (None, 64)                262208    \n",
      "_________________________________________________________________\n",
      "dropout_18 (Dropout)         (None, 64)                0         \n",
      "_________________________________________________________________\n",
      "dense_28 (Dense)             (None, 32)                2080      \n",
      "_________________________________________________________________\n",
      "dropout_19 (Dropout)         (None, 32)                0         \n",
      "_________________________________________________________________\n",
      "dense_29 (Dense)             (None, 1)                 33        \n",
      "=================================================================\n",
      "Total params: 320,065\n",
      "Trainable params: 320,065\n",
      "Non-trainable params: 0\n",
      "_________________________________________________________________\n",
      "Train on 13057 samples, validate on 3264 samples\n",
      "Epoch 1/10\n",
      "13057/13057 [==============================] - 28s 2ms/sample - loss: 0.3597 - accuracy: 0.8860 - val_loss: 0.3028 - val_accuracy: 0.9075\n",
      "Epoch 2/10\n",
      "13057/13057 [==============================] - 31s 2ms/sample - loss: 0.3012 - accuracy: 0.9112 - val_loss: 0.2892 - val_accuracy: 0.9145\n",
      "Epoch 3/10\n",
      "13057/13057 [==============================] - 30s 2ms/sample - loss: 0.2811 - accuracy: 0.9203 - val_loss: 0.2736 - val_accuracy: 0.9194\n",
      "Epoch 4/10\n",
      "13057/13057 [==============================] - 28s 2ms/sample - loss: 0.2690 - accuracy: 0.9243 - val_loss: 0.2750 - val_accuracy: 0.9194\n",
      "Epoch 5/10\n",
      "13057/13057 [==============================] - 29s 2ms/sample - loss: 0.2584 - accuracy: 0.9283 - val_loss: 0.2665 - val_accuracy: 0.9262\n",
      "Epoch 6/10\n",
      "13057/13057 [==============================] - 28s 2ms/sample - loss: 0.2478 - accuracy: 0.9323 - val_loss: 0.2618 - val_accuracy: 0.9252\n",
      "Epoch 7/10\n",
      "13057/13057 [==============================] - 28s 2ms/sample - loss: 0.2425 - accuracy: 0.9353 - val_loss: 0.2573 - val_accuracy: 0.9259\n",
      "Epoch 8/10\n",
      "13057/13057 [==============================] - 28s 2ms/sample - loss: 0.2434 - accuracy: 0.9341 - val_loss: 0.2558 - val_accuracy: 0.9277\n",
      "Epoch 9/10\n",
      "13057/13057 [==============================] - 29s 2ms/sample - loss: 0.2359 - accuracy: 0.9374 - val_loss: 0.2567 - val_accuracy: 0.9271\n",
      "Epoch 10/10\n",
      "13057/13057 [==============================] - 29s 2ms/sample - loss: 0.2338 - accuracy: 0.9370 - val_loss: 0.2574 - val_accuracy: 0.9274\n"
     ]
    },
    {
     "name": "stderr",
     "output_type": "stream",
     "text": [
      "\r",
      "  0%|          | 0/3264 [00:00<?, ?it/s]"
     ]
    },
    {
     "name": "stdout",
     "output_type": "stream",
     "text": [
      "------------------------------------------\n",
      "True negative\n",
      "Label =  No triangle  =  0\n",
      "prediction =  0\n"
     ]
    },
    {
     "data": {
      "image/png": "[encoded data removed]",
      "text/plain": [
       "<Figure size 432x288 with 1 Axes>"
      ]
     },
     "metadata": {
      "needs_background": "light"
     },
     "output_type": "display_data"
    },
    {
     "name": "stderr",
     "output_type": "stream",
     "text": [
      "\r",
      "  0%|          | 1/3264 [00:00<47:12,  1.15it/s]"
     ]
    },
    {
     "name": "stdout",
     "output_type": "stream",
     "text": [
      "------------------------------------------\n",
      "True negative\n",
      "Label =  No triangle  =  0\n",
      "prediction =  0\n"
     ]
    },
    {
     "data": {
      "image/png": "[encoded data removed]",
      "text/plain": [
       "<Figure size 432x288 with 1 Axes>"
      ]
     },
     "metadata": {
      "needs_background": "light"
     },
     "output_type": "display_data"
    },
    {
     "name": "stderr",
     "output_type": "stream",
     "text": [
      "\r",
      "  0%|          | 2/3264 [00:01<38:16,  1.42it/s]"
     ]
    },
    {
     "name": "stdout",
     "output_type": "stream",
     "text": [
      "------------------------------------------\n",
      "True negative\n",
      "Label =  No triangle  =  0\n",
      "prediction =  0\n"
     ]
    },
    {
     "data": {
      "image/png": "[encoded data removed]",
      "text/plain": [
       "<Figure size 432x288 with 1 Axes>"
      ]
     },
     "metadata": {
      "needs_background": "light"
     },
     "output_type": "display_data"
    },
    {
     "name": "stderr",
     "output_type": "stream",
     "text": [
      "\r",
      "  0%|          | 3/3264 [00:01<31:03,  1.75it/s]"
     ]
    },
    {
     "name": "stdout",
     "output_type": "stream",
     "text": [
      "------------------------------------------\n",
      "True negative\n",
      "Label =  No triangle  =  0\n",
      "prediction =  0\n"
     ]
    },
    {
     "data": {
      "image/png": "[encoded data removed]",
      "text/plain": [
       "<Figure size 432x288 with 1 Axes>"
      ]
     },
     "metadata": {
      "needs_background": "light"
     },
     "output_type": "display_data"
    },
    {
     "name": "stderr",
     "output_type": "stream",
     "text": [
      "\r",
      "  0%|          | 4/3264 [00:01<26:23,  2.06it/s]"
     ]
    },
    {
     "name": "stdout",
     "output_type": "stream",
     "text": [
      "------------------------------------------\n",
      "True negative\n",
      "Label =  No triangle  =  0\n",
      "prediction =  0\n"
     ]
    },
    {
     "data": {
      "image/png": "[encoded data removed]",
      "text/plain": [
       "<Figure size 432x288 with 1 Axes>"
      ]
     },
     "metadata": {
      "needs_background": "light"
     },
     "output_type": "display_data"
    },
    {
     "name": "stderr",
     "output_type": "stream",
     "text": [
      "100%|██████████| 3264/3264 [02:48<00:00, 19.42it/s]\n"
     ]
    }
   ],
   "source": []
  },
  {
   "cell_type": "markdown",
   "metadata": {},
   "source": [
    "Do a run with no shuffle to test two things:\n",
    "1) does not having shuffle make the pre-classification actually make some sense and be better?\n",
    "2) does not having shuffle make all runs have the same accuracy (or closer accuracy?) and is the pattern of results the same as the same run but with shuffle? "
   ]
  },
  {
   "cell_type": "code",
   "execution_count": 38,
   "metadata": {},
   "outputs": [
    {
     "data": {
      "text/plain": [
       "[0.6219172206733863, 0.879262277503753]"
      ]
     },
     "execution_count": 38,
     "metadata": {},
     "output_type": "execute_result"
    }
   ],
   "source": [
    "perc_false_positive_tot"
   ]
  },
  {
   "cell_type": "code",
   "execution_count": 14,
   "metadata": {},
   "outputs": [],
   "source": [
    "import csv\n",
    "total_dict = {'1': perc_false_positive_tot, \n",
    "         '2': perc_false_negative_tot, \n",
    "         '3': perc_true_positive_tot, \n",
    "         '4': perc_true_negative_tot\n",
    "        }\n",
    " \n",
    "keys = sorted(total_dict.keys())\n",
    "with open(\"CNN_CPCPC_PreBlocks1307_blocks8_3runs.csv\", \"w\") as outfile:\n",
    "    writer = csv.writer(outfile, delimiter = \"\\t\")\n",
    "    writer.writerow(keys)\n",
    "    writer.writerows(zip(*[total_dict[key] for key in keys]))"
   ]
  },
  {
   "cell_type": "code",
   "execution_count": 18,
   "metadata": {},
   "outputs": [],
   "source": [
    "cwd = os.chdir(primary_dir)\n",
    "model_binary_classifier.save('bias_triangle_binary_classifier.h5')"
   ]
  },
  {
   "cell_type": "code",
   "execution_count": 19,
   "metadata": {},
   "outputs": [
    {
     "name": "stdout",
     "output_type": "stream",
     "text": [
      "Percent true positive   11.090686274509803\n",
      "Percent false positive   0.42892156862745096\n",
      "Percent true negative   80.88235294117646\n",
      "Percent false negative   7.598039215686274\n",
      "Percent Total True    91.97303921568627\n"
     ]
    }
   ],
   "source": [
    "print('Percent true positive  ',n_true_positive)\n",
    "print('Percent false positive  ',n_false_positive)\n",
    "print('Percent true negative  ',n_true_negative)\n",
    "print('Percent false negative  ',n_false_negative)\n",
    "print('Percent Total True   ',(n_true_positive + n_true_negative))"
   ]
  },
  {
   "cell_type": "code",
   "execution_count": null,
   "metadata": {},
   "outputs": [],
   "source": []
  },
  {
   "cell_type": "code",
   "execution_count": null,
   "metadata": {},
   "outputs": [],
   "source": []
  },
  {
   "cell_type": "code",
   "execution_count": null,
   "metadata": {},
   "outputs": [],
   "source": []
  },
  {
   "cell_type": "code",
   "execution_count": null,
   "metadata": {},
   "outputs": [],
   "source": []
  },
  {
   "cell_type": "code",
   "execution_count": null,
   "metadata": {},
   "outputs": [],
   "source": []
  },
  {
   "cell_type": "code",
   "execution_count": null,
   "metadata": {},
   "outputs": [],
   "source": []
  },
  {
   "cell_type": "code",
   "execution_count": null,
   "metadata": {},
   "outputs": [],
   "source": []
  },
  {
   "cell_type": "code",
   "execution_count": null,
   "metadata": {},
   "outputs": [],
   "source": []
  },
  {
   "cell_type": "code",
   "execution_count": 20,
   "metadata": {},
   "outputs": [
    {
     "data": {
      "image/png": "[encoded data removed]",
      "text/plain": [
       "<Figure size 432x288 with 1 Axes>"
      ]
     },
     "metadata": {
      "needs_background": "light"
     },
     "output_type": "display_data"
    }
   ],
   "source": [
    "objects = ('true_positive','false_positive','true_negative','false_negative')\n",
    "y_pos = np.arange(len(objects))\n",
    "performance = [n_true_positive,n_false_positive,n_true_negative,n_false_negative]\n",
    "\n",
    "plt.bar(y_pos, performance, align='center', alpha=0.5)\n",
    "plt.xticks(y_pos, objects)\n",
    "plt.ylabel('count')\n",
    "plt.title('Confusion parameter')\n",
    "\n",
    "plt.show()"
   ]
  },
  {
   "cell_type": "markdown",
   "metadata": {},
   "source": [
    "Pre-Class Results\n",
    "\n",
    "Initial trial looks like it reduces the number of positives all round. (incl. False positives)\n",
    "\n",
    "Without Pre-Class:\n",
    "Percent true positive   12.10171568627451 %\n",
    "Percent false positive   1.133578431372549 %\n",
    "Percent true negative   80.17769607843137 %\n",
    "Percent false negative   6.5870098039215685 %\n",
    "Percent Total True    92.27941176470588 %\n",
    "\n",
    "With (Blocks= 7 Max=1.3 min=0.8):\n",
    "Percent true positive   10.876225490196079 %\n",
    "Percent false positive   0.5208333333333334 %\n",
    "Percent true negative   80.7904411764706 %\n",
    "Percent false negative   7.8125 %\n",
    "Percent Total True    91.66666666666667 %\n",
    "\n",
    "(Blocks=7, Max=1.3, Min=0):\n",
    "Percent true positive   11.151960784313726 %\n",
    "Percent false positive   0.49019607843137253 %\n",
    "Percent true negative   80.82107843137256 %\n",
    "Percent false negative   7.536764705882353 %\n",
    "Percent Total True    91.97303921568628 %\n",
    "\n",
    "(Blocks=7, Max=1.15, min=0)\n",
    "Percent true positive   10.876225490196079 %\n",
    "Percent false positive   0.6127450980392157 %\n",
    "Percent true negative   80.69852941176471 %\n",
    "Percent false negative   7.8125 %\n",
    "Percent Total True    91.57475490196079 %\n",
    "\n",
    "(Blocks=8, Max=1.15, min=0)\n",
    "Percent true positive   11.213235294117647 %\n",
    "Percent false positive   0.7352941176470589 %\n",
    "Percent true negative   80.57598039215686 %\n",
    "Percent false negative   7.4754901960784315 %\n",
    "Percent Total True    91.78921568627452 %\n",
    "\n",
    "(Blocks=9, Mac=1.15, min=0)\n",
    "Percent true positive   10.784313725490197 %\n",
    "Percent false positive   0.33700980392156865 %\n",
    "Percent true negative   80.97426470588235 %\n",
    "Percent false negative   7.904411764705882 %\n",
    "Percent Total True    91.75857843137254 %\n",
    "\n",
    "(blocks=9, Max=1.1, min=0)\n",
    "Percent true positive   11.121323529411764 %\n",
    "Percent false positive   0.7046568627450981 %\n",
    "Percent true negative   80.60661764705883 %\n",
    "Percent false negative   7.567401960784314 %\n",
    "Percent Total True    91.7279411764706 %\n",
    "\n",
    "(blocks=9, max=1.1, min=0) [Same as Above to test for noise] [NOISY]\n",
    "Percent true positive   10.661764705882353 %\n",
    "Percent false positive   0.42892156862745096 %\n",
    "Percent true negative   80.88235294117646 %\n",
    "Percent false negative   8.026960784313726 %\n",
    "Percent Total True    91.54411764705881 %\n",
    "\n",
    "Corrrect Block Indexing:(blocks=9, max=1.1, min=0)\n",
    "Percent true positive   10.661764705882353 %\n",
    "Percent false positive   0.36764705882352944 %\n",
    "Percent true negative   80.94362745098039 %\n",
    "Percent false negative   8.026960784313726 %\n",
    "Percent Total True    91.60539215686273 %"
   ]
  },
  {
   "cell_type": "code",
   "execution_count": null,
   "metadata": {},
   "outputs": [],
   "source": []
  },
  {
   "cell_type": "code",
   "execution_count": null,
   "metadata": {},
   "outputs": [],
   "source": []
  },
  {
   "cell_type": "code",
   "execution_count": null,
   "metadata": {},
   "outputs": [],
   "source": []
  },
  {
   "cell_type": "code",
   "execution_count": null,
   "metadata": {},
   "outputs": [],
   "source": []
  },
  {
   "cell_type": "code",
   "execution_count": null,
   "metadata": {},
   "outputs": [],
   "source": []
  },
  {
   "cell_type": "code",
   "execution_count": null,
   "metadata": {},
   "outputs": [],
   "source": []
  },
  {
   "cell_type": "code",
   "execution_count": null,
   "metadata": {},
   "outputs": [],
   "source": []
  },
  {
   "cell_type": "code",
   "execution_count": null,
   "metadata": {},
   "outputs": [],
   "source": []
  }
 ],
 "metadata": {
  "kernelspec": {
   "display_name": "Python 3",
   "language": "python",
   "name": "python3"
  },
  "language_info": {
   "codemirror_mode": {
    "name": "ipython",
    "version": 3
   },
   "file_extension": ".py",
   "mimetype": "text/x-python",
   "name": "python",
   "nbconvert_exporter": "python",
   "pygments_lexer": "ipython3",
   "version": "3.7.4"
  }
 },
 "nbformat": 4,
 "nbformat_minor": 2
}
