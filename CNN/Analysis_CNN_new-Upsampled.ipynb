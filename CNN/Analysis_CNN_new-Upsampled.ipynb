{
 "cells": [
  {
   "cell_type": "code",
   "execution_count": 2,
   "metadata": {
    "scrolled": false
   },
   "outputs": [
    {
     "data": {
      "text/html": [
       "\n",
       "      <iframe id=\"tensorboard-frame-bdc2b16f33fb5c72\" width=\"100%\" height=\"800\" frameborder=\"0\">\n",
       "      </iframe>\n",
       "      <script>\n",
       "        (function() {\n",
       "          const frame = document.getElementById(\"tensorboard-frame-bdc2b16f33fb5c72\");\n",
       "          const url = new URL(\"/\", window.location);\n",
       "          url.port = 6006;\n",
       "          frame.src = url;\n",
       "        })();\n",
       "      </script>\n",
       "  "
      ],
      "text/plain": [
       "<IPython.core.display.HTML object>"
      ]
     },
     "metadata": {},
     "output_type": "display_data"
    }
   ],
   "source": [
    "import matplotlib.pyplot as plt\n",
    "%matplotlib inline\n",
    "import numpy as np\n",
    "import pickle\n",
    "import tensorflow as tf\n",
    "from tensorflow.keras import datasets, layers, models, regularizers\n",
    "from tensorflow import keras as k\n",
    "import random\n",
    "from tqdm import tqdm\n",
    "import shutil\n",
    "import datetime, os\n",
    "\n",
    "cwd = os.getcwd()\n",
    "primary_dir = os.fsencode(cwd)\n",
    "\n",
    "shutil.rmtree(\"/Users/joshking/Dropbox/Quantum/logs\")\n",
    "logs_base_dir = \"/Users/joshking/Dropbox/Quantum/logs\"\n",
    "os.makedirs(logs_base_dir, exist_ok=True)\n",
    "%reload_ext tensorboard\n",
    "%tensorboard --logdir {logs_base_dir}\n",
    "tensorboard_callback = k.callbacks.TensorBoard(log_dir=logs_base_dir,update_freq='epoch',embeddings_freq=0,\n",
    "                                               profile_batch = 0)\n",
    "writer = tf.summary.create_file_writer(\"/Users/joshking/Dropbox/Quantum/logs\")"
   ]
  },
  {
   "cell_type": "code",
   "execution_count": 3,
   "metadata": {},
   "outputs": [],
   "source": [
    "binary_dict = {0: 'No triangle', 1 : 'Bias triangle'}"
   ]
  },
  {
   "cell_type": "code",
   "execution_count": 4,
   "metadata": {},
   "outputs": [],
   "source": [
    "def create_model(pixel_size=32,dense_layers = [32*2,32],drop_out=0.4,l2=0.0001):\n",
    "    model = models.Sequential()\n",
    "    model.add(layers.Conv2D(pixel_size, (3, 3), activation='relu', input_shape=(pixel_size, pixel_size, 1), padding=\"SAME\"))\n",
    "    model.add(layers.MaxPooling2D((2, 2)))\n",
    "    model.add(layers.Conv2D(pixel_size*2, (3, 3), activation='relu', padding=\"SAME\"))\n",
    "    model.add(layers.MaxPooling2D((2, 2)))\n",
    "    model.add(layers.Conv2D(pixel_size*2, (3, 3), activation='relu', padding=\"SAME\"))\n",
    "    model.add(layers.MaxPooling2D((2, 2)))\n",
    "    model.add(layers.Conv2D(pixel_size*2, (3, 3), activation='relu', padding=\"SAME\"))\n",
    "    model.add(layers.MaxPooling2D((2, 2)))\n",
    "    model.add(layers.Conv2D(pixel_size*2, (3, 3), activation='relu', padding=\"SAME\"))\n",
    "\n",
    "    model.add(layers.Flatten())\n",
    "    for dense_layer in dense_layers:\n",
    "        model.add(layers.Dense(dense_layer, activation='elu',kernel_regularizer=regularizers.l2(l2)))\n",
    "        model.add(layers.Dropout(drop_out))\n",
    "    \n",
    "    model.add(layers.Dense(1, activation='sigmoid'))\n",
    "    return model\n",
    "\n",
    "def compile_model(model):\n",
    "    model.compile(optimizer='adam',\n",
    "             loss='binary_crossentropy',\n",
    "              metrics=['accuracy'])\n",
    "    return model\n",
    "\n",
    "def train_model(model,train_images,train_labels,test_images,test_labels,epochs,batch_size):\n",
    "    history = model.fit(train_images,train_labels,shuffle=True, epochs=epochs, batch_size=batch_size, \n",
    "                        validation_data=(test_images,test_labels),callbacks=[tensorboard_callback])\n",
    "    return model, history\n",
    "\n",
    "def evaluate_model(model,history, test_images,test_labels):\n",
    "    plt.clf()\n",
    "    plt.plot(history.history['accuracy'], label='accuracy')\n",
    "    plt.plot(history.history['val_accuracy'], label = 'val_accuracy')\n",
    "    plt.xlabel('Epoch')\n",
    "    plt.ylabel('Accuracy')\n",
    "    plt.ylim([0.0, 1.1])\n",
    "    plt.legend(loc='lower right')\n",
    "    plt.show()\n",
    "    \n",
    "    test_loss, test_acc = model.evaluate(test_images,  test_labels, verbose=2)\n",
    "    return test_loss, test_acc\n",
    "\n",
    "def normalise(x, y):\n",
    "    x = tf.image.per_image_standardization(x)\n",
    "    return x, y"
   ]
  },
  {
   "cell_type": "code",
   "execution_count": 5,
   "metadata": {},
   "outputs": [
    {
     "name": "stdout",
     "output_type": "stream",
     "text": [
      "4646\n"
     ]
    }
   ],
   "source": [
    "data_total = np.load('/Users/joshking/Documents/01Masters/Data/all_data_16_03_2020.npy')\n",
    "labels_total = np.load('/Users/joshking/Documents/01Masters/Data/all_labels_16_03_2020.npy')\n",
    "#/Users/joshking/Dropbox/Quantum/Triangles/normalised_data_matrices_train.npy\n",
    "#/Users/joshking/Dropbox/Quantum/Triangles/normalised_data_labels_train.npy\n",
    "\n",
    "positives_X = np.zeros(shape=(len(labels_total),32,32,1))\n",
    "j=0\n",
    "for i in range(len(labels_total)):\n",
    "    if labels_total[i]==1:\n",
    "        positives_X[j] = labels_total[i]\n",
    "        j +=1\n",
    "positives_X_2= np.delete(positives_X.copy(), np.s_[j:], 0)\n",
    "print(j)"
   ]
  },
  {
   "cell_type": "code",
   "execution_count": 6,
   "metadata": {},
   "outputs": [],
   "source": [
    "def model_main(pixel_size=32,drop_out=0.4,l2=0.0001,epochs = 10,batch_size = 100):\n",
    "    print('Trained on '+str(len(train_labels)))\n",
    "    print('Validated on '+str(len(validate_labels)))\n",
    "\n",
    "    model_binary_classifier = create_model(pixel_size=pixel_size,drop_out=drop_out,l2=l2)\n",
    "    model_binary_classifier.summary()\n",
    "    model_binary_classifier = compile_model(model_binary_classifier)\n",
    "\n",
    "    val_loss, val_acc = train_model(model_binary_classifier,train_images_1,train_labels_1,validate_images_1,validate_labels_1,epochs,batch_size)\n",
    "\n",
    "\n",
    "    true_positive = []\n",
    "    false_positive = []\n",
    "    true_negative = []\n",
    "    false_negative = []\n",
    "    for i in tqdm(range(len(validate_labels))):\n",
    "\n",
    "            label = validate_labels[i][0]\n",
    "            prediction = model_binary_classifier.predict(validate_images[i:i+1])\n",
    "            if (prediction > 0.5):\n",
    "                prediction = 1\n",
    "            else:\n",
    "                prediction = 0\n",
    "            if (prediction == label):\n",
    "                if (label == 1):\n",
    "                    true_positive.append(validate_images[i:i+1])\n",
    "                    prnt = \"True positive\"\n",
    "                else:\n",
    "                    true_negative.append(validate_images[i:i+1])\n",
    "                    prnt = \"True negative\"\n",
    "            else:\n",
    "                if (label == 1):\n",
    "                    false_negative.append(validate_images[i:i+1])\n",
    "                    prnt = \"False negative\"\n",
    "                else:\n",
    "                    false_positive.append(validate_images[i:i+1])\n",
    "                    prnt = \"False positive\"\n",
    "            if (i<5):\n",
    "                print('------------------------------------------')\n",
    "                print(prnt)\n",
    "                print('Label = ', binary_dict[label],\" = \", label)\n",
    "                print('prediction = ', prediction)\n",
    "                plt.clf()\n",
    "                plt.imshow(validate_images[i][:,:,0])\n",
    "                plt.show()\n",
    "        \n",
    "    n_true_positive = np.shape(true_positive)[0]\n",
    "    n_false_positive = np.shape(false_positive)[0]\n",
    "    n_true_negative = np.shape(true_negative)[0]\n",
    "    n_false_negative = np.shape(false_negative)[0]\n",
    "    \n",
    "    total_test = n_true_positive + n_false_positive + n_true_negative + n_false_negative\n",
    "\n",
    "    percent_true_positive = 100 * n_true_positive/total_test\n",
    "    percent_false_positive = 100 *n_false_positive/total_test\n",
    "    percent_true_negative = 100 *n_true_negative/total_test\n",
    "    percent_false_negative = 100 *n_false_negative/total_test\n",
    "\n",
    "    return model_binary_classifier,percent_true_positive,percent_false_positive,percent_true_negative,percent_false_negative\n",
    "    \n",
    "    return\n"
   ]
  },
  {
   "cell_type": "code",
   "execution_count": null,
   "metadata": {},
   "outputs": [],
   "source": []
  },
  {
   "cell_type": "code",
   "execution_count": 7,
   "metadata": {},
   "outputs": [
    {
     "name": "stdout",
     "output_type": "stream",
     "text": [
      "WARNING:tensorflow:From /Users/joshking/opt/anaconda3/lib/python3.7/site-packages/tensorflow_core/python/ops/image_ops_impl.py:1518: div (from tensorflow.python.ops.math_ops) is deprecated and will be removed in a future version.\n",
      "Instructions for updating:\n",
      "Deprecated in favor of operator or tf.math.divide.\n",
      "Trained on 18652\n",
      "Validated on 4663\n",
      "Model: \"sequential\"\n",
      "_________________________________________________________________\n",
      "Layer (type)                 Output Shape              Param #   \n",
      "=================================================================\n",
      "conv2d (Conv2D)              (None, 32, 32, 32)        320       \n",
      "_________________________________________________________________\n",
      "max_pooling2d (MaxPooling2D) (None, 16, 16, 32)        0         \n",
      "_________________________________________________________________\n",
      "conv2d_1 (Conv2D)            (None, 16, 16, 64)        18496     \n",
      "_________________________________________________________________\n",
      "max_pooling2d_1 (MaxPooling2 (None, 8, 8, 64)          0         \n",
      "_________________________________________________________________\n",
      "conv2d_2 (Conv2D)            (None, 8, 8, 64)          36928     \n",
      "_________________________________________________________________\n",
      "max_pooling2d_2 (MaxPooling2 (None, 4, 4, 64)          0         \n",
      "_________________________________________________________________\n",
      "conv2d_3 (Conv2D)            (None, 4, 4, 64)          36928     \n",
      "_________________________________________________________________\n",
      "max_pooling2d_3 (MaxPooling2 (None, 2, 2, 64)          0         \n",
      "_________________________________________________________________\n",
      "conv2d_4 (Conv2D)            (None, 2, 2, 64)          36928     \n",
      "_________________________________________________________________\n",
      "flatten (Flatten)            (None, 256)               0         \n",
      "_________________________________________________________________\n",
      "dense (Dense)                (None, 64)                16448     \n",
      "_________________________________________________________________\n",
      "dropout (Dropout)            (None, 64)                0         \n",
      "_________________________________________________________________\n",
      "dense_1 (Dense)              (None, 32)                2080      \n",
      "_________________________________________________________________\n",
      "dropout_1 (Dropout)          (None, 32)                0         \n",
      "_________________________________________________________________\n",
      "dense_2 (Dense)              (None, 1)                 33        \n",
      "=================================================================\n",
      "Total params: 148,161\n",
      "Trainable params: 148,161\n",
      "Non-trainable params: 0\n",
      "_________________________________________________________________\n",
      "Train on 25926 samples, validate on 4663 samples\n",
      "Epoch 1/10\n",
      "25926/25926 [==============================] - 45s 2ms/sample - loss: 0.2965 - accuracy: 0.8874 - val_loss: 0.2584 - val_accuracy: 0.8848\n",
      "Epoch 2/10\n",
      "25926/25926 [==============================] - 44s 2ms/sample - loss: 0.1974 - accuracy: 0.9277 - val_loss: 0.1720 - val_accuracy: 0.9307\n",
      "Epoch 3/10\n",
      "25926/25926 [==============================] - 44s 2ms/sample - loss: 0.1480 - accuracy: 0.9472 - val_loss: 0.1741 - val_accuracy: 0.9400\n",
      "Epoch 4/10\n",
      "25926/25926 [==============================] - 43s 2ms/sample - loss: 0.1139 - accuracy: 0.9595 - val_loss: 0.1666 - val_accuracy: 0.9402\n",
      "Epoch 5/10\n",
      "25926/25926 [==============================] - 42s 2ms/sample - loss: 0.0838 - accuracy: 0.9730 - val_loss: 0.1949 - val_accuracy: 0.9470\n",
      "Epoch 6/10\n",
      "25926/25926 [==============================] - 42s 2ms/sample - loss: 0.0673 - accuracy: 0.9796 - val_loss: 0.2116 - val_accuracy: 0.9492\n",
      "Epoch 7/10\n",
      "25926/25926 [==============================] - 42s 2ms/sample - loss: 0.0600 - accuracy: 0.9807 - val_loss: 0.2327 - val_accuracy: 0.9410\n",
      "Epoch 8/10\n",
      "25926/25926 [==============================] - 41s 2ms/sample - loss: 0.0515 - accuracy: 0.9835 - val_loss: 0.1964 - val_accuracy: 0.9457\n",
      "Epoch 9/10\n",
      "25926/25926 [==============================] - 42s 2ms/sample - loss: 0.0447 - accuracy: 0.9863 - val_loss: 0.2485 - val_accuracy: 0.9492\n",
      "Epoch 10/10\n",
      "25926/25926 [==============================] - 44s 2ms/sample - loss: 0.0336 - accuracy: 0.9909 - val_loss: 0.2242 - val_accuracy: 0.9515\n"
     ]
    },
    {
     "name": "stderr",
     "output_type": "stream",
     "text": [
      "\r",
      "  0%|          | 0/4663 [00:00<?, ?it/s]"
     ]
    },
    {
     "name": "stdout",
     "output_type": "stream",
     "text": [
      "------------------------------------------\n",
      "False negative\n",
      "Label =  Bias triangle  =  1\n",
      "prediction =  0\n"
     ]
    },
    {
     "data": {
      "image/png": "[encoded data removed]",
      "text/plain": [
       "<Figure size 432x288 with 1 Axes>"
      ]
     },
     "metadata": {
      "needs_background": "light"
     },
     "output_type": "display_data"
    },
    {
     "name": "stderr",
     "output_type": "stream",
     "text": [
      "\r",
      "  0%|          | 1/4663 [00:00<31:11,  2.49it/s]"
     ]
    },
    {
     "name": "stdout",
     "output_type": "stream",
     "text": [
      "------------------------------------------\n",
      "True negative\n",
      "Label =  No triangle  =  0\n",
      "prediction =  0\n"
     ]
    },
    {
     "data": {
      "image/png": "[encoded data removed]",
      "text/plain": [
       "<Figure size 432x288 with 1 Axes>"
      ]
     },
     "metadata": {
      "needs_background": "light"
     },
     "output_type": "display_data"
    },
    {
     "name": "stderr",
     "output_type": "stream",
     "text": [
      "\r",
      "  0%|          | 2/4663 [00:00<25:21,  3.06it/s]"
     ]
    },
    {
     "name": "stdout",
     "output_type": "stream",
     "text": [
      "------------------------------------------\n",
      "True negative\n",
      "Label =  No triangle  =  0\n",
      "prediction =  0\n"
     ]
    },
    {
     "data": {
      "image/png": "[encoded data removed]",
      "text/plain": [
       "<Figure size 432x288 with 1 Axes>"
      ]
     },
     "metadata": {
      "needs_background": "light"
     },
     "output_type": "display_data"
    },
    {
     "name": "stderr",
     "output_type": "stream",
     "text": [
      "\r",
      "  0%|          | 3/4663 [00:00<22:53,  3.39it/s]"
     ]
    },
    {
     "name": "stdout",
     "output_type": "stream",
     "text": [
      "------------------------------------------\n",
      "True negative\n",
      "Label =  No triangle  =  0\n",
      "prediction =  0\n"
     ]
    },
    {
     "data": {
      "image/png": "[encoded data removed]",
      "text/plain": [
       "<Figure size 432x288 with 1 Axes>"
      ]
     },
     "metadata": {
      "needs_background": "light"
     },
     "output_type": "display_data"
    },
    {
     "name": "stderr",
     "output_type": "stream",
     "text": [
      "\r",
      "  0%|          | 4/4663 [00:00<19:38,  3.95it/s]"
     ]
    },
    {
     "name": "stdout",
     "output_type": "stream",
     "text": [
      "------------------------------------------\n",
      "True negative\n",
      "Label =  No triangle  =  0\n",
      "prediction =  0\n"
     ]
    },
    {
     "data": {
      "image/png": "[encoded data removed]",
      "text/plain": [
       "<Figure size 432x288 with 1 Axes>"
      ]
     },
     "metadata": {
      "needs_background": "light"
     },
     "output_type": "display_data"
    },
    {
     "name": "stderr",
     "output_type": "stream",
     "text": [
      "100%|██████████| 4663/4663 [03:06<00:00, 24.96it/s]\n"
     ]
    },
    {
     "name": "stdout",
     "output_type": "stream",
     "text": [
      "Trained on 18652\n",
      "Validated on 4663\n",
      "Model: \"sequential_1\"\n",
      "_________________________________________________________________\n",
      "Layer (type)                 Output Shape              Param #   \n",
      "=================================================================\n",
      "conv2d_5 (Conv2D)            (None, 32, 32, 32)        320       \n",
      "_________________________________________________________________\n",
      "max_pooling2d_4 (MaxPooling2 (None, 16, 16, 32)        0         \n",
      "_________________________________________________________________\n",
      "conv2d_6 (Conv2D)            (None, 16, 16, 64)        18496     \n",
      "_________________________________________________________________\n",
      "max_pooling2d_5 (MaxPooling2 (None, 8, 8, 64)          0         \n",
      "_________________________________________________________________\n",
      "conv2d_7 (Conv2D)            (None, 8, 8, 64)          36928     \n",
      "_________________________________________________________________\n",
      "max_pooling2d_6 (MaxPooling2 (None, 4, 4, 64)          0         \n",
      "_________________________________________________________________\n",
      "conv2d_8 (Conv2D)            (None, 4, 4, 64)          36928     \n",
      "_________________________________________________________________\n",
      "max_pooling2d_7 (MaxPooling2 (None, 2, 2, 64)          0         \n",
      "_________________________________________________________________\n",
      "conv2d_9 (Conv2D)            (None, 2, 2, 64)          36928     \n",
      "_________________________________________________________________\n",
      "flatten_1 (Flatten)          (None, 256)               0         \n",
      "_________________________________________________________________\n",
      "dense_3 (Dense)              (None, 64)                16448     \n",
      "_________________________________________________________________\n",
      "dropout_2 (Dropout)          (None, 64)                0         \n",
      "_________________________________________________________________\n",
      "dense_4 (Dense)              (None, 32)                2080      \n",
      "_________________________________________________________________\n",
      "dropout_3 (Dropout)          (None, 32)                0         \n",
      "_________________________________________________________________\n",
      "dense_5 (Dense)              (None, 1)                 33        \n",
      "=================================================================\n",
      "Total params: 148,161\n",
      "Trainable params: 148,161\n",
      "Non-trainable params: 0\n",
      "_________________________________________________________________\n",
      "Train on 26168 samples, validate on 4663 samples\n",
      "Epoch 1/10\n",
      "26168/26168 [==============================] - 42s 2ms/sample - loss: 0.3166 - accuracy: 0.8796 - val_loss: 0.2266 - val_accuracy: 0.8998\n",
      "Epoch 2/10\n",
      "26168/26168 [==============================] - 42s 2ms/sample - loss: 0.2061 - accuracy: 0.9243 - val_loss: 0.2161 - val_accuracy: 0.9153\n",
      "Epoch 3/10\n",
      "26168/26168 [==============================] - 42s 2ms/sample - loss: 0.1542 - accuracy: 0.9447 - val_loss: 0.1594 - val_accuracy: 0.9382\n",
      "Epoch 4/10\n",
      "26168/26168 [==============================] - 41s 2ms/sample - loss: 0.1167 - accuracy: 0.9608 - val_loss: 0.1584 - val_accuracy: 0.9430\n",
      "Epoch 5/10\n",
      "26168/26168 [==============================] - 41s 2ms/sample - loss: 0.0904 - accuracy: 0.9698 - val_loss: 0.1648 - val_accuracy: 0.9524\n",
      "Epoch 6/10\n",
      "26168/26168 [==============================] - 42s 2ms/sample - loss: 0.0757 - accuracy: 0.9757 - val_loss: 0.1624 - val_accuracy: 0.9485\n",
      "Epoch 7/10\n",
      "26168/26168 [==============================] - 42s 2ms/sample - loss: 0.0596 - accuracy: 0.9817 - val_loss: 0.1851 - val_accuracy: 0.9532\n",
      "Epoch 8/10\n",
      "26168/26168 [==============================] - 41s 2ms/sample - loss: 0.0539 - accuracy: 0.9813 - val_loss: 0.2046 - val_accuracy: 0.9528\n",
      "Epoch 9/10\n",
      "26168/26168 [==============================] - 41s 2ms/sample - loss: 0.0413 - accuracy: 0.9871 - val_loss: 0.1814 - val_accuracy: 0.9543\n",
      "Epoch 10/10\n",
      "26168/26168 [==============================] - 41s 2ms/sample - loss: 0.0384 - accuracy: 0.9886 - val_loss: 0.2389 - val_accuracy: 0.9445\n"
     ]
    },
    {
     "name": "stderr",
     "output_type": "stream",
     "text": [
      "\r",
      "  0%|          | 0/4663 [00:00<?, ?it/s]"
     ]
    },
    {
     "name": "stdout",
     "output_type": "stream",
     "text": [
      "------------------------------------------\n",
      "True positive\n",
      "Label =  Bias triangle  =  1\n",
      "prediction =  1\n"
     ]
    },
    {
     "data": {
      "image/png": "[encoded data removed]",
      "text/plain": [
       "<Figure size 432x288 with 1 Axes>"
      ]
     },
     "metadata": {
      "needs_background": "light"
     },
     "output_type": "display_data"
    },
    {
     "name": "stderr",
     "output_type": "stream",
     "text": [
      "\r",
      "  0%|          | 1/4663 [00:00<20:51,  3.72it/s]"
     ]
    },
    {
     "name": "stdout",
     "output_type": "stream",
     "text": [
      "------------------------------------------\n",
      "True negative\n",
      "Label =  No triangle  =  0\n",
      "prediction =  0\n"
     ]
    },
    {
     "data": {
      "image/png": "[encoded data removed]",
      "text/plain": [
       "<Figure size 432x288 with 1 Axes>"
      ]
     },
     "metadata": {
      "needs_background": "light"
     },
     "output_type": "display_data"
    },
    {
     "name": "stderr",
     "output_type": "stream",
     "text": [
      "\r",
      "  0%|          | 2/4663 [00:00<18:06,  4.29it/s]"
     ]
    },
    {
     "name": "stdout",
     "output_type": "stream",
     "text": [
      "------------------------------------------\n",
      "True negative\n",
      "Label =  No triangle  =  0\n",
      "prediction =  0\n"
     ]
    },
    {
     "data": {
      "image/png": "[encoded data removed]",
      "text/plain": [
       "<Figure size 432x288 with 1 Axes>"
      ]
     },
     "metadata": {
      "needs_background": "light"
     },
     "output_type": "display_data"
    },
    {
     "name": "stderr",
     "output_type": "stream",
     "text": [
      "\r",
      "  0%|          | 3/4663 [00:00<16:08,  4.81it/s]"
     ]
    },
    {
     "name": "stdout",
     "output_type": "stream",
     "text": [
      "------------------------------------------\n",
      "True negative\n",
      "Label =  No triangle  =  0\n",
      "prediction =  0\n"
     ]
    },
    {
     "data": {
      "image/png": "[encoded data removed]",
      "text/plain": [
       "<Figure size 432x288 with 1 Axes>"
      ]
     },
     "metadata": {
      "needs_background": "light"
     },
     "output_type": "display_data"
    },
    {
     "name": "stderr",
     "output_type": "stream",
     "text": [
      "\r",
      "  0%|          | 4/4663 [00:00<14:47,  5.25it/s]"
     ]
    },
    {
     "name": "stdout",
     "output_type": "stream",
     "text": [
      "------------------------------------------\n",
      "True negative\n",
      "Label =  No triangle  =  0\n",
      "prediction =  0\n"
     ]
    },
    {
     "data": {
      "image/png": "[encoded data removed]",
      "text/plain": [
       "<Figure size 432x288 with 1 Axes>"
      ]
     },
     "metadata": {
      "needs_background": "light"
     },
     "output_type": "display_data"
    },
    {
     "name": "stderr",
     "output_type": "stream",
     "text": [
      "100%|██████████| 4663/4663 [03:13<00:00, 24.13it/s]\n"
     ]
    },
    {
     "name": "stdout",
     "output_type": "stream",
     "text": [
      "Trained on 18652\n",
      "Validated on 4663\n",
      "Model: \"sequential_2\"\n",
      "_________________________________________________________________\n",
      "Layer (type)                 Output Shape              Param #   \n",
      "=================================================================\n",
      "conv2d_10 (Conv2D)           (None, 32, 32, 32)        320       \n",
      "_________________________________________________________________\n",
      "max_pooling2d_8 (MaxPooling2 (None, 16, 16, 32)        0         \n",
      "_________________________________________________________________\n",
      "conv2d_11 (Conv2D)           (None, 16, 16, 64)        18496     \n",
      "_________________________________________________________________\n",
      "max_pooling2d_9 (MaxPooling2 (None, 8, 8, 64)          0         \n",
      "_________________________________________________________________\n",
      "conv2d_12 (Conv2D)           (None, 8, 8, 64)          36928     \n",
      "_________________________________________________________________\n",
      "max_pooling2d_10 (MaxPooling (None, 4, 4, 64)          0         \n",
      "_________________________________________________________________\n",
      "conv2d_13 (Conv2D)           (None, 4, 4, 64)          36928     \n",
      "_________________________________________________________________\n",
      "max_pooling2d_11 (MaxPooling (None, 2, 2, 64)          0         \n",
      "_________________________________________________________________\n",
      "conv2d_14 (Conv2D)           (None, 2, 2, 64)          36928     \n",
      "_________________________________________________________________\n",
      "flatten_2 (Flatten)          (None, 256)               0         \n",
      "_________________________________________________________________\n",
      "dense_6 (Dense)              (None, 64)                16448     \n",
      "_________________________________________________________________\n",
      "dropout_4 (Dropout)          (None, 64)                0         \n",
      "_________________________________________________________________\n",
      "dense_7 (Dense)              (None, 32)                2080      \n",
      "_________________________________________________________________\n",
      "dropout_5 (Dropout)          (None, 32)                0         \n",
      "_________________________________________________________________\n",
      "dense_8 (Dense)              (None, 1)                 33        \n",
      "=================================================================\n",
      "Total params: 148,161\n",
      "Trainable params: 148,161\n",
      "Non-trainable params: 0\n",
      "_________________________________________________________________\n",
      "Train on 26106 samples, validate on 4663 samples\n",
      "Epoch 1/10\n",
      "26106/26106 [==============================] - 43s 2ms/sample - loss: 0.3006 - accuracy: 0.8874 - val_loss: 0.2864 - val_accuracy: 0.8893\n",
      "Epoch 2/10\n",
      "26106/26106 [==============================] - 43s 2ms/sample - loss: 0.2022 - accuracy: 0.9256 - val_loss: 0.1734 - val_accuracy: 0.9333\n",
      "Epoch 3/10\n",
      "26106/26106 [==============================] - 41s 2ms/sample - loss: 0.1546 - accuracy: 0.9448 - val_loss: 0.2336 - val_accuracy: 0.9061\n",
      "Epoch 4/10\n",
      "26106/26106 [==============================] - 42s 2ms/sample - loss: 0.1265 - accuracy: 0.9566 - val_loss: 0.1688 - val_accuracy: 0.9440\n",
      "Epoch 5/10\n",
      "26106/26106 [==============================] - 42s 2ms/sample - loss: 0.0974 - accuracy: 0.9676 - val_loss: 0.2462 - val_accuracy: 0.9239\n",
      "Epoch 6/10\n",
      "26106/26106 [==============================] - 42s 2ms/sample - loss: 0.0735 - accuracy: 0.9772 - val_loss: 0.1767 - val_accuracy: 0.9507\n",
      "Epoch 7/10\n",
      "26106/26106 [==============================] - 42s 2ms/sample - loss: 0.0619 - accuracy: 0.9803 - val_loss: 0.2020 - val_accuracy: 0.9545\n",
      "Epoch 8/10\n",
      "26106/26106 [==============================] - 42s 2ms/sample - loss: 0.0513 - accuracy: 0.9841 - val_loss: 0.2195 - val_accuracy: 0.9410\n",
      "Epoch 9/10\n",
      "26106/26106 [==============================] - 41s 2ms/sample - loss: 0.0490 - accuracy: 0.9843 - val_loss: 0.2034 - val_accuracy: 0.9462\n",
      "Epoch 10/10\n",
      "26106/26106 [==============================] - 42s 2ms/sample - loss: 0.0342 - accuracy: 0.9897 - val_loss: 0.2352 - val_accuracy: 0.9517\n"
     ]
    },
    {
     "name": "stderr",
     "output_type": "stream",
     "text": [
      "\r",
      "  0%|          | 0/4663 [00:00<?, ?it/s]"
     ]
    },
    {
     "name": "stdout",
     "output_type": "stream",
     "text": [
      "------------------------------------------\n",
      "True negative\n",
      "Label =  No triangle  =  0\n",
      "prediction =  0\n"
     ]
    },
    {
     "data": {
      "image/png": "[encoded data removed]",
      "text/plain": [
       "<Figure size 432x288 with 1 Axes>"
      ]
     },
     "metadata": {
      "needs_background": "light"
     },
     "output_type": "display_data"
    },
    {
     "name": "stderr",
     "output_type": "stream",
     "text": [
      "\r",
      "  0%|          | 1/4663 [00:00<29:29,  2.63it/s]"
     ]
    },
    {
     "name": "stdout",
     "output_type": "stream",
     "text": [
      "------------------------------------------\n",
      "True negative\n",
      "Label =  No triangle  =  0\n",
      "prediction =  0\n"
     ]
    },
    {
     "data": {
      "image/png": "[encoded data removed]",
      "text/plain": [
       "<Figure size 432x288 with 1 Axes>"
      ]
     },
     "metadata": {
      "needs_background": "light"
     },
     "output_type": "display_data"
    },
    {
     "name": "stderr",
     "output_type": "stream",
     "text": [
      "\r",
      "  0%|          | 2/4663 [00:00<24:57,  3.11it/s]"
     ]
    },
    {
     "name": "stdout",
     "output_type": "stream",
     "text": [
      "------------------------------------------\n",
      "True positive\n",
      "Label =  Bias triangle  =  1\n",
      "prediction =  1\n"
     ]
    },
    {
     "data": {
      "image/png": "[encoded data removed]",
      "text/plain": [
       "<Figure size 432x288 with 1 Axes>"
      ]
     },
     "metadata": {
      "needs_background": "light"
     },
     "output_type": "display_data"
    },
    {
     "name": "stderr",
     "output_type": "stream",
     "text": [
      "\r",
      "  0%|          | 3/4663 [00:00<21:12,  3.66it/s]"
     ]
    },
    {
     "name": "stdout",
     "output_type": "stream",
     "text": [
      "------------------------------------------\n",
      "True negative\n",
      "Label =  No triangle  =  0\n",
      "prediction =  0\n"
     ]
    },
    {
     "data": {
      "image/png": "[encoded data removed]",
      "text/plain": [
       "<Figure size 432x288 with 1 Axes>"
      ]
     },
     "metadata": {
      "needs_background": "light"
     },
     "output_type": "display_data"
    },
    {
     "name": "stderr",
     "output_type": "stream",
     "text": [
      "\r",
      "  0%|          | 4/4663 [00:00<18:29,  4.20it/s]"
     ]
    },
    {
     "name": "stdout",
     "output_type": "stream",
     "text": [
      "------------------------------------------\n",
      "True negative\n",
      "Label =  No triangle  =  0\n",
      "prediction =  0\n"
     ]
    },
    {
     "data": {
      "image/png": "[encoded data removed]",
      "text/plain": [
       "<Figure size 432x288 with 1 Axes>"
      ]
     },
     "metadata": {
      "needs_background": "light"
     },
     "output_type": "display_data"
    },
    {
     "name": "stderr",
     "output_type": "stream",
     "text": [
      "100%|██████████| 4663/4663 [04:09<00:00, 18.65it/s]  \n"
     ]
    }
   ],
   "source": [
    "perc_true_positive_tot = []\n",
    "perc_false_positive_tot = []\n",
    "perc_true_negative_tot = []\n",
    "perc_false_negative_tot = []\n",
    "\n",
    "for i in range(3):\n",
    "    \n",
    "    def myfunction():\n",
    "        return 0.9\n",
    "    z=np.arange(len(data_total))\n",
    "    random.shuffle(z)\n",
    "    images_copy=data_total.copy()\n",
    "    images_shuffle=data_total.copy()\n",
    "    labels_copy=labels_total.copy()\n",
    "    labels_shuffle=labels_total.copy()\n",
    "    for i in range(len(data_total)):\n",
    "        images_shuffle[i]=images_copy[z[i]]\n",
    "        labels_shuffle[i]=labels_copy[z[i]]\n",
    "    images_shuffle,labels_shuffle = normalise(images_shuffle,labels_shuffle) #Data now shuffled\n",
    "    \n",
    "    val_split = 0.2\n",
    "    val_set = np.int(val_split*np.shape(labels_shuffle)[0])\n",
    "    train_images= np.array(images_shuffle[val_set:]).reshape(-1, 32, 32, 1)\n",
    "    train_labels = np.array(labels_shuffle[val_set:]).reshape(-1, 1)\n",
    "    validate_images = np.array(images_shuffle[:val_set]).reshape(-1, 32, 32, 1)\n",
    "    validate_labels = np.array(labels_shuffle[:val_set]).reshape(-1, 1) #Data now reshaped\n",
    "    train_images_squeeze=np.squeeze(train_images.copy())\n",
    "    train_labels_squeeze=np.squeeze(train_labels.copy()) #Data now Squeezed\n",
    "\n",
    "    positives_train_X = np.zeros(shape=(len(train_images),32,32,1))\n",
    "    j=0\n",
    "    for i in range(len(train_labels)):\n",
    "        if train_labels[i]==1:\n",
    "            positives_train_X[j] = train_images[i]\n",
    "            j +=1\n",
    "    positives_train_X_2= np.delete(positives_train_X.copy(), np.s_[j:], 0)\n",
    "    doubled_positives_train_X_2=np.concatenate((positives_train_X_2,positives_train_X_2), axis=0)\n",
    "    doubled_positives_train_Y = np.ones(shape=(len(doubled_positives_train_X_2),1),dtype=int)\n",
    "    extra_train_images=np.concatenate((train_images.copy(),doubled_positives_train_X_2.copy()),axis=0)\n",
    "    extra_train_labels=np.concatenate((train_labels.copy(),doubled_positives_train_Y.copy()),axis=0) #Now Upsampled\n",
    "    \n",
    "    train_images_1= extra_train_images\n",
    "    train_labels_1 = extra_train_labels\n",
    "    validate_images_1 = validate_images\n",
    "    validate_labels_1 = validate_labels\n",
    "    \n",
    "    \n",
    "    model_binary_classifier,percent_true_positive, percent_false_positive,percent_true_negative,percent_false_negative = model_main()\n",
    "    \n",
    "    perc_true_positive_tot.append(percent_true_positive)\n",
    "    perc_false_positive_tot.append(percent_false_positive)\n",
    "    perc_true_negative_tot.append(percent_true_negative)\n",
    "    perc_false_negative_tot.append(percent_false_negative)"
   ]
  },
  {
   "cell_type": "code",
   "execution_count": 8,
   "metadata": {},
   "outputs": [],
   "source": [
    "import csv\n",
    "total_dict = {'1': perc_false_positive_tot, \n",
    "         '2': perc_false_negative_tot, \n",
    "         '3': perc_true_positive_tot, \n",
    "         '4': perc_true_negative_tot\n",
    "        }\n",
    " \n",
    "keys = sorted(total_dict.keys())\n",
    "with open(\"CNN_CPCPCPCPC_upsampled_3runs_10epochs.csv\", \"w\") as outfile:\n",
    "    writer = csv.writer(outfile, delimiter = \"\\t\")\n",
    "    writer.writerow(keys)\n",
    "    writer.writerows(zip(*[total_dict[key] for key in keys]))"
   ]
  },
  {
   "cell_type": "code",
   "execution_count": 9,
   "metadata": {},
   "outputs": [],
   "source": [
    "# plt.plot(np.linspace(-7,0,7),n_true_positive,label='true_positive')\n",
    "# plt.plot(np.linspace(-7,0,7),n_false_positive,label='false_positive') \n",
    "# plt.plot(np.linspace(-7,0,7),n_true_negative,label='true_negative') \n",
    "# plt.plot(np.linspace(-7,0,7),n_false_negative,label='false_negative') \n",
    "# plt.xlabel('log( L2 )')\n",
    "# plt.ylabel('Percentage (%)')\n",
    "# plt.legend()\n",
    "# plt.show()\n",
    "  "
   ]
  },
  {
   "cell_type": "code",
   "execution_count": 10,
   "metadata": {},
   "outputs": [],
   "source": [
    "cwd = os.chdir(primary_dir)\n",
    "model_binary_classifier.save('bias_triangle_binary_classifier.h5')\n",
    " "
   ]
  },
  {
   "cell_type": "code",
   "execution_count": 11,
   "metadata": {},
   "outputs": [
    {
     "ename": "NameError",
     "evalue": "name 'n_true_positive' is not defined",
     "output_type": "error",
     "traceback": [
      "\u001b[0;31m---------------------------------------------------------------------------\u001b[0m",
      "\u001b[0;31mNameError\u001b[0m                                 Traceback (most recent call last)",
      "\u001b[0;32m<ipython-input-11-920c3c57a146>\u001b[0m in \u001b[0;36m<module>\u001b[0;34m\u001b[0m\n\u001b[1;32m      1\u001b[0m \u001b[0mobjects\u001b[0m \u001b[0;34m=\u001b[0m \u001b[0;34m(\u001b[0m\u001b[0;34m'true_positive'\u001b[0m\u001b[0;34m,\u001b[0m\u001b[0;34m'false_positive'\u001b[0m\u001b[0;34m,\u001b[0m\u001b[0;34m'true_negative'\u001b[0m\u001b[0;34m,\u001b[0m\u001b[0;34m'false_negative'\u001b[0m\u001b[0;34m)\u001b[0m\u001b[0;34m\u001b[0m\u001b[0;34m\u001b[0m\u001b[0m\n\u001b[1;32m      2\u001b[0m \u001b[0my_pos\u001b[0m \u001b[0;34m=\u001b[0m \u001b[0mnp\u001b[0m\u001b[0;34m.\u001b[0m\u001b[0marange\u001b[0m\u001b[0;34m(\u001b[0m\u001b[0mlen\u001b[0m\u001b[0;34m(\u001b[0m\u001b[0mobjects\u001b[0m\u001b[0;34m)\u001b[0m\u001b[0;34m)\u001b[0m\u001b[0;34m\u001b[0m\u001b[0;34m\u001b[0m\u001b[0m\n\u001b[0;32m----> 3\u001b[0;31m \u001b[0mperformance\u001b[0m \u001b[0;34m=\u001b[0m \u001b[0;34m[\u001b[0m\u001b[0mn_true_positive\u001b[0m\u001b[0;34m,\u001b[0m\u001b[0mn_false_positive\u001b[0m\u001b[0;34m,\u001b[0m\u001b[0mn_true_negative\u001b[0m\u001b[0;34m,\u001b[0m\u001b[0mn_false_negative\u001b[0m\u001b[0;34m]\u001b[0m\u001b[0;34m\u001b[0m\u001b[0;34m\u001b[0m\u001b[0m\n\u001b[0m\u001b[1;32m      4\u001b[0m \u001b[0;34m\u001b[0m\u001b[0m\n\u001b[1;32m      5\u001b[0m \u001b[0mplt\u001b[0m\u001b[0;34m.\u001b[0m\u001b[0mbar\u001b[0m\u001b[0;34m(\u001b[0m\u001b[0my_pos\u001b[0m\u001b[0;34m,\u001b[0m \u001b[0mperformance\u001b[0m\u001b[0;34m,\u001b[0m \u001b[0malign\u001b[0m\u001b[0;34m=\u001b[0m\u001b[0;34m'center'\u001b[0m\u001b[0;34m,\u001b[0m \u001b[0malpha\u001b[0m\u001b[0;34m=\u001b[0m\u001b[0;36m0.5\u001b[0m\u001b[0;34m)\u001b[0m\u001b[0;34m\u001b[0m\u001b[0;34m\u001b[0m\u001b[0m\n",
      "\u001b[0;31mNameError\u001b[0m: name 'n_true_positive' is not defined"
     ]
    }
   ],
   "source": [
    "objects = ('true_positive','false_positive','true_negative','false_negative')\n",
    "y_pos = np.arange(len(objects))\n",
    "performance = [n_true_positive,n_false_positive,n_true_negative,n_false_negative]\n",
    "\n",
    "plt.bar(y_pos, performance, align='center', alpha=0.5)\n",
    "plt.xticks(y_pos, objects)\n",
    "plt.ylabel('count')\n",
    "plt.title('Confusion parameter')\n",
    "\n",
    "plt.show()\n"
   ]
  },
  {
   "cell_type": "code",
   "execution_count": null,
   "metadata": {},
   "outputs": [],
   "source": [
    "print('Percent true positive  ',n_true_positive,'%')\n",
    "print('Percent false positive  ',n_false_positive,'%')\n",
    "print('Percent true negative  ',n_true_negative,'%')\n",
    "print('Percent false negative  ',n_false_negative,'%')\n",
    "# Percent true positive   11.213235294117647 %\n",
    "# Percent false positive   0.49019607843137253 %\n",
    "# Percent true negative   80.82107843137256 %\n",
    "# Percent false negative   7.4754901960784315 %"
   ]
  },
  {
   "cell_type": "code",
   "execution_count": null,
   "metadata": {},
   "outputs": [],
   "source": [
    "def myfunction():\n",
    "    return 0.9\n",
    "z=np.arange(len(data_total))\n",
    "random.shuffle(z)\n",
    "images_copy=data_total.copy()\n",
    "images_shuffle=data_total.copy()\n",
    "labels_copy=labels_total.copy()\n",
    "labels_shuffle=labels_total.copy()\n",
    "for i in range(len(data_total)):\n",
    "    images_shuffle[i]=images_copy[z[i]]\n",
    "    labels_shuffle[i]=labels_copy[z[i]]\n",
    "images_shuffle,labels_shuffle = normalise(images_shuffle,labels_shuffle) #Data now shuffled\n",
    "\n",
    "\n",
    "\n",
    "val_split = 0.2\n",
    "val_set = np.int(val_split*np.shape(labels_shuffle)[0])\n",
    "train_images= np.array(images_shuffle[val_set:]).reshape(-1, 32, 32, 1)\n",
    "train_labels = np.array(labels_shuffle[val_set:]).reshape(-1, 1)\n",
    "validate_images = np.array(images_shuffle[:val_set]).reshape(-1, 32, 32, 1)\n",
    "validate_labels = np.array(labels_shuffle[:val_set]).reshape(-1, 1) #Data now reshaped\n",
    "train_images_squeeze=np.squeeze(train_images.copy())\n",
    "train_labels_squeeze=np.squeeze(train_labels.copy()) #Data now Squeezed\n",
    "\n",
    "positives_train_X = np.zeros(shape=(len(train_images),32,32,1))\n",
    "j=0\n",
    "for i in range(len(train_labels)):\n",
    "    if train_labels[i]==1:\n",
    "        positives_train_X[j] = train_images[i]\n",
    "        j +=1\n",
    "        \n",
    "T = len(train_labels)\n",
    "print(T)\n",
    "print(j)\n",
    "print(3*j)\n",
    "print(2*j + T)\n",
    "\n",
    "print(j/T)\n",
    "print(3*j/(T+2*j))\n",
    "\n",
    "\n",
    "positives_train_X_2= np.delete(positives_train_X.copy(), np.s_[j:], 0)\n",
    "doubled_positives_train_X_2=np.concatenate((positives_train_X_2,positives_train_X_2), axis=0)\n",
    "doubled_positives_train_Y = np.ones(shape=(len(doubled_positives_train_X_2),1),dtype=int)\n",
    "extra_train_images=np.concatenate((train_images.copy(),doubled_positives_train_X_2.copy()),axis=0)\n",
    "extra_train_labels=np.concatenate((train_labels.copy(),doubled_positives_train_Y.copy()),axis=0) #Now Upsampled\n",
    "\n",
    "train_images_1= extra_train_images\n",
    "train_labels_1 = extra_train_labels\n",
    "validate_images_1 = validate_images\n",
    "validate_labels_1 = validate_labels"
   ]
  }
 ],
 "metadata": {
  "kernelspec": {
   "display_name": "Python 3",
   "language": "python",
   "name": "python3"
  },
  "language_info": {
   "codemirror_mode": {
    "name": "ipython",
    "version": 3
   },
   "file_extension": ".py",
   "mimetype": "text/x-python",
   "name": "python",
   "nbconvert_exporter": "python",
   "pygments_lexer": "ipython3",
   "version": "3.7.4"
  }
 },
 "nbformat": 4,
 "nbformat_minor": 2
}
