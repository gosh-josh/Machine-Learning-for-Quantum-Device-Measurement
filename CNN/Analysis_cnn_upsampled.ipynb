{
 "cells": [
  {
   "cell_type": "code",
   "execution_count": 2,
   "metadata": {},
   "outputs": [],
   "source": [
    "binary_dict = {0: 'No triangle', 1 : 'Bias triangle'}"
   ]
  },
  {
   "cell_type": "code",
   "execution_count": 1,
   "metadata": {},
   "outputs": [
    {
     "data": {
      "text/html": [
       "\n",
       "      <iframe id=\"tensorboard-frame-874f9b7ee6ba921d\" width=\"100%\" height=\"800\" frameborder=\"0\">\n",
       "      </iframe>\n",
       "      <script>\n",
       "        (function() {\n",
       "          const frame = document.getElementById(\"tensorboard-frame-874f9b7ee6ba921d\");\n",
       "          const url = new URL(\"/\", window.location);\n",
       "          url.port = 6006;\n",
       "          frame.src = url;\n",
       "        })();\n",
       "      </script>\n",
       "  "
      ],
      "text/plain": [
       "<IPython.core.display.HTML object>"
      ]
     },
     "metadata": {},
     "output_type": "display_data"
    }
   ],
   "source": [
    "import matplotlib.pyplot as plt\n",
    "%matplotlib inline\n",
    "import numpy as np\n",
    "import pickle\n",
    "import tensorflow as tf\n",
    "from tensorflow.keras import datasets, layers, models, regularizers\n",
    "from tensorflow import keras as k\n",
    "import random\n",
    "from tqdm import tqdm\n",
    "import shutil\n",
    "import datetime, os\n",
    "tf.random.set_seed(1)\n",
    "\n",
    "cwd = os.getcwd()\n",
    "primary_dir = os.fsencode(cwd)\n",
    "\n",
    "\n",
    "\n",
    "shutil.rmtree(\"/Users/joshking/Dropbox/Quantum/logs\")\n",
    "logs_base_dir = \"/Users/joshking/Dropbox/Quantum/logs\"\n",
    "os.makedirs(logs_base_dir, exist_ok=True)\n",
    "\n",
    "%reload_ext tensorboard\n",
    "%tensorboard --logdir {logs_base_dir}\n",
    "\n",
    "tensorboard_callback = k.callbacks.TensorBoard(log_dir=logs_base_dir,update_freq='epoch',embeddings_freq=0,\n",
    "                                               profile_batch = 0)\n",
    "writer = tf.summary.create_file_writer(\"C:/Quantum/Seb_CNN/logs\")"
   ]
  },
  {
   "cell_type": "code",
   "execution_count": 5,
   "metadata": {},
   "outputs": [],
   "source": [
    "def create_model(pixel_size=32,dense_layers = [32*2,32],drop_out=0.4,l2=0.0001):\n",
    "    model = models.Sequential()\n",
    "    model.add(layers.Conv2D(pixel_size, (3, 3), activation='relu', input_shape=(pixel_size, pixel_size, 1)))\n",
    "    model.add(layers.MaxPooling2D((2, 2)))\n",
    "    model.add(layers.Conv2D(pixel_size*2, (3, 3), activation='relu'))\n",
    "#     model.add(layers.MaxPooling2D((2, 2)))\n",
    "#     model.add(layers.Conv2D(pixel_size*2, (3, 3), activation='relu'))\n",
    "    \n",
    "    model.add(layers.Flatten())\n",
    "  \n",
    "    for dense_layer in dense_layers:\n",
    "        model.add(layers.Dense(dense_layer, activation='elu',kernel_regularizer=regularizers.l2(l2)))\n",
    "        model.add(layers.Dropout(drop_out))\n",
    "    \n",
    "    model.add(layers.Dense(1, activation='sigmoid'))\n",
    "    return model\n",
    "\n",
    "def compile_model(model):\n",
    "    model.compile(optimizer='adam',\n",
    "             loss='binary_crossentropy',\n",
    "              metrics=['accuracy'])\n",
    "    return model\n",
    "\n",
    "def train_model(model,train_images,train_labels,test_images,test_labels,epochs,batch_size):\n",
    "    history = model.fit(train_images,train_labels,shuffle=True, epochs=epochs, batch_size=batch_size, \n",
    "                        validation_data=(test_images,test_labels),callbacks=[tensorboard_callback])\n",
    "    return model, history\n",
    "\n",
    "def evaluate_model(model,history, test_images,test_labels):\n",
    "    plt.clf()\n",
    "    plt.plot(history.history['accuracy'], label='accuracy')\n",
    "    plt.plot(history.history['val_accuracy'], label = 'val_accuracy')\n",
    "    plt.xlabel('Epoch')\n",
    "    plt.ylabel('Accuracy')\n",
    "    plt.ylim([0.0, 1.1])\n",
    "    plt.legend(loc='lower right')\n",
    "    plt.show()\n",
    "    \n",
    "    test_loss, test_acc = model.evaluate(test_images,  test_labels, verbose=2)\n",
    "    return test_loss, test_acc\n",
    "\n",
    "def normalise(x, y):\n",
    "    x = tf.image.per_image_standardization(x)\n",
    "    return x, y\n",
    "\n",
    "#help(layers.Conv2D)"
   ]
  },
  {
   "cell_type": "code",
   "execution_count": null,
   "metadata": {},
   "outputs": [],
   "source": []
  },
  {
   "cell_type": "code",
   "execution_count": 6,
   "metadata": {},
   "outputs": [
    {
     "name": "stdout",
     "output_type": "stream",
     "text": [
      "WARNING:tensorflow:From /Users/joshking/opt/anaconda3/lib/python3.7/site-packages/tensorflow_core/python/ops/image_ops_impl.py:1518: div (from tensorflow.python.ops.math_ops) is deprecated and will be removed in a future version.\n",
      "Instructions for updating:\n",
      "Deprecated in favor of operator or tf.math.divide.\n",
      "5090\n",
      "(5090, 1)\n",
      "(13057, 1)\n",
      "(18147, 32, 32, 1)\n",
      "(18147, 1)\n"
     ]
    }
   ],
   "source": [
    "data_total = np.load('/Users/joshking/Dropbox/Quantum/Triangles/normalised_data_matrices_train.npy')\n",
    "labels_total = np.load('/Users/joshking/Dropbox/Quantum/Triangles/normalised_data_labels_train.npy')\n",
    "\n",
    "\n",
    "data_total,labels_total = normalise(data_total,labels_total) \n",
    "\n",
    "val_split = 0.2\n",
    "val_set = np.int(val_split*np.shape(labels_total)[0])\n",
    "\n",
    "train_images= np.array(data_total[val_set:]).reshape(-1, 32, 32, 1)\n",
    "train_labels = np.array(labels_total[val_set:]).reshape(-1, 1)\n",
    "validate_images = np.array(data_total[:val_set]).reshape(-1, 32, 32, 1)\n",
    "validate_labels = np.array(labels_total[:val_set]).reshape(-1, 1)\n",
    "\n",
    "# print(validate_labels.shape)\n",
    "\n",
    "train_images_squeeze=np.squeeze(train_images.copy())\n",
    "train_labels_squeeze=np.squeeze(train_labels.copy())\n",
    "validate_images_squeeze=np.squeeze(validate_images.copy())\n",
    "validate_labels_squeeze=np.squeeze(validate_labels.copy())\n",
    "\n",
    "# print(validate_labels_squeeze.shape)\n",
    "\n",
    "positives_train_X = np.zeros(shape=(len(train_images),32,32,1))\n",
    "j=0\n",
    "for i in range(len(train_labels)):\n",
    "    if train_labels[i]==1:\n",
    "        positives_train_X[j] = train_images[i]\n",
    "        j +=1\n",
    "positives_train_X_2= np.delete(positives_train_X.copy(), np.s_[2545:], 0)\n",
    "\n",
    "doubled_positives_train_X_2=np.concatenate((positives_train_X_2,positives_train_X_2), axis=0)\n",
    "doubled_positives_train_Y = np.ones(shape=(len(doubled_positives_train_X_2),1),dtype=int)\n",
    "# print(doubled_positives_train_X_2.shape)\n",
    "print((len(doubled_positives_train_X_2)))\n",
    "print(doubled_positives_train_Y.shape)\n",
    "print(train_labels.shape)\n",
    "\n",
    "extra_train_images=np.concatenate((train_images.copy(),doubled_positives_train_X_2.copy()),axis=0)\n",
    "extra_train_labels=np.concatenate((train_labels.copy(),doubled_positives_train_Y.copy()),axis=0)\n",
    "\n",
    "print(extra_train_images.shape)\n",
    "print(extra_train_labels.shape)\n",
    "\n",
    "# print(train_labels[-20:])\n",
    "# print(extra_train_labels[-20:])\n",
    "\n",
    "print"
   ]
  },
  {
   "cell_type": "code",
   "execution_count": 68,
   "metadata": {},
   "outputs": [
    {
     "name": "stdout",
     "output_type": "stream",
     "text": [
      "[11719  5469  8594     0 14844 17969  4219  4844     1  6094]\n",
      "(18147, 32, 32, 1)\n"
     ]
    }
   ],
   "source": [
    "import random\n",
    "import numpy as np\n",
    "def myfunction():\n",
    "    return 0.2\n",
    "\n",
    "z=np.arange(len(extra_train_images))\n",
    "random.shuffle(z,myfunction)\n",
    "print(z[:10])\n",
    "\n",
    "extra_train_images_copy=extra_train_images.copy()\n",
    "extra_train_images_shuffle=extra_train_images.copy()\n",
    "\n",
    "extra_train_labels_copy=extra_train_labels.copy()\n",
    "extra_train_labels_shuffle=extra_train_labels.copy()\n",
    "\n",
    "for i in range(len(extra_train_images)):\n",
    "    extra_train_images_shuffle[i]=extra_train_images_copy[z[i]]\n",
    "    extra_train_labels_shuffle[i]=extra_train_labels_copy[z[i]]   \n",
    "print(extra_train_images_shuffle.shape)\n",
    "\n",
    "\n",
    "# fig2=plt.figure(figsize=(8, 8))\n",
    "# columns = 1\n",
    "# rows = 10\n",
    "# for i in range(1, columns*rows +1):\n",
    "#     img = extra_train_images[i+3000].squeeze()\n",
    "#     fig2.add_subplot(rows,1, i)\n",
    "#     plt.imshow(img)\n",
    "# fig1=plt.figure(figsize=(8, 8))\n",
    "# columns = 1\n",
    "# rows = 10\n",
    "# for i in range(1, columns*rows +1):\n",
    "#     img = extra_train_images_shuffle[i+3000].squeeze()\n",
    "#     fig1.add_subplot(rows,1, i)\n",
    "#     plt.imshow(img)\n",
    "# plt.show()\n",
    "# print(extra_train_labels[-20:])\n",
    "# print(extra_train_labels_shuffle[-20:])\n",
    "# print(sum(extra_train_labels)/len(extra_train_labels))\n",
    "# print(sum(train_labels)/len(train_labels))"
   ]
  },
  {
   "cell_type": "code",
   "execution_count": null,
   "metadata": {},
   "outputs": [],
   "source": [
    "#Recursive plotter (?):\n",
    "# w=2\n",
    "# h=10\n",
    "# fig=plt.figure()\n",
    "# for i in range(1,20):\n",
    "#     img = train_images[i].squeeze()\n",
    "#     fig.add_subplot(i,2,1)\n",
    "#     plt.imshow(img)\n",
    "# plt.show()\n"
   ]
  },
  {
   "cell_type": "code",
   "execution_count": null,
   "metadata": {},
   "outputs": [],
   "source": []
  },
  {
   "cell_type": "code",
   "execution_count": 69,
   "metadata": {},
   "outputs": [],
   "source": [
    "def model_main(pixel_size=32,drop_out=0.4,l2=0.0001,epochs = 10,batch_size = 100):\n",
    "    print('Trained on '+str(len(train_labels)))\n",
    "    print('Validated on '+str(len(validate_labels)))\n",
    "\n",
    "    model_binary_classifier = create_model(pixel_size=pixel_size,drop_out=drop_out,l2=l2)\n",
    "    model_binary_classifier.summary()\n",
    "    model_binary_classifier = compile_model(model_binary_classifier)\n",
    "\n",
    "    val_loss, val_acc = train_model(model_binary_classifier,extra_train_images_shuffle,extra_train_labels_shuffle,\n",
    "                                    validate_images,validate_labels,epochs,batch_size)\n",
    "    \n",
    "    true_positive = []\n",
    "    false_positive = []\n",
    "    true_negative = []\n",
    "    false_negative = []\n",
    "    for i in tqdm(range(len(validate_labels))):\n",
    "            label = validate_labels[i][0]\n",
    "            prediction = model_binary_classifier.predict(validate_images[i:i+1])\n",
    "            if (prediction > 0.5):\n",
    "                prediction = 1\n",
    "            else:\n",
    "                prediction = 0\n",
    "            if (prediction == label):\n",
    "                if (label == 1):\n",
    "                    true_positive.append(validate_images[i:i+1])\n",
    "                    prnt = \"True positive\"\n",
    "                else:\n",
    "                    true_negative.append(validate_images[i:i+1])\n",
    "                    prnt = \"True negative\"\n",
    "            else:\n",
    "                if (label == 1):\n",
    "                    false_negative.append(validate_images[i:i+1])\n",
    "                    prnt = \"False negative\"\n",
    "                else:\n",
    "                    false_positive.append(validate_images[i:i+1])\n",
    "                    prnt = \"False positive\"\n",
    "            if (i<5):\n",
    "                print('------------------------------------------')\n",
    "                print(prnt)\n",
    "                print('Label = ', binary_dict[label],\" = \", label)\n",
    "                print('prediction = ', prediction)\n",
    "                plt.clf()\n",
    "                plt.imshow(validate_images[i][:,:,0])\n",
    "                plt.show()\n",
    "        \n",
    "    n_true_positive = np.shape(true_positive)[0]\n",
    "    n_false_positive = np.shape(false_positive)[0]\n",
    "    n_true_negative = np.shape(true_negative)[0]\n",
    "    n_false_negative = np.shape(false_negative)[0]\n",
    "    \n",
    "    total_test = n_true_positive + n_false_positive + n_true_negative + n_false_negative\n",
    "\n",
    "    percent_true_positive = 100 * n_true_positive/total_test\n",
    "    percent_false_positive = 100 *n_false_positive/total_test\n",
    "    percent_true_negative = 100 *n_true_negative/total_test\n",
    "    percent_false_negative = 100 *n_false_negative/total_test\n",
    "\n",
    "    return model_binary_classifier,percent_true_positive,percent_false_positive,percent_true_negative,percent_false_negative"
   ]
  },
  {
   "cell_type": "markdown",
   "metadata": {},
   "source": [
    "l2 = np.logspace(-7,0,7)\n",
    "n_true_positive,n_false_positive,n_true_negative,n_false_negative = np.zeros_like(l2),np.zeros_like(l2),np.zeros_like(l2),np.zeros_like(l2)\n",
    "print(n_true_positive)\n",
    "index = 0\n",
    "#n_true_positive[index], n_false_positive[index],n_true_negative[index],n_false_negative[index] = model_main(item)\n",
    "\n",
    "pixel_size = 32\n",
    "drop_out = 0.4\n",
    "\n",
    "for index,item in enumerate(l2):\n",
    "    model_binary_classifier,n_true_positive[index], n_false_positive[index],n_true_negative[index],n_false_negative[index] = model_main(pixel_size,drop_out,item)"
   ]
  },
  {
   "cell_type": "code",
   "execution_count": 70,
   "metadata": {},
   "outputs": [
    {
     "name": "stdout",
     "output_type": "stream",
     "text": [
      "Trained on 13057\n",
      "Validated on 3264\n",
      "Model: \"sequential_1\"\n",
      "_________________________________________________________________\n",
      "Layer (type)                 Output Shape              Param #   \n",
      "=================================================================\n",
      "conv2d_2 (Conv2D)            (None, 30, 30, 32)        320       \n",
      "_________________________________________________________________\n",
      "max_pooling2d_1 (MaxPooling2 (None, 15, 15, 32)        0         \n",
      "_________________________________________________________________\n",
      "conv2d_3 (Conv2D)            (None, 13, 13, 64)        18496     \n",
      "_________________________________________________________________\n",
      "flatten_1 (Flatten)          (None, 10816)             0         \n",
      "_________________________________________________________________\n",
      "dense_3 (Dense)              (None, 64)                692288    \n",
      "_________________________________________________________________\n",
      "dropout_2 (Dropout)          (None, 64)                0         \n",
      "_________________________________________________________________\n",
      "dense_4 (Dense)              (None, 32)                2080      \n",
      "_________________________________________________________________\n",
      "dropout_3 (Dropout)          (None, 32)                0         \n",
      "_________________________________________________________________\n",
      "dense_5 (Dense)              (None, 1)                 33        \n",
      "=================================================================\n",
      "Total params: 713,217\n",
      "Trainable params: 713,217\n",
      "Non-trainable params: 0\n",
      "_________________________________________________________________\n",
      "Train on 18147 samples, validate on 3264 samples\n",
      "Epoch 1/10\n",
      "18147/18147 [==============================] - 18s 1ms/sample - loss: 0.4681 - accuracy: 0.8250 - val_loss: 0.3631 - val_accuracy: 0.9099\n",
      "Epoch 2/10\n",
      "18147/18147 [==============================] - 17s 933us/sample - loss: 0.4044 - accuracy: 0.8485 - val_loss: 0.3151 - val_accuracy: 0.9139\n",
      "Epoch 3/10\n",
      "18147/18147 [==============================] - 17s 933us/sample - loss: 0.3856 - accuracy: 0.8560 - val_loss: 0.3426 - val_accuracy: 0.9121\n",
      "Epoch 4/10\n",
      "18147/18147 [==============================] - 17s 953us/sample - loss: 0.3695 - accuracy: 0.8618 - val_loss: 0.3424 - val_accuracy: 0.9170\n",
      "Epoch 5/10\n",
      "18147/18147 [==============================] - 17s 963us/sample - loss: 0.3629 - accuracy: 0.8642 - val_loss: 0.3240 - val_accuracy: 0.9200\n",
      "Epoch 6/10\n",
      "18147/18147 [==============================] - 18s 986us/sample - loss: 0.3596 - accuracy: 0.8650 - val_loss: 0.3414 - val_accuracy: 0.9203\n",
      "Epoch 7/10\n",
      "18147/18147 [==============================] - 19s 1ms/sample - loss: 0.3531 - accuracy: 0.8681 - val_loss: 0.3122 - val_accuracy: 0.9268\n",
      "Epoch 8/10\n",
      "18147/18147 [==============================] - 18s 974us/sample - loss: 0.3502 - accuracy: 0.8688 - val_loss: 0.3201 - val_accuracy: 0.9246\n",
      "Epoch 9/10\n",
      "18147/18147 [==============================] - 18s 990us/sample - loss: 0.3458 - accuracy: 0.8700 - val_loss: 0.3388 - val_accuracy: 0.9191\n",
      "Epoch 10/10\n",
      "18147/18147 [==============================] - 17s 962us/sample - loss: 0.3510 - accuracy: 0.8687 - val_loss: 0.3375 - val_accuracy: 0.9213\n"
     ]
    },
    {
     "name": "stderr",
     "output_type": "stream",
     "text": [
      "\r",
      "  0%|          | 0/3264 [00:00<?, ?it/s]"
     ]
    },
    {
     "name": "stdout",
     "output_type": "stream",
     "text": [
      "------------------------------------------\n",
      "True negative\n",
      "Label =  No triangle  =  0\n",
      "prediction =  0\n"
     ]
    },
    {
     "data": {
      "image/png": "[encoded data removed]",
      "text/plain": [
       "<Figure size 432x288 with 1 Axes>"
      ]
     },
     "metadata": {
      "needs_background": "light"
     },
     "output_type": "display_data"
    },
    {
     "name": "stderr",
     "output_type": "stream",
     "text": [
      "\r",
      "  0%|          | 1/3264 [00:00<16:12,  3.36it/s]"
     ]
    },
    {
     "name": "stdout",
     "output_type": "stream",
     "text": [
      "------------------------------------------\n",
      "True negative\n",
      "Label =  No triangle  =  0\n",
      "prediction =  0\n"
     ]
    },
    {
     "data": {
      "image/png": "[encoded data removed]",
      "text/plain": [
       "<Figure size 432x288 with 1 Axes>"
      ]
     },
     "metadata": {
      "needs_background": "light"
     },
     "output_type": "display_data"
    },
    {
     "name": "stderr",
     "output_type": "stream",
     "text": [
      "\r",
      "  0%|          | 2/3264 [00:00<14:41,  3.70it/s]"
     ]
    },
    {
     "name": "stdout",
     "output_type": "stream",
     "text": [
      "------------------------------------------\n",
      "True negative\n",
      "Label =  No triangle  =  0\n",
      "prediction =  0\n"
     ]
    },
    {
     "data": {
      "image/png": "[encoded data removed]",
      "text/plain": [
       "<Figure size 432x288 with 1 Axes>"
      ]
     },
     "metadata": {
      "needs_background": "light"
     },
     "output_type": "display_data"
    },
    {
     "name": "stderr",
     "output_type": "stream",
     "text": [
      "\r",
      "  0%|          | 3/3264 [00:00<13:53,  3.91it/s]"
     ]
    },
    {
     "name": "stdout",
     "output_type": "stream",
     "text": [
      "------------------------------------------\n",
      "True negative\n",
      "Label =  No triangle  =  0\n",
      "prediction =  0\n"
     ]
    },
    {
     "data": {
      "image/png": "[encoded data removed]",
      "text/plain": [
       "<Figure size 432x288 with 1 Axes>"
      ]
     },
     "metadata": {
      "needs_background": "light"
     },
     "output_type": "display_data"
    },
    {
     "name": "stderr",
     "output_type": "stream",
     "text": [
      "\r",
      "  0%|          | 4/3264 [00:00<13:00,  4.18it/s]"
     ]
    },
    {
     "name": "stdout",
     "output_type": "stream",
     "text": [
      "------------------------------------------\n",
      "True negative\n",
      "Label =  No triangle  =  0\n",
      "prediction =  0\n"
     ]
    },
    {
     "data": {
      "image/png": "[encoded data removed]",
      "text/plain": [
       "<Figure size 432x288 with 1 Axes>"
      ]
     },
     "metadata": {
      "needs_background": "light"
     },
     "output_type": "display_data"
    },
    {
     "name": "stderr",
     "output_type": "stream",
     "text": [
      "100%|██████████| 3264/3264 [02:02<00:00, 26.66it/s]\n"
     ]
    }
   ],
   "source": [
    "model_binary_classifier,n_true_positive, n_false_positive,n_true_negative,n_false_negative = model_main()"
   ]
  },
  {
   "cell_type": "markdown",
   "metadata": {},
   "source": [
    "plt.plot(np.linspace(-7,0,7),n_true_positive,label='true_positive')\n",
    "plt.plot(np.linspace(-7,0,7),n_false_positive,label='false_positive')\n",
    "plt.plot(np.linspace(-7,0,7),n_true_negative,label='true_negative')\n",
    "plt.plot(np.linspace(-7,0,7),n_false_negative,label='false_negative')\n",
    "plt.xlabel('log( L2 )')\n",
    "plt.ylabel('Percentage (%)')\n",
    "plt.legend()\n",
    "plt.show()"
   ]
  },
  {
   "cell_type": "code",
   "execution_count": 71,
   "metadata": {},
   "outputs": [],
   "source": [
    "cwd = os.chdir(primary_dir)\n",
    "model_binary_classifier.save('/Users/joshking/Dropbox/Quantum/bias_triangle_binary_classifier.h5') "
   ]
  },
  {
   "cell_type": "code",
   "execution_count": 72,
   "metadata": {},
   "outputs": [
    {
     "name": "stdout",
     "output_type": "stream",
     "text": [
      "Percent true positive   12.10171568627451 %\n",
      "Percent false positive   1.286764705882353 %\n",
      "Percent true negative   80.02450980392157 %\n",
      "Percent false negative   6.5870098039215685 %\n",
      "Percent Total True    92.12622549019608 %\n"
     ]
    }
   ],
   "source": [
    "print('Percent true positive  ',n_true_positive,'%')\n",
    "print('Percent false positive  ',n_false_positive,'%')\n",
    "print('Percent true negative  ',n_true_negative,'%')\n",
    "print('Percent false negative  ',n_false_negative,'%')\n",
    "print('Percent Total True   ',(n_true_positive + n_true_negative),'%')"
   ]
  },
  {
   "cell_type": "code",
   "execution_count": null,
   "metadata": {},
   "outputs": [],
   "source": [
    "#help(k.callbacks.TensorBoard)"
   ]
  },
  {
   "cell_type": "code",
   "execution_count": null,
   "metadata": {},
   "outputs": [],
   "source": [
    "n_true_positive + n_true_negative\n"
   ]
  },
  {
   "cell_type": "code",
   "execution_count": null,
   "metadata": {},
   "outputs": [],
   "source": []
  }
 ],
 "metadata": {
  "kernelspec": {
   "display_name": "Python 3",
   "language": "python",
   "name": "python3"
  },
  "language_info": {
   "codemirror_mode": {
    "name": "ipython",
    "version": 3
   },
   "file_extension": ".py",
   "mimetype": "text/x-python",
   "name": "python",
   "nbconvert_exporter": "python",
   "pygments_lexer": "ipython3",
   "version": "3.7.4"
  }
 },
 "nbformat": 4,
 "nbformat_minor": 2
}
